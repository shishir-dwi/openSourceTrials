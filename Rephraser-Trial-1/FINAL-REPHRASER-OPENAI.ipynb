{
 "cells": [
  {
   "cell_type": "code",
   "execution_count": 1,
   "id": "689b69d9-d60e-4577-ac17-ca666f8dc08d",
   "metadata": {},
   "outputs": [],
   "source": [
    "style = \"\"\"should be simpler and use fewer technical terms compared to the original input\"\"\"\n",
    "# style = \"\"\"is in a simple and Easy to understand language\"\"\"\n",
    "# style = \"\"\"should include additional points or details, expanding the content to increase its overall length and provide more information\"\"\"\n",
    "# style = \"\"\"include a summary that explicitly lists the topics covered in the text at the end of the response.\"\"\"\n",
    "# style = \"\"\"Include simple mnemonics or memory aids to help the student remember key concepts.\"\"\"\n",
    "# style = \"\"\"explains the text including an analogy of general everyday activities one can easily infer \"\"\"\n",
    "# style = \"\"\"Ensure the inclusion of examples if not already provided, with the quantity ranging from 2 to 5, wherever feasible.\"\"\""
   ]
  },
  {
   "cell_type": "markdown",
   "id": "13c77509-6889-4a18-a823-a77c3748e808",
   "metadata": {},
   "source": [
    "<!-- messages = prompt_template_1.format_messages(text=input_text, Task=Task, Role=Role, style=style, instructions=instructions, output_format=output_format)\n",
    " -->"
   ]
  },
  {
   "cell_type": "markdown",
   "id": "be9bbed6-9289-4a71-95db-54666b97f4d9",
   "metadata": {},
   "source": [
    "<h1 style = \"color : blue; font-family : verdana\">RUNNING ON THE FINAL SAMPLE OF PME DATA</h1>"
   ]
  },
  {
   "cell_type": "markdown",
   "id": "1f35a48d-abea-4dc2-9f9b-700935da1656",
   "metadata": {},
   "source": [
    "#### getting parsed response"
   ]
  },
  {
   "cell_type": "code",
   "execution_count": 28,
   "id": "03bc15c5-81a1-4fd7-aab9-da167f18894c",
   "metadata": {},
   "outputs": [],
   "source": [
    "def parse_Response(response):\n",
    "   if isinstance(response, str):\n",
    "       # print(response)\n",
    "       start_index = response.find(\"{\")\n",
    "       end_index = response.rfind(\"}\")\n",
    "       if start_index != -1 and end_index != -1:\n",
    "           valid_json_content = response[start_index : end_index + 1]\n",
    "           try:\n",
    "               JSON_response = json.loads(valid_json_content.replace(\"\\n\", \"\"))\n",
    "               # append_list_to_file(JSON_response)\n",
    "               return JSON_response\n",
    "           except json.JSONDecodeError as e:\n",
    "               print(f\"Error decoding JSON response: {e.__class__.__name__} - {e}\\n\\n Still trying to work on particular exceptions ...\")\n",
    "               print(\"Actual Content: \", valid_json_content)\n",
    "       else:\n",
    "           print(\"No valid JSON content found in the response.\")\n",
    "       # time.sleep(50)\n",
    "   elif isinstance(response, dict):\n",
    "       return response\n",
    "   else:\n",
    "       print(\"No response message found\", type(response))\n"
   ]
  },
  {
   "cell_type": "markdown",
   "id": "bf87971e-e7dc-4ddb-bdc3-8faecdb5a3a1",
   "metadata": {},
   "source": [
    "#### rephrasing function"
   ]
  },
  {
   "cell_type": "code",
   "execution_count": 2,
   "id": "95804494-0467-4966-ae9d-f893c92c351e",
   "metadata": {},
   "outputs": [],
   "source": [
    "def rephrasing(summary, style, instructions, output_format, template_string):\n",
    "    model = ChatOpenAI(model=\"gpt-4o-mini\", temperature=0.3)\n",
    "    prompt_template_1 = ChatPromptTemplate.from_template(template_string)\n",
    "    # style - 01\n",
    "    particular_message = prompt_template_1.format_messages(\n",
    "        system_message=(\n",
    "            \"You are an Educational AI model that assists in rephrasing text based on guidelines. \"\n",
    "            \"Your task is to rephrase the given text with the following details:\\n\"\n",
    "            \"- Style: {style}\\n\"\n",
    "            \"- Instructions: {instructions}\\n\"\n",
    "            \"- Output format: {output_format}\"\n",
    "        ),\n",
    "        user_message=summary\n",
    "    )\n",
    "    \n",
    "    # style - 02 \n",
    "    # particular_message = prompt_template_1.format_messages(\n",
    "    #     system_message=\"You are an Educational AI model that assists in rephrasing text based on guidelines.\",\n",
    "    #     user_message=f\"Given content: {summary}\\n\\nRephrase this text with the following guidelines:\\n\\n- Style: {style}\\n- Instructions: {instructions}\\n\\nOutput format:\\n{output_format}\"\n",
    "    # )\n",
    "\n",
    "    try:\n",
    "        response = model.invoke(particular_message)\n",
    "        rephrasedAns = response.content\n",
    "        parsed_output = parse_Response(rephrasedAns)\n",
    "        if parsed_output:\n",
    "            return parsed_output\n",
    "        else:\n",
    "            raise ValueError(\"Parsed output is empty or invalid.\")\n",
    "    except Exception as e:\n",
    "        print(f\"An error occurred during rephrasing: {e}\")\n",
    "        return {\"error\": str(e)}\n"
   ]
  },
  {
   "cell_type": "markdown",
   "id": "aeb042ef-768e-4ae5-9210-4e1dd3e12419",
   "metadata": {},
   "source": [
    "#### defining prompt"
   ]
  },
  {
   "cell_type": "code",
   "execution_count": 30,
   "id": "41f54f72-f517-4b17-8349-25d41d0e5da7",
   "metadata": {},
   "outputs": [],
   "source": [
    "def definingPrompt():\n",
    "    style = \"\"\"should be simpler and use fewer technical terms compared to the original input\"\"\"\n",
    "    instructions = (\n",
    "        \"Rephrase the provided text such that it is Concise while retaining its original meaning. \\n\"\n",
    "        \"The generated rephrased answer word length should be around that of the given content. \\n\"\n",
    "        \"Ensure the rephrased response remains in the context of the provided content without introducing unrelated information. \\n\"\n",
    "    )\n",
    "    output_format = (\n",
    "        \"Provide the output in JSON format with the following keys:\\n\"\n",
    "        \"- `input_text`: The original input text.\\n\"\n",
    "        \"- `rephrased_text_response`: The rephrased version of the input text.\"\n",
    "        \"Ensure there is no additional text, commentary, or formatting outside the JSON structure.\"\n",
    "    )\n",
    "    template_string = (\n",
    "        \"You're an Educational AI model designed to Rephrase text, which has all the knowledge of the undergraduate Bachelors of Technology Course.\"\n",
    "        \"Your task is rephrase the given text based on the your style, the context, and the given guidelines. \\n\\n\"\n",
    "        \"Your writing style : {style}. \\n\\n\"\n",
    "        \"Follow these instructions to generate a good quality rephrased answer: {instructions}\\n\"\n",
    "        \"Given content to be used for rephrasing: ```{text}```\\n\\n\"\n",
    "        \"{output_format} \\n\\n\"\n",
    "        \"Ensure that you follow all the above guidelines and rules to generate the rephrased content. Any deviation from these guidelines \\\n",
    "        will result in rephrased content not meeting the education standards required for this exercise.\"\n",
    "    )\n",
    "    return style, instructions, output_format, template_string\n",
    "    \n",
    "    "
   ]
  },
  {
   "cell_type": "markdown",
   "id": "f2a6e25c-cf57-4a33-b6d6-6cb5709b5bef",
   "metadata": {},
   "source": [
    "#### output dataframe file"
   ]
  },
  {
   "cell_type": "code",
   "execution_count": 31,
   "id": "6fa1dace-58c2-4d66-80b3-a8dbf310ad30",
   "metadata": {},
   "outputs": [],
   "source": [
    "def output_df(parsedOutputList):\n",
    "    summAnsList = []\n",
    "    rephrasedAnsList = []\n",
    "    for i in parsedOutputList:\n",
    "        summAnsList.append(i['input_text'])\n",
    "        rephrasedAnsList.append(i['rephrased_text_response'])\n",
    "    \n",
    "    final_df = pd.DataFrame({'Summary' : summAnsList,\n",
    "                             'Rephrased Ans' : rephrasedAnsList\n",
    "                            })\n",
    "\n",
    "    return final_df"
   ]
  },
  {
   "cell_type": "markdown",
   "id": "c74cf783-21fe-47a2-8508-f14d08f5efad",
   "metadata": {},
   "source": [
    "#### ask_want_to_save_csv()"
   ]
  },
  {
   "cell_type": "code",
   "execution_count": 1,
   "id": "6a3f9574-dead-4026-8872-d16d941a167e",
   "metadata": {},
   "outputs": [],
   "source": [
    "def ask_want_to_save_csv(final_df):\n",
    "    choice = input(\"Do you want to save the output csv (y/n) : \")\n",
    "    if choice.lower() == 'y':\n",
    "        fileName = input(\"Enter csv file name : \")\n",
    "        valid_fileName = re.sub(r'[<>:\"/\\\\|?*]', '_', fileName)\n",
    "        final_df.to_csv(f'{valid_fileName}.csv', index=False)\n",
    "        print(\"CSV SAVED\")\n",
    "    else:\n",
    "        print(\"Ok no problem\")"
   ]
  },
  {
   "cell_type": "markdown",
   "id": "109b6b00-3e01-42de-82f0-98e113558bd2",
   "metadata": {
    "collapsed": true,
    "jupyter": {
     "outputs_hidden": true
    }
   },
   "source": [
    "#### getting the summarized Answer List from the csv"
   ]
  },
  {
   "cell_type": "code",
   "execution_count": 33,
   "id": "a5541ae1-7ecc-4307-be30-673d9f534b22",
   "metadata": {},
   "outputs": [],
   "source": [
    "# function to load the summarized answer\n",
    "def summarizedAnsFunc():\n",
    "    df = pd.read_csv('genSum.csv')\n",
    "    import ast\n",
    "    df['summarized_ans'] = df['summary'].apply(ast.literal_eval)\n",
    "    summarizedAnswerList = []\n",
    "    for i in df.summarized_ans:\n",
    "        summarizedAnswerList.append(i['summarizedAnswer'])\n",
    "\n",
    "    return summarizedAnswerList"
   ]
  },
  {
   "cell_type": "code",
   "execution_count": null,
   "id": "5c12ba8d-5535-49b3-87d2-7bae2de66f83",
   "metadata": {
    "collapsed": true,
    "jupyter": {
     "outputs_hidden": true
    }
   },
   "outputs": [],
   "source": []
  },
  {
   "cell_type": "code",
   "execution_count": null,
   "id": "82417afb-6941-4244-99f1-6f5872b716de",
   "metadata": {},
   "outputs": [],
   "source": []
  },
  {
   "cell_type": "markdown",
   "id": "1ffda410-1982-4611-8de5-45b558ddd2af",
   "metadata": {},
   "source": [
    "# MAIN FUNCTION"
   ]
  },
  {
   "cell_type": "code",
   "execution_count": null,
   "id": "74dc08ed-6301-4959-881b-41545293f56e",
   "metadata": {},
   "outputs": [],
   "source": []
  },
  {
   "cell_type": "code",
   "execution_count": 34,
   "id": "b2795b7a-ca54-453e-bcdd-d867e52a5549",
   "metadata": {},
   "outputs": [],
   "source": [
    "import json\n",
    "import pandas as pd\n",
    "from langchain.prompts import ChatPromptTemplate\n",
    "from langchain.chat_models import ChatOpenAI\n",
    "from dotenv import load_dotenv\n",
    "import os\n",
    "import getpass"
   ]
  },
  {
   "cell_type": "code",
   "execution_count": 35,
   "id": "a7d0cf84-762a-47a7-b9e6-70abf641948f",
   "metadata": {},
   "outputs": [
    {
     "name": "stdin",
     "output_type": "stream",
     "text": [
      "Do you want to save the output csv (y/n) :  y\n"
     ]
    },
    {
     "name": "stdout",
     "output_type": "stream",
     "text": [
      "CSV SAVED\n"
     ]
    }
   ],
   "source": [
    "def main():\n",
    "    load_dotenv()\n",
    "\n",
    "    if not os.environ.get(\"OPENAI_API_KEY\"):\n",
    "      os.environ[\"OPENAI_API_KEY\"] = getpass.getpass(\"Enter API key for OpenAI: \")\n",
    "\n",
    "    \n",
    "    style, instructions, output_format, template_string = definingPrompt()\n",
    "\n",
    "    summarizedAnsList = summarizedAnsFunc()  # function to load the summarized answer\n",
    "\n",
    "    parsedOutputList = []\n",
    "    # getting rephrasedResponse\n",
    "    for summary in summarizedAnsList:\n",
    "        parsed_output = rephrasing(summary, style, instructions, output_format, template_string)\n",
    "        parsedOutputList.append(parsed_output)\n",
    "\n",
    "    \n",
    "    # make an output csv file\n",
    "    final_df = output_df(parsedOutputList)\n",
    "    ask_want_to_save_csv(final_df)\n",
    "    \n",
    "\n",
    "if __name__ == '__main__':\n",
    "    main()"
   ]
  },
  {
   "cell_type": "code",
   "execution_count": null,
   "id": "bf8e6577-9827-4f56-8f6d-2e6ccb2e877b",
   "metadata": {},
   "outputs": [],
   "source": []
  },
  {
   "cell_type": "markdown",
   "id": "e2e6905e-c008-424d-b463-c5378a49d743",
   "metadata": {},
   "source": [
    "# Testing"
   ]
  },
  {
   "cell_type": "code",
   "execution_count": 19,
   "id": "0e6b3c32-fd2a-4330-b418-d0c00c1188de",
   "metadata": {},
   "outputs": [],
   "source": [
    "load_dotenv()\n",
    "\n",
    "if not os.environ.get(\"OPENAI_API_KEY\"):\n",
    "  os.environ[\"OPENAI_API_KEY\"] = getpass.getpass(\"Enter API key for OpenAI: \")"
   ]
  },
  {
   "cell_type": "markdown",
   "id": "5f82dca7-e84a-4ca6-88c7-3c47c151e51a",
   "metadata": {},
   "source": [
    "#### prompt"
   ]
  },
  {
   "cell_type": "code",
   "execution_count": 9,
   "id": "299c763c-2c66-4938-972b-3615ec70ef90",
   "metadata": {},
   "outputs": [],
   "source": [
    "style, instructions, output_format, template_string = definingPrompt()"
   ]
  },
  {
   "cell_type": "code",
   "execution_count": 10,
   "id": "39610a18-db75-45c7-8e53-040b13866f5c",
   "metadata": {},
   "outputs": [
    {
     "name": "stdout",
     "output_type": "stream",
     "text": [
      "should be simpler and use fewer technical terms compared to the original input\n"
     ]
    }
   ],
   "source": [
    "print(style)"
   ]
  },
  {
   "cell_type": "code",
   "execution_count": 11,
   "id": "823969fa-187b-4d03-97a2-da530b3d19c2",
   "metadata": {},
   "outputs": [
    {
     "name": "stdout",
     "output_type": "stream",
     "text": [
      "Rephrase the provided text such that it is Concise while retaining its original meaning. \n",
      "The generated rephrased answer word length should be around that of the given content. \n",
      "Ensure the rephrased response remains in the context of the provided content without introducing unrelated information. \n",
      "\n"
     ]
    }
   ],
   "source": [
    "print(instructions)"
   ]
  },
  {
   "cell_type": "code",
   "execution_count": 12,
   "id": "a9798f11-841b-4643-a55b-a2de0e606c62",
   "metadata": {},
   "outputs": [
    {
     "name": "stdout",
     "output_type": "stream",
     "text": [
      "Provide the output in JSON format with the following keys:\n",
      "- `input_text`: The original input text.\n",
      "- `rephrased_text_response`: The rephrased version of the input text.Ensure there is no additional text, commentary, or formatting outside the JSON structure.\n"
     ]
    }
   ],
   "source": [
    "print(output_format)"
   ]
  },
  {
   "cell_type": "code",
   "execution_count": 13,
   "id": "39621cc7-634a-44b1-a505-13e3ba9657cd",
   "metadata": {},
   "outputs": [
    {
     "name": "stdout",
     "output_type": "stream",
     "text": [
      "You're an Educational AI model designed to Rephrase text, which has all the knowledge of the undergraduate Bachelors of Technology Course.Your task is rephrase the given text based on the your style, the context, and the given guidelines. \n",
      "\n",
      "Your writing style : {style}. \n",
      "\n",
      "Follow these instructions to generate a good quality rephrased answer: {instructions}\n",
      "Given content to be used for rephrasing: ```{text}```\n",
      "\n",
      "{output_format} \n",
      "\n",
      "Ensure that you follow all the above guidelines and rules to generate the rephrased content. Any deviation from these guidelines         will result in rephrased content not meeting the education standards required for this exercise.\n"
     ]
    }
   ],
   "source": [
    "print(template_string)"
   ]
  },
  {
   "cell_type": "markdown",
   "id": "24a45156-6ecf-4e5b-a784-90d2fd86f32a",
   "metadata": {},
   "source": [
    "#### summarized ans list"
   ]
  },
  {
   "cell_type": "code",
   "execution_count": 14,
   "id": "d4818628-be11-4458-919a-f830255e5ade",
   "metadata": {},
   "outputs": [],
   "source": [
    "summarizedAnsList_testing = summarizedAnsFunc()  # function to load the summarized answer"
   ]
  },
  {
   "cell_type": "code",
   "execution_count": null,
   "id": "e502afc7-251e-4c69-84d7-e4642025a077",
   "metadata": {},
   "outputs": [],
   "source": [
    "print(summarizedAnsList_testing)"
   ]
  },
  {
   "cell_type": "markdown",
   "id": "1dce5317-0e3b-4f70-b176-a13ddb4fcd71",
   "metadata": {},
   "source": [
    "#### rephrasing test"
   ]
  },
  {
   "cell_type": "code",
   "execution_count": 22,
   "id": "581551fb-45cc-4f29-9a4e-e8edd1702917",
   "metadata": {},
   "outputs": [],
   "source": [
    "def rephrasing_testing(summary, style, instructions, output_format, template_string):\n",
    "    model = ChatOpenAI(model=\"gpt-4o-mini\", temperature=0.3)\n",
    "    prompt_template_1 = ChatPromptTemplate.from_template(template_string)\n",
    "    particular_message = prompt_template_1.format_messages(\n",
    "        text=summary, style=style, instructions=instructions, output_format=output_format\n",
    "    )\n",
    "    try:\n",
    "        response = model.invoke(particular_message)\n",
    "        rephrasedAns = response.content\n",
    "        return rephrasedAns\n",
    "    except Exception as e:\n",
    "        print(f\"An error occurred during rephrasing: {e}\")\n",
    "        return {\"error\": str(e)}"
   ]
  },
  {
   "cell_type": "code",
   "execution_count": 23,
   "id": "106c4193-895c-475e-8356-56ce919f2687",
   "metadata": {},
   "outputs": [
    {
     "name": "stdout",
     "output_type": "stream",
     "text": [
      "```json\n",
      "{\n",
      "    \"input_text\": \"An entrepreneur is a business founder who identifies opportunities, assumes risks, and efficiently uses resources to generate profit and contribute to economic growth. Key characteristics include: \\n\\n- **Innovation**: Introducing new or improved products/services.\\n- **Risk-taking**: Willingness to accept financial, professional, and personal risks.\\n- **Vision and Goal Orientation**: Clear long-term goals drive decision-making.\\n- **Resilience**: Overcoming hurdles and staying motivated.\\n- **Self-Confidence**: Belief in achieving goals and mobilizing resources.\\n- **Flexibility**: Adapting strategies to changing market conditions.\\n- **Leadership Skills**: Inspiring teams and creating a constructive work environment.\\n- **Persistence**: Continually striving to achieve goals despite obstacles.\\n- **Opportunity Identification**: Seeing prospects where others see problems.\\n- **Financial Acumen**: Understanding budgeting, forecasting, and resource management.\",\n",
      "    \"rephrased_text_response\": \"An entrepreneur is someone who starts a business by spotting opportunities, taking risks, and using resources wisely to make a profit and help the economy grow. Important traits include: \\n\\n- **Innovation**: Bringing in new or better products/services.\\n- **Risk-taking**: Being open to financial, professional, and personal risks.\\n- **Vision and Goal Orientation**: Having clear long-term goals that guide decisions.\\n- **Resilience**: Bouncing back from challenges and staying driven.\\n- **Self-Confidence**: Trusting in one's ability to reach goals and gather resources.\\n- **Flexibility**: Changing plans based on market shifts.\\n- **Leadership Skills**: Motivating teams and fostering a positive work atmosphere.\\n- **Persistence**: Keeping at it to reach goals despite difficulties.\\n- **Opportunity Identification**: Finding chances where others see issues.\\n- **Financial Acumen**: Knowing how to budget, plan financially, and manage resources.\"\n",
      "}\n",
      "```\n"
     ]
    }
   ],
   "source": [
    "resList = []\n",
    "# for summary in summarizedAnsList_testing:\n",
    "#         res = rephrasing_testing(summary, style, instructions, output_format, template_string)\n",
    "#         resList.append(res)\n",
    "res = rephrasing_testing(summarizedAnsList_testing[0], style, instructions, output_format, template_string)\n",
    "\n",
    "print(res)"
   ]
  },
  {
   "cell_type": "code",
   "execution_count": 26,
   "id": "fe0690cf-7768-44dc-a69d-2ab9331891da",
   "metadata": {},
   "outputs": [],
   "source": [
    "parsed_output = parse_Response(res)"
   ]
  },
  {
   "cell_type": "code",
   "execution_count": 27,
   "id": "952ba081-7840-42a2-ab73-4aabcd504514",
   "metadata": {},
   "outputs": [
    {
     "name": "stdout",
     "output_type": "stream",
     "text": [
      "{'input_text': 'An entrepreneur is a business founder who identifies opportunities, assumes risks, and efficiently uses resources to generate profit and contribute to economic growth. Key characteristics include: \\n\\n- **Innovation**: Introducing new or improved products/services.\\n- **Risk-taking**: Willingness to accept financial, professional, and personal risks.\\n- **Vision and Goal Orientation**: Clear long-term goals drive decision-making.\\n- **Resilience**: Overcoming hurdles and staying motivated.\\n- **Self-Confidence**: Belief in achieving goals and mobilizing resources.\\n- **Flexibility**: Adapting strategies to changing market conditions.\\n- **Leadership Skills**: Inspiring teams and creating a constructive work environment.\\n- **Persistence**: Continually striving to achieve goals despite obstacles.\\n- **Opportunity Identification**: Seeing prospects where others see problems.\\n- **Financial Acumen**: Understanding budgeting, forecasting, and resource management.', 'rephrased_text_response': \"An entrepreneur is someone who starts a business by spotting opportunities, taking risks, and using resources wisely to make a profit and help the economy grow. Important traits include: \\n\\n- **Innovation**: Bringing in new or better products/services.\\n- **Risk-taking**: Being open to financial, professional, and personal risks.\\n- **Vision and Goal Orientation**: Having clear long-term goals that guide decisions.\\n- **Resilience**: Bouncing back from challenges and staying driven.\\n- **Self-Confidence**: Trusting in one's ability to reach goals and gather resources.\\n- **Flexibility**: Changing plans based on market shifts.\\n- **Leadership Skills**: Motivating teams and fostering a positive work atmosphere.\\n- **Persistence**: Keeping at it to reach goals despite difficulties.\\n- **Opportunity Identification**: Finding chances where others see issues.\\n- **Financial Acumen**: Knowing how to budget, plan financially, and manage resources.\"}\n"
     ]
    }
   ],
   "source": [
    "print(parsed_output)"
   ]
  },
  {
   "cell_type": "code",
   "execution_count": null,
   "id": "805a377e-8b67-4574-9104-2dbc8249913a",
   "metadata": {},
   "outputs": [],
   "source": []
  }
 ],
 "metadata": {
  "kernelspec": {
   "display_name": "Python 3 (ipykernel)",
   "language": "python",
   "name": "python3"
  },
  "language_info": {
   "codemirror_mode": {
    "name": "ipython",
    "version": 3
   },
   "file_extension": ".py",
   "mimetype": "text/x-python",
   "name": "python",
   "nbconvert_exporter": "python",
   "pygments_lexer": "ipython3",
   "version": "3.12.1"
  }
 },
 "nbformat": 4,
 "nbformat_minor": 5
}
