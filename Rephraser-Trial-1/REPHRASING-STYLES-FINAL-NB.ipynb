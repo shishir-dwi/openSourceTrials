{
 "cells": [
  {
   "cell_type": "markdown",
   "id": "6bc065fa-05e0-4dce-b77d-509c51a0b1c3",
   "metadata": {},
   "source": [
    "### styles outlay"
   ]
  },
  {
   "cell_type": "markdown",
   "id": "12f8ca2b-1c60-445e-b5d2-dd5a14a86803",
   "metadata": {},
   "source": [
    "1. \"Simple/less technical terms\",\n",
    "2. \"More Concise Summary\",\n",
    "3. \"Include Analogy\", \n",
    "4. \"Include Examples\""
   ]
  },
  {
   "cell_type": "markdown",
   "id": "f52b3f22-e5eb-4112-826f-1c04df4718c4",
   "metadata": {},
   "source": [
    "# CODE STARTS HERE"
   ]
  },
  {
   "cell_type": "markdown",
   "id": "9b21b7b0-9680-4211-ac70-3ed105a69069",
   "metadata": {},
   "source": [
    "### importing modules"
   ]
  },
  {
   "cell_type": "code",
   "execution_count": 31,
   "id": "4c2e1336-c722-4938-b55d-6c632e6c19df",
   "metadata": {},
   "outputs": [],
   "source": [
    "import json\n",
    "import pandas as pd\n",
    "from langchain.prompts import ChatPromptTemplate\n",
    "from langchain_openai import ChatOpenAI\n",
    "from dotenv import load_dotenv\n",
    "import os\n",
    "import getpass\n",
    "import time\n",
    "import traceback"
   ]
  },
  {
   "cell_type": "code",
   "execution_count": null,
   "id": "95756867-ccd6-43eb-964a-58bb50a31df4",
   "metadata": {},
   "outputs": [],
   "source": []
  },
  {
   "cell_type": "markdown",
   "id": "64d96006-7032-4ceb-9e5f-002656259269",
   "metadata": {},
   "source": [
    "### style_selection"
   ]
  },
  {
   "cell_type": "code",
   "execution_count": 44,
   "id": "ec80bc2b-b0f7-45bc-9f61-38a32dc0b7c4",
   "metadata": {},
   "outputs": [],
   "source": [
    "def style_selection():\n",
    "    \"\"\"\n",
    "    FUNCTION DESCRIPTION FROM SHIVAM :)\n",
    "    Prompt the user to choose a style and return the selected option as an integer.\n",
    "    Includes input validation to handle invalid inputs.\n",
    "    \"\"\"\n",
    "    styles = {\n",
    "        1: \"Simple/less technical terms\",\n",
    "        2: \"More Concise Summary\",\n",
    "        3: \"Include Analogy\", \n",
    "        4: \"Include Examples\"\n",
    "    }\n",
    "\n",
    "    while True:\n",
    "        print(\"Choose Your Style:\")\n",
    "        for key, value in styles.items():\n",
    "            print(f\"{key}. {value}\")\n",
    "        try:\n",
    "            style = int(input(\"Enter your style number (1-4): \"))\n",
    "            if style in styles:\n",
    "                print(f\"You selected : {styles[style]}\")\n",
    "                return style, styles[style]\n",
    "            else:\n",
    "                print(\"Invalid choice. Please enter a number between 1 and 4.\")\n",
    "        except ValueError:\n",
    "            print(\"Invalid input. Please enter a numeric value. \")"
   ]
  },
  {
   "cell_type": "markdown",
   "id": "a32085c6-fd53-496b-bc62-031d75e221d2",
   "metadata": {},
   "source": [
    "### loading summarized and long answers"
   ]
  },
  {
   "cell_type": "markdown",
   "id": "bee1f632-c34a-44fc-8c41-5680cabb6551",
   "metadata": {},
   "source": [
    "#### long ans function"
   ]
  },
  {
   "cell_type": "code",
   "execution_count": 33,
   "id": "4d5a9aa0-562b-43c5-985a-768432ecfd02",
   "metadata": {},
   "outputs": [],
   "source": [
    "def longAnsFunc():\n",
    "    longAnsDf = pd.read_csv('longAns.csv')\n",
    "    longAnsList = longAnsDf['Answer']\n",
    "    longAnsList.dropna(inplace=True)\n",
    "    return longAnsList"
   ]
  },
  {
   "cell_type": "code",
   "execution_count": 34,
   "id": "982cf7bb-b482-4672-b27d-8d0a1fd000d6",
   "metadata": {},
   "outputs": [],
   "source": [
    "def summarized_and_long_AnsFunc():\n",
    "\n",
    "    import ast\n",
    "\n",
    "    try:\n",
    "        # long answer\n",
    "        longAnsList = longAnsFunc()\n",
    "        \n",
    "        # Load the data summary\n",
    "        df = pd.read_csv('genSum.csv')\n",
    "        df['summarized_ans'] = df['summary'].apply(ast.literal_eval)\n",
    "        summarizedAnswerList = [i['summarizedAnswer'] for i in df.summarized_ans]\n",
    "\n",
    "        # Validating dataset size\n",
    "        total_questions = len(summarizedAnswerList)\n",
    "        print(f\"Enter the range of questions (1-{total_questions}) from the dataset you want to REPHRASE\")\n",
    "\n",
    "        # getting the user input with validation\n",
    "        while True:\n",
    "            try:\n",
    "                starting_ind = int(input(f\"Starting question index (1-{total_questions}): \")) - 1\n",
    "                ending_ind = int(input(f\"Ending question index (1-{total_questions}): \")) - 1\n",
    "\n",
    "                if not (0 <= starting_ind < total_questions and 0 <= ending_ind < total_questions):\n",
    "                    print(f\"Indices must be between 1 and {total_questions}. Please try again.\")\n",
    "                elif starting_ind > ending_ind:\n",
    "                    print(\"Starting index cannot be greater than the ending index. Please try again.\")\n",
    "                else:\n",
    "                    break\n",
    "            except ValueError:\n",
    "                print(\"Invalid input. Please enter numeric value only.\")\n",
    "\n",
    "        #loop ended successfully , meaning the range entered is correct\n",
    "        return summarizedAnswerList[starting_ind: ending_ind + 1], longAnsList[starting_ind: ending_ind+1]\n",
    "\n",
    "    except FileNotFoundError:\n",
    "        print(\"The file was not found. Please ensure it exists in the current directory.\")\n",
    "    except KeyError as e:\n",
    "        print(f\"Error : Missing column {e} in the dataset. Please check the file format.\")\n",
    "    except Exception as e:\n",
    "        print(f\"An unexpected error occurred in the summarizedAnsFunc() : {e}\")\n"
   ]
  },
  {
   "cell_type": "raw",
   "id": "508ee3e5-5180-453c-9e44-b0bde8ac0a1a",
   "metadata": {},
   "source": []
  },
  {
   "cell_type": "markdown",
   "id": "1aaf4756-321a-48ea-a361-1b58f436ec76",
   "metadata": {},
   "source": [
    "### getting parsed response"
   ]
  },
  {
   "cell_type": "code",
   "execution_count": 35,
   "id": "46928ea4-24d7-4116-bae3-133464a17234",
   "metadata": {},
   "outputs": [],
   "source": [
    "def parse_Response(response):\n",
    "   if isinstance(response, str):\n",
    "       # print(response)\n",
    "       start_index = response.find(\"{\")\n",
    "       end_index = response.rfind(\"}\")\n",
    "       if start_index != -1 and end_index != -1:\n",
    "           valid_json_content = response[start_index : end_index + 1]\n",
    "           try:\n",
    "               JSON_response = json.loads(valid_json_content.replace(\"\\n\", \"\"))\n",
    "               # append_list_to_file(JSON_response)\n",
    "               return JSON_response\n",
    "           except json.JSONDecodeError as e:\n",
    "               print(f\"Error decoding JSON response: {e.__class__.__name__} - {e}\\n\\n Still trying to work on particular exceptions ...\")\n",
    "               print(\"Actual Content: \", valid_json_content)\n",
    "       else:\n",
    "           print(\"No valid JSON content found in the response.\")\n",
    "       # time.sleep(50)\n",
    "   elif isinstance(response, dict):\n",
    "       return response\n",
    "   else:\n",
    "       print(\"No response message found\", type(response))\n"
   ]
  },
  {
   "cell_type": "markdown",
   "id": "31f5d01d-89f4-4096-8b95-87b547fd2d0b",
   "metadata": {},
   "source": [
    "### defining prompt"
   ]
  },
  {
   "cell_type": "markdown",
   "id": "08cad568-1ebc-4216-9ff1-7210342b9529",
   "metadata": {},
   "source": [
    "#### prompt_style - 1, 2"
   ]
  },
  {
   "cell_type": "code",
   "execution_count": 36,
   "id": "8cd7ce3f-09c2-4f9f-bdc3-49645f4edaa2",
   "metadata": {},
   "outputs": [],
   "source": [
    "def definingPrompt_one_two(style_no, summary):\n",
    "    \n",
    "    # styles\n",
    "    styles_dict = {\n",
    "        1: \"should be simpler and use fewer technical terms compared to the original input\",\n",
    "        2: \"more concise and should be half word length than the given text.\"\n",
    "    }\n",
    "    \n",
    "    #instructions dictionary\n",
    "    instructions_dict = {\n",
    "        1: (\n",
    "        \"Rephrase the provided text such that it is Concise while retaining its original meaning. \\n\"\n",
    "        \"The generated rephrased answer word length should be around that of the given content. \\n\"\n",
    "        \"Ensure the rephrased response remains in the context of the provided content without introducing unrelated information. \\n\"\n",
    "    ),\n",
    "        2: (\n",
    "        \"Rephrase the provided text such that it is Concise while retaining its original meaning. \\n\"\n",
    "        \"The word count of the generated rephrased answer should be half that of the given content. \\n\"\n",
    "       \" Ensure the rephrased response remains in the context of the provided content without introducing unrelated information. \\n\"\n",
    "    )\n",
    "    }\n",
    "    \n",
    "    #output format\n",
    "    output_format = (\n",
    "        \"Provide the output in JSON format with the following key:\\n\"\n",
    "        \"- `rephrased_text`: The rephrased version of the input text.\"\n",
    "        \"Ensure there is no additional text, commentary, or formatting outside the JSON structure.\"\n",
    "    )\n",
    "    \n",
    "    style = styles_dict[style_no]\n",
    "    instructions = instructions_dict[style_no]\n",
    "\n",
    "    template_string = (\n",
    "        \"You're an Educational AI model designed to Rephrase text, which has all the knowledge of the undergraduate Bachelors of Technology Course.\"\n",
    "        \"Your task is rephrase the given text based on the your style, the context, and the given guidelines. \\n\\n\"\n",
    "        \"Your writing style : {style}. \\n\\n\"\n",
    "        \"Follow these instructions to generate a good quality rephrased answer: {instructions}\\n\"\n",
    "        \"Given content to be used for rephrasing: ```{text}```\\n\\n\"\n",
    "        \"{output_format} \\n\\n\"\n",
    "        \"Ensure that you follow all the above guidelines and rules to generate the rephrased content. Any deviation from these guidelines \\\n",
    "        will result in rephrased content not meeting the education standards required for this exercise.\"\n",
    "    )\n",
    "\n",
    "    prompt_template = ChatPromptTemplate.from_template(template_string)\n",
    "    message = prompt_template.format_messages(\n",
    "        text = summary, style=style, instructions=instructions, output_format=output_format\n",
    "    )\n",
    "\n",
    "    return message"
   ]
  },
  {
   "cell_type": "markdown",
   "id": "fd6fd637-bac4-498f-867a-134b3b568ae1",
   "metadata": {},
   "source": [
    "### rephrasing style  1 2"
   ]
  },
  {
   "cell_type": "code",
   "execution_count": 37,
   "id": "ae6718b2-7733-4b2f-9bcf-5b5524ee8f37",
   "metadata": {},
   "outputs": [],
   "source": [
    "def rephrasing_style_one_two(prompt, summary):\n",
    "    model = ChatOpenAI(model=\"gpt-4o-mini\", temperature=0.3)\n",
    " \n",
    "\n",
    "    try:\n",
    "    \n",
    "        start_time = time.time()\n",
    "        response = model.invoke(prompt)\n",
    "        end_time = time.time()\n",
    "        print(\"Latency of Response = \", end_time - start_time)\n",
    "        rephrasedAns = response.content\n",
    "        try :\n",
    "            parsed_output = parse_Response(rephrasedAns)\n",
    "            if parsed_output:\n",
    "                parsed_output['summary'] = summary\n",
    "                return parsed_output\n",
    "            else:\n",
    "                raise Exception (\"could not rephrase :( \")\n",
    "        except Exception as e:\n",
    "            print(\"Error with extraction: \", type(e).__name__, \"–\", e, \"\\n\", traceback.format_exc())\n",
    "            return None\n",
    "    except Exception as e:\n",
    "        print(\"Error with invocation: \", type(e).__name__, \"–\", e, \"\\n\", traceback.format_exc())\n",
    "        return {\"error\": str(e)}\n",
    "\n",
    "\n"
   ]
  },
  {
   "cell_type": "markdown",
   "id": "35561fcb-6312-45e4-9b9d-827d140b87ac",
   "metadata": {},
   "source": [
    "### rephrasing style 3 4"
   ]
  },
  {
   "cell_type": "code",
   "execution_count": 38,
   "id": "66aa9e86-1aa1-4c22-bac2-dded43289ce9",
   "metadata": {},
   "outputs": [],
   "source": [
    "def rephrasing_style_three_four(answer: str, style_no: int) -> str:\n",
    "\n",
    "    prompts_dict = {\n",
    "        3 : (\n",
    "            \"You are an AI specializing in creating relatable analogies. \"\n",
    "            \"Given the following explanation, provide a short, real-world analogy that is \"\n",
    "            \"easy to understand and relatable for most people.\\n\\n\"\n",
    "            f\"Answer: {answer}\\n\\n\"\n",
    "            \"Analogy:\"\n",
    "            \"Ensure that the Analogy should not exceed more than 50 words.\"\n",
    "        ),\n",
    "        \n",
    "        4 : (\n",
    "            \"You are an Educational AI assistant who excels in Bachelors of Technology course. You have all the knowledge about every subject and it's whole content.\"\n",
    "            \"Given the following answer, generate three concise examples that relate to the content. Each example must be brief and to the point.\"\n",
    "            f\"Answer: {answer} \\n\\n\"\n",
    "            \"Ensure that the word length of each example should not exceed more than 15 words.\\n\"\n",
    "        ),\n",
    "    }\n",
    "\n",
    "    # Define the dictionary of models\n",
    "    models_dict = {\n",
    "        3: ChatOpenAI(\n",
    "                model=\"gpt-4o-mini\",\n",
    "                temperature=0.7,\n",
    "                n=1,\n",
    "                stop=['\\n'],\n",
    "        ),\n",
    "        \n",
    "        4: ChatOpenAI(\n",
    "                model=\"gpt-4o-mini\",\n",
    "                temperature=0.7,\n",
    "                n=3,\n",
    "        ),\n",
    "    }\n",
    "\n",
    "    prompt = prompts_dict[style_no]\n",
    "    model = models_dict[style_no]\n",
    "\n",
    "\n",
    "    try:\n",
    "        start_time = time.time()\n",
    "        message = prompt.format(answer = answer)\n",
    "        response = model.invoke(message)\n",
    "        end_time = time.time()\n",
    "        print(end_time-start_time)\n",
    "\n",
    "        final_response = response.content\n",
    "        return final_response\n",
    "\n",
    "    except Exception as e:\n",
    "        return f\"An error occurred: {e}\""
   ]
  },
  {
   "cell_type": "markdown",
   "id": "27abb8db-7d20-4d99-b903-22b1d8d9192d",
   "metadata": {},
   "source": [
    "### output dataframe "
   ]
  },
  {
   "cell_type": "code",
   "execution_count": 39,
   "id": "c46bb6f9-a3b6-40db-bdc6-f6eea0cae944",
   "metadata": {},
   "outputs": [],
   "source": [
    "def output_df(parsedOutputList):\n",
    "    summAnsList = []\n",
    "    rephrasedAnsList = []\n",
    "    for i in parsedOutputList:\n",
    "        summAnsList.append(i['summary'])\n",
    "        rephrasedAnsList.append(i['rephrased_text'])\n",
    "\n",
    "    final_df = pd.DataFrame({\n",
    "                             'summary': summAnsList,\n",
    "                             'Rephrased Ans' : rephrasedAnsList,\n",
    "                            })\n",
    "\n",
    "    return final_df"
   ]
  },
  {
   "cell_type": "markdown",
   "id": "6cd60dbb-40fd-403d-8241-01d7a8918628",
   "metadata": {},
   "source": [
    "### ask_want_to_save_csv()"
   ]
  },
  {
   "cell_type": "code",
   "execution_count": 40,
   "id": "69c75d59-29ef-41af-9f61-25cba4ae0bf0",
   "metadata": {},
   "outputs": [],
   "source": [
    "def ask_want_to_save_csv(final_df):\n",
    "    import re\n",
    "    choice = input(\"Do you want to save the output csv (y/n) : \")\n",
    "    if choice.lower() == 'y':\n",
    "        output_dir = 'END-FINAL-TESTING'\n",
    "        if not os.path.exists(output_dir):\n",
    "            os.makedirs(output_dir)\n",
    "        fileName = input(\"Enter csv file name : \")\n",
    "        valid_fileName = re.sub(r'[<>:\"/\\\\|?*]', '_', fileName)\n",
    "        save_path = os.path.join(output_dir, f'{valid_fileName}.csv')\n",
    "        final_df.to_csv(save_path, index=False)\n",
    "        print(\"CSV SAVED\")\n",
    "    else:\n",
    "        print(\"Ok no problem\")\n",
    "        print(final_df.head())"
   ]
  },
  {
   "cell_type": "code",
   "execution_count": null,
   "id": "c2d18e29-e847-42a5-8f45-5746fcfaa4d4",
   "metadata": {},
   "outputs": [],
   "source": []
  },
  {
   "cell_type": "markdown",
   "id": "60291de4-ae7f-4b3b-a206-b9c443fec21d",
   "metadata": {},
   "source": [
    "## main"
   ]
  },
  {
   "cell_type": "code",
   "execution_count": 46,
   "id": "79ad26c3-6584-4462-9e7b-34a6a18241a0",
   "metadata": {},
   "outputs": [
    {
     "name": "stdout",
     "output_type": "stream",
     "text": [
      "Choose Your Style:\n",
      "1. Simple/less technical terms\n",
      "2. More Concise Summary\n",
      "3. Include Analogy\n",
      "4. Include Examples\n"
     ]
    },
    {
     "name": "stdin",
     "output_type": "stream",
     "text": [
      "Enter your style number (1-4):  4\n"
     ]
    },
    {
     "name": "stdout",
     "output_type": "stream",
     "text": [
      "You selected : Include Examples\n",
      "Enter the range of questions (1-18) from the dataset you want to REPHRASE\n"
     ]
    },
    {
     "name": "stdin",
     "output_type": "stream",
     "text": [
      "Starting question index (1-18):  15\n",
      "Ending question index (1-18):  18\n"
     ]
    },
    {
     "name": "stdout",
     "output_type": "stream",
     "text": [
      "1.5513906478881836\n",
      "1.2102408409118652\n",
      "1.471825361251831\n",
      "1.6738786697387695\n"
     ]
    },
    {
     "name": "stdin",
     "output_type": "stream",
     "text": [
      "Do you want to save the output csv (y/n) :  y\n",
      "Enter csv file name :  style-4-test\n"
     ]
    },
    {
     "name": "stdout",
     "output_type": "stream",
     "text": [
      "CSV SAVED\n"
     ]
    }
   ],
   "source": [
    "def  main():\n",
    "    load_dotenv()\n",
    "\n",
    "    if not os.environ.get(\"OPENAI_API_KEY\"):\n",
    "        os.environ[\"OPENAI_API_KEY\"] = getpass.getpass(\"Enter API key for OpenAI : \")\n",
    "\n",
    "    style_no, style_description =style_selection()\n",
    "    # print(style_no)\n",
    "\n",
    "    summarizedAnsList, longAnsList = summarized_and_long_AnsFunc()\n",
    "\n",
    "    parsedOutputList = []\n",
    "    if style_no == 1 or style_no == 2:\n",
    "        for summary in summarizedAnsList:\n",
    "            prompt = definingPrompt_one_two(style_no, summary)\n",
    "            parsed_output = rephrasing_style_one_two(prompt, summary)\n",
    "            parsedOutputList.append(parsed_output)\n",
    "            \n",
    "    \n",
    "    else:\n",
    "        for longAns, summary in zip(longAnsList, summarizedAnsList):\n",
    "            response = rephrasing_style_three_four(longAns, style_no)\n",
    "            parsed_summary = parse_Response(summary)\n",
    "            parsed_summary['rephrased_text'] = parsed_summary['summarized_answer'] + '\\n\\n' + style_description + '\\n\\n' + response\n",
    "            parsed_summary['summary'] = parsed_summary['summarized_answer']\n",
    "            parsedOutputList.append(parsed_summary)\n",
    "\n",
    "\n",
    "    # make an output csv file\n",
    "    final_df = output_df(parsedOutputList)\n",
    "    ask_want_to_save_csv(final_df)\n",
    "        \n",
    "\n",
    "if __name__ == '__main__':\n",
    "    main()"
   ]
  },
  {
   "cell_type": "code",
   "execution_count": null,
   "id": "b33dbb69-55cb-4522-9332-c3aedabf6bdb",
   "metadata": {},
   "outputs": [],
   "source": []
  }
 ],
 "metadata": {
  "kernelspec": {
   "display_name": "Python 3 (ipykernel)",
   "language": "python",
   "name": "python3"
  },
  "language_info": {
   "codemirror_mode": {
    "name": "ipython",
    "version": 3
   },
   "file_extension": ".py",
   "mimetype": "text/x-python",
   "name": "python",
   "nbconvert_exporter": "python",
   "pygments_lexer": "ipython3",
   "version": "3.12.1"
  }
 },
 "nbformat": 4,
 "nbformat_minor": 5
}
