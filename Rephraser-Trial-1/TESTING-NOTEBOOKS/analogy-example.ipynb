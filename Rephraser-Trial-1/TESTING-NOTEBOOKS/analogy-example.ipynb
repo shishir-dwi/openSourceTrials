{
 "cells": [
  {
   "cell_type": "markdown",
   "id": "21545bba-8976-42b9-9729-cabe08522e44",
   "metadata": {},
   "source": [
    "### importing modules"
   ]
  },
  {
   "cell_type": "code",
   "execution_count": 1,
   "id": "3658fbcc-58ee-4517-979e-b2040e7fa122",
   "metadata": {},
   "outputs": [],
   "source": [
    "import pandas as pd\n",
    "from dotenv import load_dotenv\n",
    "import os\n",
    "import time\n",
    "import traceback\n",
    "import openai\n",
    "from langchain.prompts import ChatPromptTemplate\n",
    "from langchain_openai import ChatOpenAI"
   ]
  },
  {
   "cell_type": "markdown",
   "id": "f86f34cb-547a-4f3f-97c6-329706177191",
   "metadata": {},
   "source": [
    "### long Ans Function"
   ]
  },
  {
   "cell_type": "code",
   "execution_count": 5,
   "id": "c20ae3e6-0866-43c0-90b6-2015a227aa17",
   "metadata": {},
   "outputs": [],
   "source": [
    "def longAnsFunc():\n",
    "    longAnsDf = pd.read_csv('longAns.csv')\n",
    "    longAnsList = longAnsDf['Answer']\n",
    "    longAnsList.dropna(inplace=True)\n",
    "    return longAnsList"
   ]
  },
  {
   "cell_type": "code",
   "execution_count": null,
   "id": "37fec8fb-7630-4a0e-b737-c7e9505aaead",
   "metadata": {},
   "outputs": [],
   "source": []
  },
  {
   "cell_type": "markdown",
   "id": "c6dac19e-5127-48df-9f9a-afccdd689ca4",
   "metadata": {},
   "source": [
    "### dotenv"
   ]
  },
  {
   "cell_type": "code",
   "execution_count": 6,
   "id": "6f1eb1d4-3f99-4ecc-a017-80fc091adb65",
   "metadata": {},
   "outputs": [],
   "source": [
    "load_dotenv()\n",
    "\n",
    "if not os.environ.get(\"OPENAI_API_KEY\"):\n",
    "  os.environ[\"OPENAI_API_KEY\"] = getpass.getpass(\"Enter API key for OpenAI: \")"
   ]
  },
  {
   "cell_type": "markdown",
   "id": "8fc38c78-22e7-4b79-ad15-38f3be9a81f2",
   "metadata": {},
   "source": [
    "### main"
   ]
  },
  {
   "cell_type": "markdown",
   "id": "d5415e37-1fd5-4442-90b9-2c20b4a7e939",
   "metadata": {},
   "source": [
    "### generate analogy"
   ]
  },
  {
   "cell_type": "code",
   "execution_count": 7,
   "id": "55f72c80-b80e-4ffc-b503-35b3aaabf5a6",
   "metadata": {},
   "outputs": [],
   "source": [
    "def rephrasing_style_three_four(answer: str) -> str:\n",
    "\n",
    "    prompts_dict = {\n",
    "        'prompt_analogy' : (\n",
    "            \"You are an AI specializing in creating relatable analogies. \"\n",
    "            \"Given the following explanation, provide a short, real-world analogy that is \"\n",
    "            \"easy to understand and relatable for most people.\\n\\n\"\n",
    "            f\"Answer: {answer}\\n\\n\"\n",
    "            \"Analogy:\"\n",
    "            \"Ensure that the Analogy should not exceed more than 50 words.\"\n",
    "        ),\n",
    "        \n",
    "        'prompt_example' : (\n",
    "            \"You are an Educational AI assistant who excels in Bachelors of Technology course. You have all the knowledge about every subject and it's whole content.\"\n",
    "            \"Given the following answer, generate three concise examples that relate to the content. Each example must be brief and to the point.\"\n",
    "            f\"Answer: {answer} \\n\\n\"\n",
    "            \"Ensure that the word length of each example should not exceed more than 15 words.\\n\"\n",
    "        ),\n",
    "    }\n",
    "\n",
    "    # Define the dictionary of models\n",
    "    models_dict = {\n",
    "        \"model_analogy\": ChatOpenAI(\n",
    "                model=\"gpt-4o-mini\",\n",
    "                temperature=0.7,\n",
    "                n=1,\n",
    "                stop=['\\n'],\n",
    "        ),\n",
    "        \n",
    "        \"model_example\": ChatOpenAI(\n",
    "                model=\"gpt-4o-mini\",\n",
    "                temperature=0.7,\n",
    "                n=3,\n",
    "        ),\n",
    "        \n",
    "        \n",
    "    }\n",
    "\n",
    "    prompt = prompts_dict['prompt_example']\n",
    "    model = models_dict['model_example']\n",
    "\n",
    "\n",
    "\n",
    "    try:\n",
    "        start_time = time.time()\n",
    "        message = prompt.format(answer = answer)\n",
    "        response = model.invoke(message)\n",
    "        end_time = time.time()\n",
    "        print(end_time-start_time)\n",
    "\n",
    "        analogy = response.content\n",
    "        return analogy\n",
    "\n",
    "    except Exception as e:\n",
    "        return f\"An error occurred: {e}\""
   ]
  },
  {
   "cell_type": "markdown",
   "id": "7c717fd3-a8cc-4065-9afe-aa4fcf948511",
   "metadata": {},
   "source": [
    "### ask want to save csv"
   ]
  },
  {
   "cell_type": "code",
   "execution_count": 8,
   "id": "ab713aa9-edc4-4ccb-aec1-6c9a6fbdc667",
   "metadata": {},
   "outputs": [],
   "source": [
    "def ask_want_to_save_csv(final_df):\n",
    "    import re\n",
    "    choice = input(\"Do you want to save the output csv (y/n) : \")\n",
    "    if choice.lower() == 'y':\n",
    "        output_dir = 'EXAMPLE_SAMPLE_OUTPUTS'\n",
    "        if not os.path.exists(output_dir):\n",
    "            os.makedirs(output_dir)\n",
    "        fileName = input(\"Enter csv file name : \")\n",
    "        valid_fileName = re.sub(r'[<>:\"/\\\\|?*]', '_', fileName)\n",
    "        save_path = os.path.join(output_dir, f'{valid_fileName}.csv')\n",
    "        final_df.to_csv(save_path, index=True)\n",
    "        print(\"CSV SAVED\")\n",
    "    else:\n",
    "        print(\"Ok no problem\")\n",
    "        print(final_df.head())"
   ]
  },
  {
   "cell_type": "markdown",
   "id": "44c50582-38f3-4734-9a4a-7fb7fcf3f286",
   "metadata": {},
   "source": [
    "### main"
   ]
  },
  {
   "cell_type": "code",
   "execution_count": 30,
   "id": "0eb785d8-26bd-485e-98bd-95c733aad056",
   "metadata": {},
   "outputs": [
    {
     "name": "stdin",
     "output_type": "stream",
     "text": [
      "Enter starting ques :  1\n",
      "Enter ending ques :  1\n"
     ]
    },
    {
     "name": "stdout",
     "output_type": "stream",
     "text": [
      "1.6134049892425537\n"
     ]
    },
    {
     "name": "stdin",
     "output_type": "stream",
     "text": [
      "Do you want to save the output csv (y/n) :  n\n"
     ]
    },
    {
     "name": "stdout",
     "output_type": "stream",
     "text": [
      "Ok no problem\n",
      "                                             longAns  \\\n",
      "0  An entrepreneur is an owner or founder of a bu...   \n",
      "\n",
      "                                             analogy  \n",
      "0  1. A tech startup founder develops an app to s...  \n"
     ]
    }
   ],
   "source": [
    "def main():\n",
    "    longAnsList = longAnsFunc()\n",
    "    starting_ind = int(input(\"Enter starting ques : \")) -1 \n",
    "    ending_ind = int(input(\"Enter ending ques : \")) -1 \n",
    "    longAnsList = longAnsList[starting_ind: ending_ind+1]\n",
    "    #\n",
    "    analogyList = []\n",
    "    for longAns in longAnsList:\n",
    "        analogy = generate_analogy(longAns)\n",
    "        analogyList.append(analogy)\n",
    "\n",
    "    final_df = pd.DataFrame(\n",
    "        {\n",
    "            'longAns' : longAnsList,\n",
    "            'analogy' : analogyList,\n",
    "        }\n",
    "    )\n",
    "    ask_want_to_save_csv(final_df)\n",
    "\n",
    "if __name__ == '__main__':\n",
    "    main()"
   ]
  },
  {
   "cell_type": "code",
   "execution_count": null,
   "id": "322463fb-be55-4c18-a4c3-d8ee1594de96",
   "metadata": {},
   "outputs": [],
   "source": []
  },
  {
   "cell_type": "markdown",
   "id": "a517ed50-fe27-4640-9b40-7995a3688313",
   "metadata": {},
   "source": [
    "# Testing - 2"
   ]
  },
  {
   "cell_type": "code",
   "execution_count": 9,
   "id": "3c978636-7f09-4b3e-9cbd-d8ea912dc728",
   "metadata": {},
   "outputs": [],
   "source": [
    "import json\n",
    "import pandas as pd\n",
    "from langchain.prompts import ChatPromptTemplate\n",
    "from langchain_openai import ChatOpenAI\n",
    "from dotenv import load_dotenv\n",
    "import os\n",
    "import getpass\n",
    "import time\n",
    "import traceback"
   ]
  },
  {
   "cell_type": "code",
   "execution_count": 10,
   "id": "95dee81b-8b26-4542-9993-54bfa8bf5f9c",
   "metadata": {},
   "outputs": [],
   "source": [
    "def parse_Response(response):\n",
    "   if isinstance(response, str):\n",
    "       # print(response)\n",
    "       start_index = response.find(\"{\")\n",
    "       end_index = response.rfind(\"}\")\n",
    "       if start_index != -1 and end_index != -1:\n",
    "           valid_json_content = response[start_index : end_index + 1]\n",
    "           try:\n",
    "               JSON_response = json.loads(valid_json_content.replace(\"\\n\", \"\"))\n",
    "               # append_list_to_file(JSON_response)\n",
    "               return JSON_response\n",
    "           except json.JSONDecodeError as e:\n",
    "               print(f\"Error decoding JSON response: {e.__class__.__name__} - {e}\\n\\n Still trying to work on particular exceptions ...\")\n",
    "               print(\"Actual Content: \", valid_json_content)\n",
    "       else:\n",
    "           print(\"No valid JSON content found in the response.\")\n",
    "       # time.sleep(50)\n",
    "   elif isinstance(response, dict):\n",
    "       return response\n",
    "   else:\n",
    "       print(\"No response message found\", type(response))"
   ]
  },
  {
   "cell_type": "code",
   "execution_count": null,
   "id": "9535c71a-0712-45d9-8e81-48bdd1e98ffe",
   "metadata": {},
   "outputs": [],
   "source": []
  },
  {
   "cell_type": "markdown",
   "id": "fb9279dd-5c06-407b-9952-8c0c6583e4ab",
   "metadata": {},
   "source": [
    "### getting summary"
   ]
  },
  {
   "cell_type": "code",
   "execution_count": 11,
   "id": "1ad7347b-c2f8-4b81-8d5a-91b925a450ce",
   "metadata": {},
   "outputs": [],
   "source": [
    "def summarizedAnsFunc():\n",
    "    \"\"\"\n",
    "    Loads summarized answers from the 'genSum.csv' file and allows the user\n",
    "    to select a valid range of questions for rephrasing.\n",
    "\n",
    "    Returns:\n",
    "        list : A list of summarized answers within the specified range\n",
    "    \"\"\"\n",
    "    import ast\n",
    "\n",
    "    try:\n",
    "        # long answer\n",
    "        longAnsList = longAnsFunc()\n",
    "        \n",
    "        # Load the data summary\n",
    "        df = pd.read_csv('genSum.csv')\n",
    "        df['summarized_ans'] = df['summary'].apply(ast.literal_eval)\n",
    "        summarizedAnswerList = [i['summarizedAnswer'] for i in df.summarized_ans]\n",
    "\n",
    "        # Validating dataset size\n",
    "        total_questions = len(summarizedAnswerList)\n",
    "        print(f\"Enter the range of questions (1-{total_questions}) from the dataset you want to REPHRASE\")\n",
    "\n",
    "        # getting the user input with validation\n",
    "        while True:\n",
    "            try:\n",
    "                starting_ind = int(input(f\"Starting question index (1-{total_questions}): \")) - 1\n",
    "                ending_ind = int(input(f\"Ending question index (1-{total_questions}): \")) - 1\n",
    "\n",
    "                if not (0 <= starting_ind < total_questions and 0 <= ending_ind < total_questions):\n",
    "                    print(f\"Indices must be between 1 and {total_questions}. Please try again.\")\n",
    "                elif starting_ind > ending_ind:\n",
    "                    print(\"Starting index cannot be greater than the ending index. Please try again.\")\n",
    "                else:\n",
    "                    break\n",
    "            except ValueError:\n",
    "                print(\"Invalid input. Please enter numeric value only.\")\n",
    "\n",
    "        #loop ended successfully , meaning the range entered is correct\n",
    "        return summarizedAnswerList[starting_ind: ending_ind + 1], longAnsList[starting_ind: ending_ind+1]\n",
    "\n",
    "    except FileNotFoundError:\n",
    "        print(\"The file was not found. Please ensure it exists in the current directory.\")\n",
    "    except KeyError as e:\n",
    "        print(f\"Error : Missing column {e} in the dataset. Please check the file format.\")\n",
    "    except Exception as e:\n",
    "        print(f\"An unexpected error occurred in the summarizedAnsFunc() : {e}\")\n"
   ]
  },
  {
   "cell_type": "code",
   "execution_count": 14,
   "id": "f63d13a0-6a26-4016-992c-a19178db4e42",
   "metadata": {},
   "outputs": [
    {
     "name": "stdout",
     "output_type": "stream",
     "text": [
      "Enter the range of questions (1-18) from the dataset you want to REPHRASE\n"
     ]
    },
    {
     "name": "stdin",
     "output_type": "stream",
     "text": [
      "Starting question index (1-18):  1\n",
      "Ending question index (1-18):  1\n"
     ]
    },
    {
     "name": "stdout",
     "output_type": "stream",
     "text": [
      "2.0343379974365234\n",
      "1. A tech startup founder develops an app that simplifies online shopping experiences.  \n",
      "2. An entrepreneur launches a sustainable fashion line to address environmental concerns in clothing.  \n",
      "3. A restaurant owner pivots to delivery services during a pandemic to meet customer needs.  \n",
      "\n",
      "\n",
      "New summary\n",
      "{'summarized_answer': 'An entrepreneur is a business founder who identifies opportunities, assumes risks, and efficiently uses resources to generate profit and contribute to economic growth. Key characteristics include: \\n\\n- **Innovation**: Introducing new or improved products/services.\\n- **Risk-taking**: Willingness to accept financial, professional, and personal risks.\\n- **Vision and Goal Orientation**: Clear long-term goals drive decision-making.\\n- **Resilience**: Overcoming hurdles and staying motivated.\\n- **Self-Confidence**: Belief in achieving goals and mobilizing resources.\\n- **Flexibility**: Adapting strategies to changing market conditions.\\n- **Leadership Skills**: Inspiring teams and creating a constructive work environment.\\n- **Persistence**: Continually striving to achieve goals despite obstacles.\\n- **Opportunity Identification**: Seeing prospects where others see problems.\\n- **Financial Acumen**: Understanding budgeting, forecasting, and resource management.1. A tech startup founder develops an app that simplifies online shopping experiences.  \\n2. An entrepreneur launches a sustainable fashion line to address environmental concerns in clothing.  \\n3. A restaurant owner pivots to delivery services during a pandemic to meet customer needs.  '}\n"
     ]
    }
   ],
   "source": [
    "def main():\n",
    "    summarizedAnsList, longAnsList = summarizedAnsFunc()\n",
    "\n",
    "    #\n",
    "    analogyList = []\n",
    "    for longAns in longAnsList:\n",
    "        analogy = generate_analogy(longAns)\n",
    "        analogyList.append(analogy)\n",
    "\n",
    "\n",
    "    for summ, analogy in zip(summarizedAnsList, analogyList):\n",
    "        summary = parse_Response(summ)\n",
    "        print(analogy)\n",
    "        summary['summarized_answer'] = summary['summarized_answer'] + analogy\n",
    "        print('\\n\\nNew summary')\n",
    "        print(summary)\n",
    "\n",
    "if __name__ == '__main__':\n",
    "    main()"
   ]
  },
  {
   "cell_type": "code",
   "execution_count": null,
   "id": "5349b2ef-40a1-4fe3-8e08-a47f33b0f48d",
   "metadata": {},
   "outputs": [],
   "source": []
  }
 ],
 "metadata": {
  "kernelspec": {
   "display_name": "Python 3 (ipykernel)",
   "language": "python",
   "name": "python3"
  },
  "language_info": {
   "codemirror_mode": {
    "name": "ipython",
    "version": 3
   },
   "file_extension": ".py",
   "mimetype": "text/x-python",
   "name": "python",
   "nbconvert_exporter": "python",
   "pygments_lexer": "ipython3",
   "version": "3.12.1"
  }
 },
 "nbformat": 4,
 "nbformat_minor": 5
}
