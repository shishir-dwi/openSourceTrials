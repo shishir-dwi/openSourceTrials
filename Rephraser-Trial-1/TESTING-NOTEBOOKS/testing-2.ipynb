{
 "cells": [
  {
   "cell_type": "code",
   "execution_count": 1,
   "id": "952b8195-c6de-43d8-8f48-e29d97c2137f",
   "metadata": {},
   "outputs": [],
   "source": [
    "def parse_Response(response):\n",
    "   if isinstance(response, str):\n",
    "       # print(response)\n",
    "       start_index = response.find(\"{\")\n",
    "       end_index = response.rfind(\"}\")\n",
    "       if start_index != -1 and end_index != -1:\n",
    "           valid_json_content = response[start_index : end_index + 1]\n",
    "           try:\n",
    "               JSON_response = json.loads(valid_json_content.replace(\"\\n\", \"\"))\n",
    "               # append_list_to_file(JSON_response)\n",
    "               return JSON_response\n",
    "           except json.JSONDecodeError as e:\n",
    "               print(f\"Error decoding JSON response: {e.__class__.__name__} - {e}\\n\\n Still trying to work on particular exceptions ...\")\n",
    "               print(\"Actual Content: \", valid_json_content)\n",
    "       else:\n",
    "           print(\"No valid JSON content found in the response.\")\n",
    "       # time.sleep(50)\n",
    "   elif isinstance(response, dict):\n",
    "       return response\n",
    "   else:\n",
    "       print(\"No response message found\", type(response))\n"
   ]
  },
  {
   "cell_type": "code",
   "execution_count": 50,
   "id": "b3139bf9-ae9e-4b23-b12c-9457919f53ec",
   "metadata": {},
   "outputs": [],
   "source": [
    "def definingPrompt_with_longAns():\n",
    "\n",
    "    styles_dict = {\n",
    "        \"style_3\" : \"Identify additional key points from the long answer that are not already covered in the provide **summary**.\"\n",
    "    }\n",
    "\n",
    "    instructions_dict = {\n",
    "        \"instruction_3\" : (\n",
    "            \"Ensure the extracted points provide unique insights, supporting details, or essential context to enrich the summary further. \\n\"\n",
    "            \"append these addional points to the given summary. \\n\"\n",
    "            \"The generated rephrased answer word length should be around that of the given content. \\n\"\n",
    "        ),\n",
    "    }\n",
    "\n",
    "    style = styles_dict[\"style_3\"]\n",
    "    instruction = instructions_dict[\"instruction_3\"]\n",
    "    \n",
    "    output_format = (\n",
    "        \"Provide the output in JSON format with the following key:\\n\"\n",
    "        \"- `rephrased_text`: The rephrased version of the input text.\"\n",
    "        \"Ensure there is no additional text, commentary, or formatting outside the JSON structure.\"\n",
    "    )\n",
    "    \n",
    "    template_string = (\n",
    "        \"You're an educational AI model specializing in text rephrasing, which has all the knowledge of undergraduate Bachelors of Technology\"\n",
    "        \"Your task is to rephase the **summary** based on the provide style, and guidelines. \\n\\n\"\n",
    "        \"Your writing style : {style}. \\n\\n\"\n",
    "        \"Guidelines to follow : {instructions} \\n\\n\"\n",
    "        \"Summary for rephrasing : {summary} \\n\\n\"\n",
    "        \"Long Answer : {long_answer}\\n\\n\"\n",
    "\n",
    "        \"{output_format} \\n\\n\"\n",
    "        \"Ensure that you follow all the above guidelines and rules to generate the rephrased content. Any deviation from these guidelines \\\n",
    "        will result in the rephrased content not meeting the educational standards required for the exercise.\"\n",
    "    )\n",
    "\n",
    "    return style, instruction, output_format, template_string"
   ]
  },
  {
   "cell_type": "code",
   "execution_count": 51,
   "id": "1d0bc07e-89f2-4ebd-8ac6-3d21fe14d854",
   "metadata": {},
   "outputs": [],
   "source": [
    "def output_df_long_ans(parsedOutputList, longAnsList):\n",
    "    summAnsList = []\n",
    "    rephrasedAnsList = []\n",
    "    for i in parsedOutputList:\n",
    "        summAnsList.append(i['summary'])\n",
    "        rephrasedAnsList.append(i['rephrased_text'])\n",
    "\n",
    "    final_df = pd.DataFrame({\n",
    "                            'longAns' : longAnsList,\n",
    "                             'summary': summAnsList,\n",
    "                             'rephrased_text' : rephrasedAnsList,\n",
    "                            })\n",
    "\n",
    "    return final_df"
   ]
  },
  {
   "cell_type": "code",
   "execution_count": 43,
   "id": "d7a25121-e573-4866-bf85-ad4ec1ced8f4",
   "metadata": {},
   "outputs": [],
   "source": [
    "def longAnsFunc():\n",
    "    longAnsDf = pd.read_csv('longAns.csv')\n",
    "    longAnsList = longAnsDf['Answer']\n",
    "    longAnsList.dropna(inplace=True)\n",
    "    return longAnsList"
   ]
  },
  {
   "cell_type": "code",
   "execution_count": 44,
   "id": "1c3bbcd2-b24f-484f-bf48-15d1ccc31efd",
   "metadata": {},
   "outputs": [],
   "source": [
    "l = longAnsFunc()"
   ]
  },
  {
   "cell_type": "code",
   "execution_count": 47,
   "id": "0750aad9-880a-49ee-9203-9c2b03f49850",
   "metadata": {},
   "outputs": [
    {
     "data": {
      "text/plain": [
       "(18,)"
      ]
     },
     "execution_count": 47,
     "metadata": {},
     "output_type": "execute_result"
    }
   ],
   "source": [
    "l.shape"
   ]
  },
  {
   "cell_type": "code",
   "execution_count": 10,
   "id": "46f8c294-7e63-4624-b619-26fe32112a8a",
   "metadata": {},
   "outputs": [],
   "source": [
    "def ask_want_to_save_csv(final_df):\n",
    "    import re\n",
    "    choice = input(\"Do you want to save the output csv (y/n) : \")\n",
    "    if choice.lower() == 'y':\n",
    "        output_dir = 'STYLE_3_FINAL_TESTING'\n",
    "        if not os.path.exists(output_dir):\n",
    "            os.makedirs(output_dir)\n",
    "        fileName = input(\"Enter csv file name : \")\n",
    "        valid_fileName = re.sub(r'[<>:\"/\\\\|?*]', '_', fileName)\n",
    "        save_path = os.path.join(output_dir, f'{valid_fileName}.csv')\n",
    "        final_df.to_csv(save_path, index=False)\n",
    "        print(\"CSV SAVED\")\n",
    "    else:\n",
    "        print(\"Ok no problem\")\n",
    "        print(final_df.head())"
   ]
  },
  {
   "cell_type": "code",
   "execution_count": 31,
   "id": "cf2766cf-cdae-4d60-ab96-f11ef940db8c",
   "metadata": {},
   "outputs": [],
   "source": [
    "def summarizedAnsFunc():\n",
    "    \"\"\"\n",
    "    Loads summarized answers from the 'genSum.csv' file and allows the user\n",
    "    to select a valid range of questions for rephrasing.\n",
    "\n",
    "    Returns:\n",
    "        list : A list of summarized answers within the specified range\n",
    "    \"\"\"\n",
    "    import ast\n",
    "\n",
    "    try:\n",
    "        # Load the data\n",
    "        df = pd.read_csv('genSum.csv')\n",
    "        df['summarized_ans'] = df['summary'].apply(ast.literal_eval)\n",
    "        summarizedAnswerList = [i['summarizedAnswer'] for i in df.summarized_ans]\n",
    "\n",
    "        # Validating dataset size\n",
    "        total_questions = len(summarizedAnswerList)\n",
    "        print(f\"Enter the range of questions (1-{total_questions}) from the dataset you want to REPHRASE\")\n",
    "\n",
    "        #loading_long_answer\n",
    "        longAnsDf = pd.read_csv('longAns.csv')\n",
    "        longAnsList = longAnsDf['Answer']\n",
    "        longAnsList.dropna(inplace=True)\n",
    "        \n",
    "        # getting the user input with validation\n",
    "        while True:\n",
    "            try:\n",
    "                starting_ind = int(input(f\"Starting question index (1-{total_questions}): \")) - 1\n",
    "                ending_ind = int(input(f\"Ending question index (1-{total_questions}): \")) - 1\n",
    "\n",
    "                if not (0 <= starting_ind < total_questions and 0 <= ending_ind < total_questions):\n",
    "                    print(f\"Indices must be between 1 and {total_questions}. Please try again.\")\n",
    "                elif starting_ind > ending_ind:\n",
    "                    print(\"Starting index cannot be greater than the ending index. Please try again.\")\n",
    "                else:\n",
    "                    break\n",
    "            except ValueError:\n",
    "                print(\"Invalid input. Please enter numeric value only.\")\n",
    "\n",
    "        #loop ended successfully , meaning the range entered is correct\n",
    "        return summarizedAnswerList[starting_ind: ending_ind + 1], longAnsList[starting_ind : ending_ind+1]\n",
    "\n",
    "    except FileNotFoundError:\n",
    "        print(\"The file was not found. Please ensure it exists in the current directory.\")\n",
    "    except KeyError as e:\n",
    "        print(f\"Error : Missing column {e} in the dataset. Please check the file format.\")\n",
    "    except Exception as e:\n",
    "        print(f\"An unexpected error occurred in the summarizedAnsFunc() : {e}\")\n"
   ]
  },
  {
   "cell_type": "code",
   "execution_count": 12,
   "id": "58470c69-bbb6-4c4a-8e0a-95c0e7fceda5",
   "metadata": {},
   "outputs": [],
   "source": [
    "def rephrasing_testing_long_ans(long_answer, summary, style, instructions, output_format, template_string,):\n",
    "    model = ChatOpenAI(model=\"gpt-4o-mini\", temperature=0.3)\n",
    "    prompt_template_1 = ChatPromptTemplate.from_template(template_string)\n",
    "\n",
    "    particular_message = prompt_template_1.format_messages(\n",
    "        long_answer = long_answer, summary=summary, style=style, instructions=instructions, output_format=output_format\n",
    "    )\n",
    "\n",
    "    try:\n",
    "    \n",
    "        start_time = time.time()\n",
    "        response = model.invoke(particular_message)\n",
    "        end_time = time.time()\n",
    "        print(\"Latency of Response = \", end_time - start_time)\n",
    "        rephrasedAns = response.content\n",
    "        try :\n",
    "            parsed_output = parse_Response(rephrasedAns)\n",
    "            if parsed_output:\n",
    "                parsed_output['summary'] = summary\n",
    "                return parsed_output\n",
    "            else:\n",
    "                raise Exception (\"could not rephrase :( \")\n",
    "        except Exception as e:\n",
    "            print(\"Error with extraction: \", type(e).__name__, \"–\", e, \"\\n\", traceback.format_exc())\n",
    "            return None\n",
    "    except Exception as e:\n",
    "        print(\"Error with invocation: \", type(e).__name__, \"–\", e, \"\\n\", traceback.format_exc())\n",
    "        return {\"error\": str(e)}\n",
    "\n"
   ]
  },
  {
   "cell_type": "code",
   "execution_count": 13,
   "id": "50a97ee9-25dc-4b31-b56a-c91c539c74bc",
   "metadata": {},
   "outputs": [],
   "source": [
    "import json\n",
    "import pandas as pd\n",
    "from langchain.prompts import ChatPromptTemplate\n",
    "from langchain_openai import ChatOpenAI\n",
    "from dotenv import load_dotenv\n",
    "import os\n",
    "import getpass\n",
    "import time\n",
    "import traceback"
   ]
  },
  {
   "cell_type": "code",
   "execution_count": 52,
   "id": "3e693843-c421-41e2-adc9-3809311afb12",
   "metadata": {},
   "outputs": [
    {
     "name": "stdout",
     "output_type": "stream",
     "text": [
      "Enter the range of questions (1-18) from the dataset you want to REPHRASE\n"
     ]
    },
    {
     "name": "stdin",
     "output_type": "stream",
     "text": [
      "Starting question index (1-18):  14\n",
      "Ending question index (1-18):  16\n"
     ]
    },
    {
     "name": "stdout",
     "output_type": "stream",
     "text": [
      "Latency of Response =  21.987158060073853\n",
      "Latency of Response =  13.467739820480347\n",
      "Latency of Response =  11.776642799377441\n"
     ]
    },
    {
     "name": "stdin",
     "output_type": "stream",
     "text": [
      "Do you want to save the output csv (y/n) :  y\n",
      "Enter csv file name :  test-1\n"
     ]
    },
    {
     "name": "stdout",
     "output_type": "stream",
     "text": [
      "CSV SAVED\n"
     ]
    }
   ],
   "source": [
    "def  main():\n",
    "    load_dotenv()\n",
    "\n",
    "    if not os.environ.get(\"OPENAI_API_KEY\"):\n",
    "        os.environ[\"OPENAI_API_KEY\"] = getpass.getpass(\"Enter API key for OpenAI : \")\n",
    "\n",
    "    style, instructions, output_format, template_string = definingPrompt_with_longAns() # defining the prompt\n",
    "\n",
    "    summarizedAnsList, longAnsList = summarizedAnsFunc()\n",
    "    parsedOutputList = []\n",
    "\n",
    "    #getting rephrasedResponse\n",
    "    for summary, longAns in zip(summarizedAnsList, longAnsList):\n",
    "        parsed_output = rephrasing_testing_long_ans(longAns, summary, style, instructions, output_format, template_string)\n",
    "        parsedOutputList.append(parsed_output)\n",
    "\n",
    "    # make an output csv file\n",
    "    final_df = output_df_long_ans(parsedOutputList, longAnsList)\n",
    "    ask_want_to_save_csv(final_df)\n",
    "\n",
    "\n",
    "if __name__ == '__main__':\n",
    "    main()"
   ]
  },
  {
   "cell_type": "code",
   "execution_count": 18,
   "id": "c1f7827f-8c73-4cd9-b174-6bd50574f146",
   "metadata": {},
   "outputs": [],
   "source": [
    "longAnsList = longAnsFunc()"
   ]
  },
  {
   "cell_type": "code",
   "execution_count": 19,
   "id": "1c18ffab-c36b-436a-a071-5ad4f9e74abc",
   "metadata": {},
   "outputs": [
    {
     "data": {
      "text/plain": [
       "0    An entrepreneur is an owner or founder of a bu...\n",
       "1    It is the process of identifying opportunities...\n",
       "3    Demand for Entrepreneurship\\nEmployment Genera...\n",
       "4    Entrepreneurial competencies and traits are at...\n",
       "5    Opportunity Recognition\\n\\nIt includes the abi...\n",
       "Name: Answer, dtype: object"
      ]
     },
     "execution_count": 19,
     "metadata": {},
     "output_type": "execute_result"
    }
   ],
   "source": [
    "longAnsList.head()"
   ]
  },
  {
   "cell_type": "code",
   "execution_count": 53,
   "id": "e7a5876d-2b2a-49a7-8bef-17947e1ac39b",
   "metadata": {},
   "outputs": [
    {
     "name": "stdout",
     "output_type": "stream",
     "text": [
      "Enter the range of questions (1-18) from the dataset you want to REPHRASE\n"
     ]
    },
    {
     "name": "stdin",
     "output_type": "stream",
     "text": [
      "Starting question index (1-18):  1\n",
      "Ending question index (1-18):  4\n"
     ]
    }
   ],
   "source": [
    "summarizedAnsList, longAnsList = summarizedAnsFunc()"
   ]
  },
  {
   "cell_type": "code",
   "execution_count": 58,
   "id": "88022481-85be-4bc1-a714-a94f448f25c6",
   "metadata": {},
   "outputs": [
    {
     "name": "stdout",
     "output_type": "stream",
     "text": [
      "{\n",
      "    \"summarized_answer\": \"An entrepreneur is a business founder who identifies opportunities, assumes risks, and efficiently uses resources to generate profit and contribute to economic growth. Key characteristics include: \\n\\n- **Innovation**: Introducing new or improved products/services.\\n- **Risk-taking**: Willingness to accept financial, professional, and personal risks.\\n- **Vision and Goal Orientation**: Clear long-term goals drive decision-making.\\n- **Resilience**: Overcoming hurdles and staying motivated.\\n- **Self-Confidence**: Belief in achieving goals and mobilizing resources.\\n- **Flexibility**: Adapting strategies to changing market conditions.\\n- **Leadership Skills**: Inspiring teams and creating a constructive work environment.\\n- **Persistence**: Continually striving to achieve goals despite obstacles.\\n- **Opportunity Identification**: Seeing prospects where others see problems.\\n- **Financial Acumen**: Understanding budgeting, forecasting, and resource management.\"\n",
      "}\n"
     ]
    }
   ],
   "source": [
    "print(summarizedAnsList[0])"
   ]
  },
  {
   "cell_type": "code",
   "execution_count": null,
   "id": "0a1d1231-0a30-4515-9d05-d745fcc2d00e",
   "metadata": {},
   "outputs": [],
   "source": []
  }
 ],
 "metadata": {
  "kernelspec": {
   "display_name": "Python 3 (ipykernel)",
   "language": "python",
   "name": "python3"
  },
  "language_info": {
   "codemirror_mode": {
    "name": "ipython",
    "version": 3
   },
   "file_extension": ".py",
   "mimetype": "text/x-python",
   "name": "python",
   "nbconvert_exporter": "python",
   "pygments_lexer": "ipython3",
   "version": "3.12.1"
  }
 },
 "nbformat": 4,
 "nbformat_minor": 5
}
