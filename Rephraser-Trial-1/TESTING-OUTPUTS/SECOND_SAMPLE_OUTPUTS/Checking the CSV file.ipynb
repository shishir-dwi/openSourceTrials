{
 "cells": [
  {
   "cell_type": "code",
   "execution_count": 1,
   "id": "36cb8872-8ca4-4141-9b61-1db66201b400",
   "metadata": {},
   "outputs": [],
   "source": [
    "import pandas as pd"
   ]
  },
  {
   "cell_type": "code",
   "execution_count": 2,
   "id": "fe54976f-0652-43f1-8ac3-bb890c95e609",
   "metadata": {},
   "outputs": [],
   "source": [
    "df = pd.read_csv('style_6_Analogy.csv')"
   ]
  },
  {
   "cell_type": "code",
   "execution_count": 3,
   "id": "00936797-7037-4124-a38b-8947c029a3f0",
   "metadata": {},
   "outputs": [
    {
     "data": {
      "text/html": [
       "<div>\n",
       "<style scoped>\n",
       "    .dataframe tbody tr th:only-of-type {\n",
       "        vertical-align: middle;\n",
       "    }\n",
       "\n",
       "    .dataframe tbody tr th {\n",
       "        vertical-align: top;\n",
       "    }\n",
       "\n",
       "    .dataframe thead th {\n",
       "        text-align: right;\n",
       "    }\n",
       "</style>\n",
       "<table border=\"1\" class=\"dataframe\">\n",
       "  <thead>\n",
       "    <tr style=\"text-align: right;\">\n",
       "      <th></th>\n",
       "      <th>summary</th>\n",
       "      <th>Rephrased Ans</th>\n",
       "    </tr>\n",
       "  </thead>\n",
       "  <tbody>\n",
       "    <tr>\n",
       "      <th>0</th>\n",
       "      <td>{\\n    \"summarized_answer\": \"- **Entrepreneuri...</td>\n",
       "      <td>- **Entrepreneurial Personality**: Centers on ...</td>\n",
       "    </tr>\n",
       "    <tr>\n",
       "      <th>1</th>\n",
       "      <td>{\\n    \"summarized_answer\": \"An intrapreneur i...</td>\n",
       "      <td>An intrapreneur is like a chef in a large rest...</td>\n",
       "    </tr>\n",
       "    <tr>\n",
       "      <th>2</th>\n",
       "      <td>```json\\n{\\n    \"summarized_answer\": \"Critical...</td>\n",
       "      <td>Key components of an intrapreneurial setting i...</td>\n",
       "    </tr>\n",
       "    <tr>\n",
       "      <th>3</th>\n",
       "      <td>{\\n    \"summarized_answer\": \"Entrepreneurs can...</td>\n",
       "      <td>Entrepreneurs can be categorized based on seve...</td>\n",
       "    </tr>\n",
       "    <tr>\n",
       "      <th>4</th>\n",
       "      <td>```json\\n{\\n    \"summarized_answer\": \"Entrepre...</td>\n",
       "      <td>Entrepreneurial Development Programs (EDPs) ar...</td>\n",
       "    </tr>\n",
       "  </tbody>\n",
       "</table>\n",
       "</div>"
      ],
      "text/plain": [
       "                                             summary  \\\n",
       "0  {\\n    \"summarized_answer\": \"- **Entrepreneuri...   \n",
       "1  {\\n    \"summarized_answer\": \"An intrapreneur i...   \n",
       "2  ```json\\n{\\n    \"summarized_answer\": \"Critical...   \n",
       "3  {\\n    \"summarized_answer\": \"Entrepreneurs can...   \n",
       "4  ```json\\n{\\n    \"summarized_answer\": \"Entrepre...   \n",
       "\n",
       "                                       Rephrased Ans  \n",
       "0  - **Entrepreneurial Personality**: Centers on ...  \n",
       "1  An intrapreneur is like a chef in a large rest...  \n",
       "2  Key components of an intrapreneurial setting i...  \n",
       "3  Entrepreneurs can be categorized based on seve...  \n",
       "4  Entrepreneurial Development Programs (EDPs) ar...  "
      ]
     },
     "execution_count": 3,
     "metadata": {},
     "output_type": "execute_result"
    }
   ],
   "source": [
    "df.head()"
   ]
  },
  {
   "cell_type": "code",
   "execution_count": null,
   "id": "cf02c208-7d43-4790-8b22-a50be38c341c",
   "metadata": {},
   "outputs": [],
   "source": []
  }
 ],
 "metadata": {
  "kernelspec": {
   "display_name": "Python 3 (ipykernel)",
   "language": "python",
   "name": "python3"
  },
  "language_info": {
   "codemirror_mode": {
    "name": "ipython",
    "version": 3
   },
   "file_extension": ".py",
   "mimetype": "text/x-python",
   "name": "python",
   "nbconvert_exporter": "python",
   "pygments_lexer": "ipython3",
   "version": "3.12.1"
  }
 },
 "nbformat": 4,
 "nbformat_minor": 5
}
