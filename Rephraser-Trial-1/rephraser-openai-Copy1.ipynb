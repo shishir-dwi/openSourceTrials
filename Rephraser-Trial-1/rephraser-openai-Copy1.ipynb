{
 "cells": [
  {
   "cell_type": "code",
   "execution_count": 1,
   "id": "5403d910-1939-434c-a04a-9db5189cb2b0",
   "metadata": {},
   "outputs": [],
   "source": [
    "from dotenv import load_dotenv"
   ]
  },
  {
   "cell_type": "code",
   "execution_count": 2,
   "id": "8f69d339-62e5-4502-9bc4-cc14b3b5fa9c",
   "metadata": {},
   "outputs": [
    {
     "data": {
      "text/plain": [
       "True"
      ]
     },
     "execution_count": 2,
     "metadata": {},
     "output_type": "execute_result"
    }
   ],
   "source": [
    "load_dotenv()"
   ]
  },
  {
   "cell_type": "code",
   "execution_count": 3,
   "id": "888ae845-f6b0-4588-83fe-6fa71eacdaab",
   "metadata": {},
   "outputs": [],
   "source": [
    "import getpass\n",
    "import os\n",
    "\n",
    "if not os.environ.get(\"OPENAI_API_KEY\"):\n",
    "  os.environ[\"OPENAI_API_KEY\"] = getpass.getpass(\"Enter API key for OpenAI: \")\n",
    "\n",
    "from langchain_openai import ChatOpenAI\n",
    "\n",
    "model = ChatOpenAI(model=\"gpt-4o-mini\", temperature=0.3)\n",
    "\n"
   ]
  },
  {
   "cell_type": "markdown",
   "id": "65a7ff80-18a4-4f78-bb54-14a0c58961ec",
   "metadata": {},
   "source": [
    "## PROMPT ENGINEERING"
   ]
  },
  {
   "cell_type": "code",
   "execution_count": 4,
   "id": "459bfc49-e9a2-451c-9fc3-fb025804f298",
   "metadata": {},
   "outputs": [],
   "source": [
    "from langchain.prompts import ChatPromptTemplate"
   ]
  },
  {
   "cell_type": "markdown",
   "id": "9f457a78-fa8c-4beb-9bfa-27be226abe89",
   "metadata": {},
   "source": [
    "#### Role"
   ]
  },
  {
   "cell_type": "code",
   "execution_count": 5,
   "id": "59f4dd84-c4d5-4ec1-a756-ee3f2c504959",
   "metadata": {},
   "outputs": [],
   "source": [
    "Role = \"\"\"An Educational AI model designed to Rephrase text\"\"\""
   ]
  },
  {
   "cell_type": "markdown",
   "id": "5b365691-75a8-4274-951f-862eeac1b611",
   "metadata": {},
   "source": [
    "#### Task"
   ]
  },
  {
   "cell_type": "code",
   "execution_count": 6,
   "id": "85d326a4-6387-439f-bff4-7f548dd19787",
   "metadata": {},
   "outputs": [],
   "source": [
    "Task = \"\"\"To convert the text such that your response \"\"\""
   ]
  },
  {
   "cell_type": "markdown",
   "id": "4509523d-cc93-409a-8fad-57ba5ace74f1",
   "metadata": {},
   "source": [
    "#### Style / Tag / Keywords"
   ]
  },
  {
   "cell_type": "markdown",
   "id": "6a28551a-04bb-4807-8241-f913f15b9047",
   "metadata": {},
   "source": [
    "1. less technical terms"
   ]
  },
  {
   "cell_type": "code",
   "execution_count": 7,
   "id": "689b69d9-d60e-4577-ac17-ca666f8dc08d",
   "metadata": {},
   "outputs": [],
   "source": [
    "style = \"\"\"should be simpler and use fewer technical terms compared to the original input\"\"\""
   ]
  },
  {
   "cell_type": "markdown",
   "id": "1bb27efc-e312-4c6a-8309-1f8b1bc5b6aa",
   "metadata": {},
   "source": [
    "2. Easier language"
   ]
  },
  {
   "cell_type": "code",
   "execution_count": 8,
   "id": "aee552af-ac97-4ec7-bd1e-444039805104",
   "metadata": {},
   "outputs": [],
   "source": [
    "style = \"\"\"is in a simple and Easy to understand language\"\"\""
   ]
  },
  {
   "cell_type": "markdown",
   "id": "7bdf4217-9f58-4b75-b6d2-0ecc105ec9ad",
   "metadata": {},
   "source": [
    "3. More Pointers"
   ]
  },
  {
   "cell_type": "code",
   "execution_count": 9,
   "id": "f860f326-8ac2-4aa4-a7ec-8a6c160bd2da",
   "metadata": {},
   "outputs": [],
   "source": [
    "style = \"\"\"should include additional points or details, expanding the content to increase its overall length and provide more information\"\"\""
   ]
  },
  {
   "cell_type": "markdown",
   "id": "9cdd442a-15ec-402d-8bfc-049b715ed72b",
   "metadata": {},
   "source": [
    "<p style = \"color: red\">My Insights starts now</p>"
   ]
  },
  {
   "cell_type": "markdown",
   "id": "022f81ce-58fb-4a1c-a78f-bc2cb90f754d",
   "metadata": {},
   "source": [
    "4. Mention the topics covered in the text answer in the ending of the response  --- tobe worked on later"
   ]
  },
  {
   "cell_type": "code",
   "execution_count": 10,
   "id": "332362a3-f124-43e1-bd92-2ed38d4465ed",
   "metadata": {},
   "outputs": [],
   "source": [
    "style = \"\"\"include a summary that explicitly lists the topics covered in the text at the end of the response.\"\"\""
   ]
  },
  {
   "cell_type": "markdown",
   "id": "d7d39f22-4e79-4e57-b052-61c88420d568",
   "metadata": {},
   "source": [
    "5. Use Mnemonics or Memory Aids  -- not feasible  -- in the initial phase"
   ]
  },
  {
   "cell_type": "code",
   "execution_count": 11,
   "id": "87827ed9-8f82-4176-824f-d3528a28aa76",
   "metadata": {},
   "outputs": [],
   "source": [
    "style = \"\"\"Include simple mnemonics or memory aids to help the student remember key concepts.\"\"\""
   ]
  },
  {
   "cell_type": "markdown",
   "id": "e1caa878-0467-4307-93c3-aa90a8833f45",
   "metadata": {},
   "source": [
    "6. Use Analogy"
   ]
  },
  {
   "cell_type": "code",
   "execution_count": 12,
   "id": "00b26951-2cbc-40f0-a068-fcecf6b402af",
   "metadata": {},
   "outputs": [],
   "source": [
    "style = \"\"\"explains the text including an analogy of general everyday activities one can easily infer \"\"\""
   ]
  },
  {
   "cell_type": "markdown",
   "id": "7fdb8ec6-8bda-4a13-85a3-00dad21d2734",
   "metadata": {},
   "source": [
    "7. Include examples"
   ]
  },
  {
   "cell_type": "code",
   "execution_count": 13,
   "id": "8c58a68c-061a-49cb-b5a1-cbc38ca22d0e",
   "metadata": {},
   "outputs": [],
   "source": [
    "style = \"\"\"Ensure the inclusion of examples if not already provided, with the quantity ranging from 2 to 5, wherever feasible.\"\"\""
   ]
  },
  {
   "cell_type": "markdown",
   "id": "e214cc2d-c13e-451c-b609-1bf0aab432ad",
   "metadata": {},
   "source": [
    "8. Visual Representation --- Not feasible\n",
    "9. Highlight practical applications or real-world relevance of the concepts covered in the text.\n",
    "10. tag - theoritical  --- numerical -- "
   ]
  },
  {
   "cell_type": "markdown",
   "id": "0e481301-4941-44fe-93c4-9f7b66d2404f",
   "metadata": {},
   "source": [
    "#### Instructions"
   ]
  },
  {
   "cell_type": "code",
   "execution_count": 14,
   "id": "c4935957-064a-484f-808e-0d25067864da",
   "metadata": {},
   "outputs": [],
   "source": [
    "instructions = (\n",
    "    \"Rephrase the provided text such that it is Concise while retaining its original meaning. \\n\"\n",
    "    \"The generated rephrased answer word length should be around that of the given content. \\n\"\n",
    "    \"Ensure the rephrased response remains in the context of the provided content without introducing unrelated information. \\n\"\n",
    ")"
   ]
  },
  {
   "cell_type": "markdown",
   "id": "cb09ad5b-d7d6-42a1-8331-8c4bab8f3f61",
   "metadata": {},
   "source": [
    "#### Ouput_Format"
   ]
  },
  {
   "cell_type": "code",
   "execution_count": 15,
   "id": "8dc44e8d-3f40-418d-a72d-89c4ce046a9e",
   "metadata": {},
   "outputs": [],
   "source": [
    "output_format = (\n",
    "    \"Provide the output in JSON format with the following keys:\\n\"\n",
    "    \"- `input_text`: The original input text.\\n\"\n",
    "    \"- `rephrased_text_response`: The rephrased version of the input text.\"\n",
    "    \"Ensure there is no additional text, commentary, or formatting outside the JSON structure.\"\n",
    "\n",
    ")"
   ]
  },
  {
   "cell_type": "markdown",
   "id": "a397f515-a2b3-411c-a034-29a89e37df66",
   "metadata": {},
   "source": [
    "<h3 style=\"color: green\">TEMPLATE STRING</h3>"
   ]
  },
  {
   "cell_type": "markdown",
   "id": "8538e777-f4aa-402e-aba6-266fc36417d2",
   "metadata": {},
   "source": [
    "template_string = (\n",
    "    \"You're an Educational AI model designed to Rephrase text, which has all the knowledge of the undergraduate Bachelors of Technology Course.\"\n",
    "    \"Your task is rephrase the given text based on the your {style} --<p style =\"color : red\"> yaha pe bhi test karna hai,</p> the context, and the given guidelines. \\n\\n\"\n",
    "    \"Your writing style : {style}. \"\n",
    "    \"Follow these instructions: {instructions}\\n\"\n",
    "    \"Text: ```{text}```\\n\"\n",
    "    \"{output_format}\"\n",
    ")"
   ]
  },
  {
   "cell_type": "code",
   "execution_count": 16,
   "id": "5296d44f-da29-4d26-9c75-622b61ee71e5",
   "metadata": {},
   "outputs": [],
   "source": [
    "template_string = (\n",
    "    \"You're an Educational AI model designed to Rephrase text, which has all the knowledge of the undergraduate Bachelors of Technology Course.\"\n",
    "    \"Your task is rephrase the given text based on the your style, the context, and the given guidelines. \\n\\n\"\n",
    "    \"Your writing style : {style}. \\n\\n\"\n",
    "    \"Follow these instructions to generate a good quality rephrased answer: {instructions}\\n\"\n",
    "    \"Given content to be used for rephrasing: ```{text}```\\n\\n\"\n",
    "    \"{output_format} \\n\\n\"\n",
    "    \"Ensure that you follow all the above guidelines and rules to generate the rephrased content. Any deviation from these guidelines \\\n",
    "    will result in rephrased content not meeting the education standards required for this exercise.\"\n",
    "\n",
    ")"
   ]
  },
  {
   "cell_type": "code",
   "execution_count": 17,
   "id": "d6f29209-051e-4e5c-837c-883b050a53d9",
   "metadata": {},
   "outputs": [],
   "source": [
    "prompt_template_1 = ChatPromptTemplate.from_template(template_string)\n"
   ]
  },
  {
   "cell_type": "code",
   "execution_count": 18,
   "id": "fe57ca6b-6787-49a1-835e-b334f2edffdf",
   "metadata": {},
   "outputs": [
    {
     "name": "stdout",
     "output_type": "stream",
     "text": [
      "input_variables=['instructions', 'output_format', 'style', 'text'] input_types={} partial_variables={} messages=[HumanMessagePromptTemplate(prompt=PromptTemplate(input_variables=['instructions', 'output_format', 'style', 'text'], input_types={}, partial_variables={}, template=\"You're an Educational AI model designed to Rephrase text, which has all the knowledge of the undergraduate Bachelors of Technology Course.Your task is rephrase the given text based on the your style, the context, and the given guidelines. \\n\\nYour writing style : {style}. \\n\\nFollow these instructions to generate a good quality rephrased answer: {instructions}\\nGiven content to be used for rephrasing: ```{text}```\\n\\n{output_format} \\n\\nEnsure that you follow all the above guidelines and rules to generate the rephrased content. Any deviation from these guidelines     will result in rephrased content not meeting the education standards required for this exercise.\"), additional_kwargs={})]\n"
     ]
    }
   ],
   "source": [
    "print(prompt_template_1)"
   ]
  },
  {
   "cell_type": "markdown",
   "id": "13c77509-6889-4a18-a823-a77c3748e808",
   "metadata": {},
   "source": [
    "<!-- messages = prompt_template_1.format_messages(text=input_text, Task=Task, Role=Role, style=style, instructions=instructions, output_format=output_format)\n",
    " -->"
   ]
  },
  {
   "cell_type": "markdown",
   "id": "be9bbed6-9289-4a71-95db-54666b97f4d9",
   "metadata": {},
   "source": [
    "<h1 style = \"color : blue; font-family : verdana\">RUNNING ON THE FINAL SAMPLE OF PME DATA</h1>"
   ]
  },
  {
   "cell_type": "markdown",
   "id": "8d7315a2-99fd-42ff-a405-824dc217a988",
   "metadata": {},
   "source": [
    "## Importing the csv"
   ]
  },
  {
   "cell_type": "code",
   "execution_count": 20,
   "id": "dabd1994-42cd-4dcc-95e2-ecfd2313dfe2",
   "metadata": {},
   "outputs": [],
   "source": [
    "import pandas as pd"
   ]
  },
  {
   "cell_type": "code",
   "execution_count": 21,
   "id": "9f595449-c2e7-4acc-ad73-fbecacd6d3ff",
   "metadata": {},
   "outputs": [],
   "source": [
    "df = pd.read_csv('genSum.csv')"
   ]
  },
  {
   "cell_type": "code",
   "execution_count": 22,
   "id": "427dbbbf-9d17-40d7-9fe1-ec24b2490810",
   "metadata": {},
   "outputs": [
    {
     "data": {
      "text/html": [
       "<div>\n",
       "<style scoped>\n",
       "    .dataframe tbody tr th:only-of-type {\n",
       "        vertical-align: middle;\n",
       "    }\n",
       "\n",
       "    .dataframe tbody tr th {\n",
       "        vertical-align: top;\n",
       "    }\n",
       "\n",
       "    .dataframe thead th {\n",
       "        text-align: right;\n",
       "    }\n",
       "</style>\n",
       "<table border=\"1\" class=\"dataframe\">\n",
       "  <thead>\n",
       "    <tr style=\"text-align: right;\">\n",
       "      <th></th>\n",
       "      <th>year</th>\n",
       "      <th>branch</th>\n",
       "      <th>subject</th>\n",
       "      <th>unit</th>\n",
       "      <th>summary</th>\n",
       "    </tr>\n",
       "  </thead>\n",
       "  <tbody>\n",
       "    <tr>\n",
       "      <th>0</th>\n",
       "      <td>4</td>\n",
       "      <td>Computer Science Engineering</td>\n",
       "      <td>PME</td>\n",
       "      <td>Unit 1</td>\n",
       "      <td>{'qid': 'que1', 'summarizedAnswer': '{\\n    \"s...</td>\n",
       "    </tr>\n",
       "    <tr>\n",
       "      <th>1</th>\n",
       "      <td>4</td>\n",
       "      <td>Computer Science Engineering</td>\n",
       "      <td>PME</td>\n",
       "      <td>Unit 1</td>\n",
       "      <td>{'qid': 'que2', 'summarizedAnswer': '{\\n    \"s...</td>\n",
       "    </tr>\n",
       "    <tr>\n",
       "      <th>2</th>\n",
       "      <td>4</td>\n",
       "      <td>Computer Science Engineering</td>\n",
       "      <td>PME</td>\n",
       "      <td>Unit 1</td>\n",
       "      <td>{'qid': 'que3', 'summarizedAnswer': '{\\n    \"s...</td>\n",
       "    </tr>\n",
       "    <tr>\n",
       "      <th>3</th>\n",
       "      <td>4</td>\n",
       "      <td>Computer Science Engineering</td>\n",
       "      <td>PME</td>\n",
       "      <td>Unit 1</td>\n",
       "      <td>{'qid': 'que4', 'summarizedAnswer': '```json\\n...</td>\n",
       "    </tr>\n",
       "    <tr>\n",
       "      <th>4</th>\n",
       "      <td>4</td>\n",
       "      <td>Computer Science Engineering</td>\n",
       "      <td>PME</td>\n",
       "      <td>Unit 1</td>\n",
       "      <td>{'qid': 'que5', 'summarizedAnswer': '```json\\n...</td>\n",
       "    </tr>\n",
       "  </tbody>\n",
       "</table>\n",
       "</div>"
      ],
      "text/plain": [
       "   year                        branch subject    unit  \\\n",
       "0     4  Computer Science Engineering     PME  Unit 1   \n",
       "1     4  Computer Science Engineering     PME  Unit 1   \n",
       "2     4  Computer Science Engineering     PME  Unit 1   \n",
       "3     4  Computer Science Engineering     PME  Unit 1   \n",
       "4     4  Computer Science Engineering     PME  Unit 1   \n",
       "\n",
       "                                             summary  \n",
       "0  {'qid': 'que1', 'summarizedAnswer': '{\\n    \"s...  \n",
       "1  {'qid': 'que2', 'summarizedAnswer': '{\\n    \"s...  \n",
       "2  {'qid': 'que3', 'summarizedAnswer': '{\\n    \"s...  \n",
       "3  {'qid': 'que4', 'summarizedAnswer': '```json\\n...  \n",
       "4  {'qid': 'que5', 'summarizedAnswer': '```json\\n...  "
      ]
     },
     "execution_count": 22,
     "metadata": {},
     "output_type": "execute_result"
    }
   ],
   "source": [
    "df.head()"
   ]
  },
  {
   "cell_type": "markdown",
   "id": "bc92ad5f-a947-4669-9429-fdb2a71ac731",
   "metadata": {},
   "source": [
    "## Data cleaning and Preprocessing"
   ]
  },
  {
   "cell_type": "code",
   "execution_count": 23,
   "id": "cccd43d2-94be-4844-a22f-2a0870a09c5b",
   "metadata": {},
   "outputs": [],
   "source": [
    "# converting the string to dictionary of the summary column\n",
    "import ast\n",
    "df['summarized_ans'] = df['summary'].apply(ast.literal_eval)"
   ]
  },
  {
   "cell_type": "code",
   "execution_count": 24,
   "id": "bc711255-6e39-4967-9efb-d642db36edb2",
   "metadata": {},
   "outputs": [
    {
     "data": {
      "text/html": [
       "<div>\n",
       "<style scoped>\n",
       "    .dataframe tbody tr th:only-of-type {\n",
       "        vertical-align: middle;\n",
       "    }\n",
       "\n",
       "    .dataframe tbody tr th {\n",
       "        vertical-align: top;\n",
       "    }\n",
       "\n",
       "    .dataframe thead th {\n",
       "        text-align: right;\n",
       "    }\n",
       "</style>\n",
       "<table border=\"1\" class=\"dataframe\">\n",
       "  <thead>\n",
       "    <tr style=\"text-align: right;\">\n",
       "      <th></th>\n",
       "      <th>year</th>\n",
       "      <th>branch</th>\n",
       "      <th>subject</th>\n",
       "      <th>unit</th>\n",
       "      <th>summary</th>\n",
       "      <th>summarized_ans</th>\n",
       "    </tr>\n",
       "  </thead>\n",
       "  <tbody>\n",
       "    <tr>\n",
       "      <th>0</th>\n",
       "      <td>4</td>\n",
       "      <td>Computer Science Engineering</td>\n",
       "      <td>PME</td>\n",
       "      <td>Unit 1</td>\n",
       "      <td>{'qid': 'que1', 'summarizedAnswer': '{\\n    \"s...</td>\n",
       "      <td>{'qid': 'que1', 'summarizedAnswer': '{\n",
       "    \"su...</td>\n",
       "    </tr>\n",
       "    <tr>\n",
       "      <th>1</th>\n",
       "      <td>4</td>\n",
       "      <td>Computer Science Engineering</td>\n",
       "      <td>PME</td>\n",
       "      <td>Unit 1</td>\n",
       "      <td>{'qid': 'que2', 'summarizedAnswer': '{\\n    \"s...</td>\n",
       "      <td>{'qid': 'que2', 'summarizedAnswer': '{\n",
       "    \"su...</td>\n",
       "    </tr>\n",
       "    <tr>\n",
       "      <th>2</th>\n",
       "      <td>4</td>\n",
       "      <td>Computer Science Engineering</td>\n",
       "      <td>PME</td>\n",
       "      <td>Unit 1</td>\n",
       "      <td>{'qid': 'que3', 'summarizedAnswer': '{\\n    \"s...</td>\n",
       "      <td>{'qid': 'que3', 'summarizedAnswer': '{\n",
       "    \"su...</td>\n",
       "    </tr>\n",
       "    <tr>\n",
       "      <th>3</th>\n",
       "      <td>4</td>\n",
       "      <td>Computer Science Engineering</td>\n",
       "      <td>PME</td>\n",
       "      <td>Unit 1</td>\n",
       "      <td>{'qid': 'que4', 'summarizedAnswer': '```json\\n...</td>\n",
       "      <td>{'qid': 'que4', 'summarizedAnswer': '```json\n",
       "{...</td>\n",
       "    </tr>\n",
       "    <tr>\n",
       "      <th>4</th>\n",
       "      <td>4</td>\n",
       "      <td>Computer Science Engineering</td>\n",
       "      <td>PME</td>\n",
       "      <td>Unit 1</td>\n",
       "      <td>{'qid': 'que5', 'summarizedAnswer': '```json\\n...</td>\n",
       "      <td>{'qid': 'que5', 'summarizedAnswer': '```json\n",
       "{...</td>\n",
       "    </tr>\n",
       "  </tbody>\n",
       "</table>\n",
       "</div>"
      ],
      "text/plain": [
       "   year                        branch subject    unit  \\\n",
       "0     4  Computer Science Engineering     PME  Unit 1   \n",
       "1     4  Computer Science Engineering     PME  Unit 1   \n",
       "2     4  Computer Science Engineering     PME  Unit 1   \n",
       "3     4  Computer Science Engineering     PME  Unit 1   \n",
       "4     4  Computer Science Engineering     PME  Unit 1   \n",
       "\n",
       "                                             summary  \\\n",
       "0  {'qid': 'que1', 'summarizedAnswer': '{\\n    \"s...   \n",
       "1  {'qid': 'que2', 'summarizedAnswer': '{\\n    \"s...   \n",
       "2  {'qid': 'que3', 'summarizedAnswer': '{\\n    \"s...   \n",
       "3  {'qid': 'que4', 'summarizedAnswer': '```json\\n...   \n",
       "4  {'qid': 'que5', 'summarizedAnswer': '```json\\n...   \n",
       "\n",
       "                                      summarized_ans  \n",
       "0  {'qid': 'que1', 'summarizedAnswer': '{\n",
       "    \"su...  \n",
       "1  {'qid': 'que2', 'summarizedAnswer': '{\n",
       "    \"su...  \n",
       "2  {'qid': 'que3', 'summarizedAnswer': '{\n",
       "    \"su...  \n",
       "3  {'qid': 'que4', 'summarizedAnswer': '```json\n",
       "{...  \n",
       "4  {'qid': 'que5', 'summarizedAnswer': '```json\n",
       "{...  "
      ]
     },
     "execution_count": 24,
     "metadata": {},
     "output_type": "execute_result"
    }
   ],
   "source": [
    "df.head()"
   ]
  },
  {
   "cell_type": "code",
   "execution_count": 25,
   "id": "4f172314-0e7a-46af-9523-350dc75d0732",
   "metadata": {},
   "outputs": [
    {
     "name": "stdout",
     "output_type": "stream",
     "text": [
      "18\n"
     ]
    }
   ],
   "source": [
    "print(len(df.summarized_ans))"
   ]
  },
  {
   "cell_type": "code",
   "execution_count": 26,
   "id": "6cf24feb-2968-425a-8145-5a003ceee4c7",
   "metadata": {},
   "outputs": [
    {
     "name": "stdout",
     "output_type": "stream",
     "text": [
      "<class 'dict'>\n",
      "<class 'dict'>\n",
      "<class 'dict'>\n",
      "<class 'dict'>\n",
      "<class 'dict'>\n",
      "<class 'dict'>\n",
      "<class 'dict'>\n",
      "<class 'dict'>\n",
      "<class 'dict'>\n",
      "<class 'dict'>\n",
      "<class 'dict'>\n",
      "<class 'dict'>\n",
      "<class 'dict'>\n",
      "<class 'dict'>\n",
      "<class 'dict'>\n",
      "<class 'dict'>\n",
      "<class 'dict'>\n",
      "<class 'dict'>\n"
     ]
    }
   ],
   "source": [
    "for i in df.summarized_ans:\n",
    "    print(type(i))"
   ]
  },
  {
   "cell_type": "markdown",
   "id": "0ab61ed5-04c6-4036-a9b3-d17d0831ea54",
   "metadata": {},
   "source": [
    "## making a list of all these dicts of summarized ans to pass it as input text for the model"
   ]
  },
  {
   "cell_type": "code",
   "execution_count": 27,
   "id": "78da9c76-c481-441c-b0ca-3992a3f13dcf",
   "metadata": {},
   "outputs": [],
   "source": [
    "summarizedAnswerList = []\n",
    "for i in df.summarized_ans:\n",
    "    summarizedAnswerList.append(i['summarizedAnswer'])"
   ]
  },
  {
   "cell_type": "code",
   "execution_count": 28,
   "id": "b74eaf4a-184b-4aca-8ac3-9cf496428d5b",
   "metadata": {},
   "outputs": [
    {
     "name": "stdout",
     "output_type": "stream",
     "text": [
      "['{\\n    \"summarized_answer\": \"An entrepreneur is a business founder who identifies opportunities, assumes risks, and efficiently uses resources to generate profit and contribute to economic growth. Key characteristics include: \\\\n\\\\n- **Innovation**: Introducing new or improved products/services.\\\\n- **Risk-taking**: Willingness to accept financial, professional, and personal risks.\\\\n- **Vision and Goal Orientation**: Clear long-term goals drive decision-making.\\\\n- **Resilience**: Overcoming hurdles and staying motivated.\\\\n- **Self-Confidence**: Belief in achieving goals and mobilizing resources.\\\\n- **Flexibility**: Adapting strategies to changing market conditions.\\\\n- **Leadership Skills**: Inspiring teams and creating a constructive work environment.\\\\n- **Persistence**: Continually striving to achieve goals despite obstacles.\\\\n- **Opportunity Identification**: Seeing prospects where others see problems.\\\\n- **Financial Acumen**: Understanding budgeting, forecasting, and resource management.\"\\n}', '{\\n    \"summarized_answer\": \"- Entrepreneurship involves identifying and creating opportunities through innovation, often by establishing new businesses or ventures.\\\\n- It incorporates capital, labor, and knowledge to develop products or services that meet market demands.\\\\n- Driven by calculated risk-taking and responding to change for business or social outcomes.\\\\n- Key aspects include:\\\\n  - Innovation: Developing new ideas, products, or services to solve problems or meet unmet needs.\\\\n  - Risk-taking: Willingness to face monetary and personal risks in developing and managing new ventures.\\\\n  - Value creation: Delivering economic or social value by satisfying market needs.\"\\n}', '{\\n    \"summarized_answer\": \"Entrepreneurship is crucial for: \\\\n- **Employment Generation**: New ventures create jobs, reducing unemployment. \\\\n- **Economic Development**: Enhances production, productivity, and wealth, improving public utilities. \\\\n- **Innovation and Competition**: Drives new products/services, fostering technological advancement. \\\\n- **Social Change**: Addresses social issues like poverty and healthcare, aiding societal development. \\\\n- **Diversity and Variety**: Offers unique products/services, catering to diverse consumer tastes. \\\\n- **Economic Resilience**: Strengthens economies, adaptable to market changes. \\\\n\\\\nScope of Entrepreneurship includes: \\\\n- **Small Business**: Local shops and services vital for community development. \\\\n- **Scalable Startups**: Rapid growth with venture capital, targeting expanding markets. \\\\n- **Social Entrepreneurship**: Balances social value with financial sustainability. \\\\n- **Corporate Entrepreneurship**: Intrapreneurship within large organizations for innovation. \\\\n- **Lifestyle Entrepreneurship**: Reflects entrepreneur\\'s values, focusing on balanced growth. \\\\n- **Technology Entrepreneurship**: Develops tech solutions for modern consumer needs.\"\\n}', '```json\\n{\\n    \"summarized_answer\": \"Entrepreneurial competencies and traits are essential for recognizing opportunities, managing risks, and innovating to run successful businesses. Key competencies include: \\\\n- Opportunity Identification: Spotting market trends and gaps.\\\\n- Risk Management: Making informed decisions to minimize risks.\\\\n- Innovation and Creativity: Developing unique solutions.\\\\n- Strategic Planning: Setting clear goals and adapting plans.\\\\n- Networking: Building professional connections for resources and marketing.\\\\n- Decision Making: Weighing choices with limited information.\\\\n- Financial Management: Managing cash flow and budgeting.\\\\n- Leadership and People Management: Motivating teams towards goals.\\\\nKey traits include: \\\\n- Self-Motivation: Driven by personal goals.\\\\n- Resilience: Bouncing back from failures.\\\\n- Entrepreneurial Passion: Energizing and inspiring teams.\\\\n- Flexibility: Adapting to market changes.\\\\n- Integrity: Building trust with stakeholders.\\\\n- Vision: Providing direction and purpose.\\\\n- Risk-Tolerance: Handling uncertainty and taking calculated risks.\"\\n}\\n```', '```json\\n{\\n    \"summarized_answer\": \"Major competencies for superior entrepreneurial performance include: \\\\n\\\\n- **Opportunity Recognition**: Discovering business opportunities and unmet market needs, aligning with market trends.\\\\n- **Strategic Planning and Decision Making**: Setting actionable goals, identifying risks/resources, ensuring sustainable growth.\\\\n- **Networking Skills**: Building relations with mentors, investors, suppliers, and customers for resources and partnerships.\\\\n- **Financial Management**: Understanding budgeting, cash flow, and profit margins for smart resource allocation.\\\\n- **Problem-solving and Adaptability**: Facing challenges creatively, managing crises, and adjusting strategies.\\\\n- **Leadership**: Inspiring teams, creating a positive environment, and aligning team goals with business vision.\\\\n\\\\nThese competencies ensure innovation, sustainability, and growth, benefiting entrepreneurs and economic growth.\"\\n}\\n```', '```json\\n{\\n    \"summarized_answer\": \"Successful entrepreneurs exhibit key traits: \\\\n- **Passion**: Deep focus and dedication to their business idea, persisting through challenges. \\\\n- **Resilience**: Ability to recover from setbacks, learning from failures without losing direction. \\\\n- **Adaptability**: Flexibility to adjust strategies with changing market conditions. \\\\n- **Vision**: Clear, compelling long-term goals that inspire decision-making. \\\\n- **Risk Taking**: Comfort with calculated risks for potential rewards. \\\\n- **Self-Motivation**: Strong internal drive to set and achieve ambitious goals. \\\\n- **Problem-Solving**: Critical thinking and creativity to tackle issues innovatively. \\\\n- **Confidence**: Belief in their ideas and skills, fostering trust from others. \\\\n- **Customer Focus**: Understanding customer needs to create desirable products/services. \\\\n- **Strategic Working Ethic**: Commitment and discipline to work hard towards objectives. \\\\n- **Financial Acumen**: Proficiency in budgeting and financial management for business health. \\\\n- **Networking Ability**: Building connections for resources, support, and collaboration. \\\\nThese traits collectively enable innovation, effective leadership, and sustainable business success.\"\\n}\\n```', '{\\n    \"summarized_answer\": \"Factors Affecting Entrepreneurial Development:\\\\n\\\\n- **Economic Environment**:\\\\n  - Market Condition: Influenced by demand, supply, competition, and economic growth.\\\\n  - Access to Finance: Availability of funds from banks, venture capital, and investors.\\\\n  - Inflation and Interest Rates: High inflation increases costs; low interest rates encourage borrowing.\\\\n\\\\n- **Political and Legal Environment**:\\\\n  - Government Policies: Tax incentives and grants support entrepreneurship.\\\\n  - Regulatory Laws: Licensing, labor, and environmental regulations impact business operations.\\\\n  - Political Stability: Peaceful environments boost business confidence.\\\\n\\\\n- **Socio-cultural Factors**:\\\\n  - Culture and Attitudes: Societal views on entrepreneurship encourage risk-taking.\\\\n  - Education and Skills: Quality training enhances entrepreneurial potential.\\\\n  - Networking and Support Systems: Access to mentorship and communities aids learning.\\\\n\\\\n- **Technological Factors**:\\\\n  - Innovation: Technological advancements create new business opportunities.\\\\n  - Digital Infrastructure: Internet and digital tools enhance marketing and communication.\\\\n  - Research and Development: Drives new ideas and product creation.\\\\n\\\\n- **Individual Characteristics**:\\\\n  - Personality Traits: Risk tolerance, self-confidence, and creativity are crucial.\\\\n  - Experience and Knowledge: Industry knowledge and experience aid decision-making.\\\\n  - Motivation and Goals: Driven by personal and societal objectives.\"\\n}', '```json\\n{\\n    \"summarized_answer\": \"Motivation is the impulse driving goal-directed behavior, crucial for entrepreneurs in risk-taking and vision pursuit. \\\\n\\\\nTypes of Motivation:\\\\n- Intrinsic: Driven by internal rewards like personal satisfaction and accomplishment.\\\\n- Extrinsic: Driven by external rewards such as money and recognition.\\\\n\\\\nMotivating Factors for Entrepreneurs:\\\\n- Personal Fulfillment: Turning passion into business and contributing meaningfully.\\\\n- Financial Security: Seeking wealth and financial stability for self and family.\\\\n- Freedom and Independence: Desire for autonomy and self-empowerment.\\\\n- Impact and Contribution: Addressing societal needs and challenges.\\\\n- Challenge and Growth: Overcoming challenges and continuous learning.\\\\n- Recognition and Achievement: Desire for recognition and accomplishment.\\\\n- Networking and Community: Building connections for support and resources.\"\\n}\\n```', '{\\n    \"summarized_answer\": \"McClelland\\'s Achievement Motivation Theory identifies three primary needs driving human motivation: achievement, affiliation, and power. \\\\n\\\\n- **Need for Achievement (nAch):** Involves setting challenging yet attainable goals, risk calculation, and seeking feedback for progress and success. \\\\n- **Need for Affiliation (nAff):** Focuses on forming friendships and teamwork, preferring cooperative and harmonious work environments. \\\\n- **Need for Power (nPow):** Desires to influence and lead, with a focus on decision-making and control, either for personal or organizational benefit.\\\\n\\\\nApplications include self-assessment for career alignment, employee motivation through tailored tasks and environments, and fostering entrepreneurial development by aligning with intrinsic motivation for challenging goals.\"\\n}', '{\\n    \"summarized_answer\": \"- **Entrepreneurial Personality**: Focuses on individual traits like resilience, motivation, creativity, and risk-taking, essential for overcoming challenges and innovating. \\\\n- **Entrepreneurial Task**: Involves identifying and executing opportunities, market needs, innovation, strategy planning, flexibility, and problem-solving. \\\\n- **External Environment**: Success is influenced by economic, social, political, and technological factors. A supportive environment with policies and resources fosters growth. \\\\n- **Organizational Context**: Emphasizes the role of supportive structures, collaboration, defined roles, and innovation in established organizations for entrepreneurial and intrapreneurial development. \\\\n- These elements collectively form a framework impacting entrepreneurial success or failure.\"\\n}', '{\\n    \"summarized_answer\": \"An intrapreneur is an employee within a large company who acts like an entrepreneur, driving new business ideas and innovation. Key characteristics include: \\\\n- **Liberty to Innovate**: Freedom to develop ideas, often isolated from regular workflows. \\\\n- **Risk Mitigation**: Operates with company support, sharing risks and reducing personal financial exposure. \\\\n- **Corporate Support**: Backed by management with access to resources like funding and infrastructure. \\\\n- **Focus on Growth**: Encourages innovation to keep the company competitive and improve processes.\"\\n}', '```json\\n{\\n    \"summarized_answer\": \"Critical elements in an intrapreneurial environment include: \\\\n- **Innovative Ideas**: Encouraging new ideas and staying updated with technology fosters innovative thinking. \\\\n- **Promote Experimentation**: Supports learning from failures and refining ideas into successful outcomes. \\\\n- **Availability of Resources**: Essential financial and human resources must be readily available for innovation. \\\\n- **Foster Collaboration**: Encourages diverse views and skills, enhancing creativity and effectiveness. \\\\n- **Reward System**: Motivates intrapreneurs through recognition and incentives, driving further innovation. \\\\n- **Top Management Support**: Provides authority and resources, crucial for executing intrapreneurial ideas successfully.\"\\n}\\n```', '{\\n    \"summarized_answer\": \"Entrepreneurs can be classified based on various criteria: \\\\n\\\\n- **Economic Development**: \\\\n  - *Innovating Entrepreneurs*: Innovators creating new products/services.\\\\n  - *Adoptive Entrepreneurs*: Adapt others\\' innovations for their markets.\\\\n  - *Fabian Entrepreneurs*: Risk-averse, prefer traditional methods.\\\\n  - *Drone Entrepreneurs*: Resist change, miss new opportunities.\\\\n\\\\n- **Type of Business**: \\\\n  - *Business Entrepreneurs*: Introduce new products/services.\\\\n  - *Trading Entrepreneurs*: Focus on buying and selling.\\\\n  - *Industrial Entrepreneurs*: Create products/services based on customer needs.\\\\n  - *Corporate Entrepreneurs*: Innovate within corporate settings.\\\\n  - *Agricultural Entrepreneurs*: Use technology to enhance agriculture.\\\\n\\\\n- **Technology Utilization**: \\\\n  - *Technical Entrepreneurs*: Focus on commercializing inventions.\\\\n  - *Non-technical Entrepreneurs*: Develop marketing plans without tech focus.\\\\n  - *Professional Entrepreneurs*: Form businesses but don\\'t manage them.\\\\n\\\\n- **Motivation**: \\\\n  - *Pure Entrepreneurs*: Driven by psychological, economic, and ethical factors.\\\\n  - *Induced Entrepreneurs*: Motivated by government policies.\\\\n  - *Motivated Entrepreneurs*: Inspired by new production/sale opportunities.\"\\n}', '```json\\n{\\n    \"summarized_answer\": \"Entrepreneurial Development Programs (EDPs) are structured initiatives aimed at training individuals to start and run successful businesses. They are crucial for those lacking formal business experience, covering business planning, financial management, marketing strategies, and risk management. Objectives include: \\\\n- Skill Building: Impart practical skills like problem-solving, leadership, and communication.\\\\n- Entrepreneurial Mindset: Foster proactive, innovative thinking and confidence.\\\\n- Talent Identification: Identify and nurture entrepreneurial talent for feasible business models.\\\\n- Encourage Innovation: Promote creative thinking for competitive market solutions.\\\\n- Promote Economic Growth: Create jobs and stimulate regional economic development.\\\\n- Reduce Unemployment: Offer alternative career paths to alleviate unemployment.\\\\n- Support Financial Independence: Encourage financial planning for self-reliance in ventures.\"\\n}\\n```', '{\\n    \"summarized_answer\": \"Stages of Entrepreneurial Development Programs (EDPs) are crucial for creating successful entrepreneurs and are divided into three phases:\\\\n\\\\n- **Pre-Training Stage**: \\\\n  - Focuses on screening and profiling potential entrepreneurs.\\\\n  - Involves selection of participants interested in business ventures.\\\\n  - Conducts resource and market analysis to determine business viability.\\\\n  - Organizes seminars and workshops for initial motivation.\\\\n\\\\n- **Training Stage**: \\\\n  - Core stage providing essential skills and information.\\\\n  - Covers business management skills, financial education, and legal knowledge.\\\\n  - Includes psychological and behavioral coaching to develop resilience and innovation.\\\\n\\\\n- **Post-Training Stage**: \\\\n  - Offers continuous support to entrepreneurs.\\\\n  - Provides mentorship and networking opportunities.\\\\n  - Assists in accessing funding from various sources.\\\\n  - Involves monitoring and follow-up to ensure progress and address challenges.\"\\n}', '{\\n    \"summarized_answer\": \"- **National Small Industries Corporation (NSIC):** Promotes small industries in India through credit support via bank tie-ups, skill training in technical and business management, and marketing through government procurement schemes.\\\\n- **Small Industries Development Bank of India (SIDBI):** Supports MSMEs with financial products like loans and venture capital, advisory services for resource optimization, and startup support through collaborations.\\\\n- **National Institute for Entrepreneurship and Small Business Development (NIESBUD):** Offers entrepreneurship training, consultancy services, and conducts R&D on entrepreneurship trends and challenges.\\\\n- **Micro Units Development and Refinance Agency (MUDRA):** Provides credit support under PMMY with schemes like Shishu (up to ₹50,000), Kishor (up to ₹5 lakhs), and Tarun (up to ₹10 lakhs) loans for small units.\"\\n}', '{\\n    \"summarized_answer\": \"- **PMEGP (Prime Minister\\'s Employment Generation Programme):** Provides finance and subsidies to micro-enterprises, targeting resource-poor individuals in rural and urban areas to promote sustainable business and local employment.\\\\n- **Startup India Initiative:** Aims to foster innovation and expand the startup ecosystem with funding support, incubation, mentorship, and eased compliance for startups.\\\\n- **Stand-Up India Scheme:** Offers financial assistance to women entrepreneurs and SC/ST communities to start new ventures, promoting inclusive growth and entrepreneurship among underprivileged groups.\\\\n- **Skill India Mission:** Focuses on enhancing employability through vocational training, aligning with industry needs to enable youth to become entrepreneurs or integrate into existing industries.\"\\n}', '{\\n    \"summarized_answer\": \"Problems faced by EDPs include: \\\\n\\\\n- **Limited Awareness**: Rural individuals often lack awareness of EDPs, missing out on supportive services for business enhancement.\\\\n- **Inadequate Funding**: Budget constraints limit training quality, reach, and access to digital tools, affecting program effectiveness.\\\\n- **Lack of Skills**: Skills provided may not align with industry demands, lacking emerging trends and technologies.\\\\n- **Poor After-Training Support**: Insufficient post-training support leads to challenges in sustaining businesses due to lack of mentoring and advisory services.\\\\n- **Regulatory Challenges**: New entrepreneurs face compliance, licensing, and tax issues, especially those from rural backgrounds.\\\\n- **Negligence of Customized Training**: Standardized training fails to meet specific needs, such as those of women balancing work and family or rural entrepreneurs needing local market information.\"\\n}']\n"
     ]
    }
   ],
   "source": [
    "print(summarizedAnswerList)"
   ]
  },
  {
   "cell_type": "code",
   "execution_count": 29,
   "id": "bdecb306-1f3a-4603-ab06-63c1a88ca1a5",
   "metadata": {},
   "outputs": [
    {
     "name": "stdout",
     "output_type": "stream",
     "text": [
      "18\n"
     ]
    }
   ],
   "source": [
    "print(len(summarizedAnswerList))"
   ]
  },
  {
   "cell_type": "markdown",
   "id": "1f35a48d-abea-4dc2-9f9b-700935da1656",
   "metadata": {},
   "source": [
    "## getting REPHRASED outputs"
   ]
  },
  {
   "cell_type": "code",
   "execution_count": 38,
   "id": "03bc15c5-81a1-4fd7-aab9-da167f18894c",
   "metadata": {},
   "outputs": [],
   "source": [
    "def parse_Response(response):\n",
    "   if isinstance(response, str):\n",
    "       # print(response)\n",
    "       start_index = response.find(\"{\")\n",
    "       end_index = response.rfind(\"}\")\n",
    "       if start_index != -1 and end_index != -1:\n",
    "           valid_json_content = response[start_index : end_index + 1]\n",
    "           try:\n",
    "               JSON_response = json.loads(valid_json_content.replace(\"\\n\", \"\"))\n",
    "               # append_list_to_file(JSON_response)\n",
    "               return JSON_response\n",
    "           except json.JSONDecodeError as e:\n",
    "               print(f\"Error decoding JSON response: {e.__class__.__name__} - {e}\\n\\n Still trying to work on particular exceptions ...\")\n",
    "               print(\"Actual Content: \", valid_json_content)\n",
    "       else:\n",
    "           print(\"No valid JSON content found in the response.\")\n",
    "       # time.sleep(50)\n",
    "   elif isinstance(response, dict):\n",
    "       return response\n",
    "   else:\n",
    "       print(\"No response message found\", type(response))\n"
   ]
  },
  {
   "cell_type": "raw",
   "id": "4cd5e956-fa40-4541-86dd-a1ab6c0fcaca",
   "metadata": {},
   "source": [
    "def rephrasing(Text , style , instructions=instructions, output_format=output_format):\n",
    "    model = ChatOpenAI(model=\"gpt-4o-mini\", temperature=0.3, max_tokens=200)\n",
    "    prompt_template_1 = ChatPromptTemplate.from_template(template_string)\n",
    "    message = prompt_template_1.format_messages(\n",
    "    try:\n",
    "        \n",
    "        response = model.invoke()\n",
    "        parsed_output = parse()\n",
    "        try : \n",
    "            if parsed_output:\n",
    "            return parsed_output\n",
    "\n",
    "\n",
    "\n",
    "# error , errorName, errorType, TraceBack ;\n",
    "\n",
    "# TrackBack execution journey\n",
    "        \n",
    "\n",
    "    \n",
    "    \n",
    "    "
   ]
  },
  {
   "cell_type": "raw",
   "id": "58fd73fa-8b2e-4270-8732-e30da96d3935",
   "metadata": {},
   "source": [
    "#### MAIN FUNCTION"
   ]
  },
  {
   "cell_type": "code",
   "execution_count": null,
   "id": "a7d0cf84-762a-47a7-b9e6-70abf641948f",
   "metadata": {},
   "outputs": [],
   "source": []
  },
  {
   "cell_type": "markdown",
   "id": "e1e21065-517c-4616-ad47-4e5c777771dd",
   "metadata": {},
   "source": [
    "### database \n",
    "\n",
    "1. Motor\n",
    "2. Pymongo"
   ]
  },
  {
   "cell_type": "code",
   "execution_count": null,
   "id": "633f6dd5-6953-425f-87a4-e4403b3fc268",
   "metadata": {},
   "outputs": [],
   "source": []
  },
  {
   "cell_type": "code",
   "execution_count": null,
   "id": "1a20f3ff-9618-4779-88fe-a9619acc1c22",
   "metadata": {},
   "outputs": [],
   "source": []
  },
  {
   "cell_type": "code",
   "execution_count": null,
   "id": "a5541ae1-7ecc-4307-be30-673d9f534b22",
   "metadata": {},
   "outputs": [],
   "source": []
  },
  {
   "cell_type": "code",
   "execution_count": 30,
   "id": "a9c974c1-9488-40eb-8630-6542752819f9",
   "metadata": {},
   "outputs": [],
   "source": [
    "rephrasedList = []\n",
    "for summary in summarizedAnswerList:\n",
    "    particular_message = prompt_template_1.format_messages(text=summary, Task=Task, Role=Role, style=style, instructions=instructions, output_format=output_format)\n",
    "    response = model.invoke(particular_message)\n",
    "    res_content = response.content\n",
    "    rephrasedList.append(res_content)"
   ]
  },
  {
   "cell_type": "code",
   "execution_count": 32,
   "id": "5cecae55-40d1-4a43-8443-df0234afcd3b",
   "metadata": {},
   "outputs": [
    {
     "data": {
      "text/plain": [
       "AIMessage(content='```json\\n{\\n    \"input_text\": \"Problems faced by EDPs include: \\\\n\\\\n- **Limited Awareness**: Rural individuals often lack awareness of EDPs, missing out on supportive services for business enhancement.\\\\n- **Inadequate Funding**: Budget constraints limit training quality, reach, and access to digital tools, affecting program effectiveness.\\\\n- **Lack of Skills**: Skills provided may not align with industry demands, lacking emerging trends and technologies.\\\\n- **Poor After-Training Support**: Insufficient post-training support leads to challenges in sustaining businesses due to lack of mentoring and advisory services.\\\\n- **Regulatory Challenges**: New entrepreneurs face compliance, licensing, and tax issues, especially those from rural backgrounds.\\\\n- **Negligence of Customized Training**: Standardized training fails to meet specific needs, such as those of women balancing work and family or rural entrepreneurs needing local market information.\",\\n    \"rephrased_text_response\": \"EDPs encounter several challenges, including: \\\\n\\\\n- **Limited Awareness**: Many rural residents are unaware of EDPs, resulting in missed opportunities for business support services.\\\\n- **Inadequate Funding**: Financial limitations hinder the quality of training, its reach, and access to digital resources, thereby reducing program effectiveness.\\\\n- **Lack of Skills**: The skills taught often do not match industry requirements, overlooking new trends and technologies.\\\\n- **Poor After-Training Support**: A lack of post-training assistance creates difficulties in maintaining businesses due to insufficient mentoring and advisory services.\\\\n- **Regulatory Challenges**: New entrepreneurs, particularly those from rural areas, struggle with compliance, licensing, and tax regulations.\\\\n- **Negligence of Customized Training**: Generic training programs do not address specific needs, such as those of women managing work and family or rural entrepreneurs seeking local market insights.\"\\n}\\n```', additional_kwargs={'refusal': None}, response_metadata={'token_usage': {'completion_tokens': 386, 'prompt_tokens': 452, 'total_tokens': 838, 'completion_tokens_details': {'accepted_prediction_tokens': 0, 'audio_tokens': 0, 'reasoning_tokens': 0, 'rejected_prediction_tokens': 0}, 'prompt_tokens_details': {'audio_tokens': 0, 'cached_tokens': 0}}, 'model_name': 'gpt-4o-mini-2024-07-18', 'system_fingerprint': 'fp_39a40c96a0', 'finish_reason': 'stop', 'logprobs': None}, id='run-f0b91b26-8871-463c-b3e2-73291255395d-0', usage_metadata={'input_tokens': 452, 'output_tokens': 386, 'total_tokens': 838, 'input_token_details': {'audio': 0, 'cache_read': 0}, 'output_token_details': {'audio': 0, 'reasoning': 0}})"
      ]
     },
     "execution_count": 32,
     "metadata": {},
     "output_type": "execute_result"
    }
   ],
   "source": [
    "response"
   ]
  },
  {
   "cell_type": "code",
   "execution_count": 31,
   "id": "ca67b57b-28b7-4981-a98f-fe57b0c5069e",
   "metadata": {},
   "outputs": [
    {
     "name": "stdout",
     "output_type": "stream",
     "text": [
      "['```json\\n{\\n    \"input_text\": \"An entrepreneur is a business founder who identifies opportunities, assumes risks, and efficiently uses resources to generate profit and contribute to economic growth. Key characteristics include: \\\\n\\\\n- **Innovation**: Introducing new or improved products/services.\\\\n- **Risk-taking**: Willingness to accept financial, professional, and personal risks.\\\\n- **Vision and Goal Orientation**: Clear long-term goals drive decision-making.\\\\n- **Resilience**: Overcoming hurdles and staying motivated.\\\\n- **Self-Confidence**: Belief in achieving goals and mobilizing resources.\\\\n- **Flexibility**: Adapting strategies to changing market conditions.\\\\n- **Leadership Skills**: Inspiring teams and creating a constructive work environment.\\\\n- **Persistence**: Continually striving to achieve goals despite obstacles.\\\\n- **Opportunity Identification**: Seeing prospects where others see problems.\\\\n- **Financial Acumen**: Understanding budgeting, forecasting, and resource management.\",\\n    \"rephrased_text_response\": \"An entrepreneur is a business creator who spots opportunities, takes on risks, and effectively utilizes resources to earn profits and foster economic development. Important traits include: \\\\n\\\\n- **Innovation**: Launching new or enhanced products/services, like a tech startup developing a unique app.\\\\n- **Risk-taking**: Embracing financial, professional, and personal uncertainties, such as investing in a new venture.\\\\n- **Vision and Goal Orientation**: Having clear long-term objectives that guide decisions, similar to a company aiming for market leadership.\\\\n- **Resilience**: The ability to overcome challenges and remain driven, as seen in entrepreneurs who pivot after setbacks.\\\\n- **Self-Confidence**: Trusting in one’s ability to reach goals and gather resources, exemplified by founders securing funding.\\\\n- **Flexibility**: Adjusting plans in response to market changes, like a business shifting focus based on consumer feedback.\\\\n- **Leadership Skills**: Motivating teams and fostering a positive workplace, akin to a manager encouraging collaboration.\\\\n- **Persistence**: Continuously working towards goals despite difficulties, much like a startup enduring through tough times.\\\\n- **Opportunity Identification**: Recognizing chances where others see obstacles, such as finding a niche market.\\\\n- **Financial Acumen**: Grasping budgeting, forecasting, and resource management, essential for sustaining a business.\"\\n}\\n```', '```json\\n{\\n    \"input_text\": \"- Entrepreneurship involves identifying and creating opportunities through innovation, often by establishing new businesses or ventures.\\\\n- It incorporates capital, labor, and knowledge to develop products or services that meet market demands.\\\\n- Driven by calculated risk-taking and responding to change for business or social outcomes.\\\\n- Key aspects include:\\\\n  - Innovation: Developing new ideas, products, or services to solve problems or meet unmet needs.\\\\n  - Risk-taking: Willingness to face monetary and personal risks in developing and managing new ventures.\\\\n  - Value creation: Delivering economic or social value by satisfying market needs.\",\\n    \"rephrased_text_response\": \"- Entrepreneurship is the process of recognizing and seizing opportunities through innovation, typically by launching new businesses or initiatives.\\\\n- It involves the use of capital, labor, and expertise to create products or services that fulfill market requirements.\\\\n- This process is characterized by calculated risk-taking and adaptability to changes for achieving business or social objectives.\\\\n- Important elements include:\\\\n  - Innovation: Crafting novel ideas, products, or services to address challenges or fulfill unaddressed needs, such as developing eco-friendly packaging solutions.\\\\n  - Risk-taking: The readiness to confront financial and personal uncertainties in the pursuit and management of new enterprises, like investing in a startup.\\\\n  - Value creation: Generating economic or social benefits by meeting market demands effectively.\"\\n}\\n```', '```json\\n{\\n    \"input_text\": \"Entrepreneurship is crucial for: \\\\n- **Employment Generation**: New ventures create jobs, reducing unemployment. \\\\n- **Economic Development**: Enhances production, productivity, and wealth, improving public utilities. \\\\n- **Innovation and Competition**: Drives new products/services, fostering technological advancement. \\\\n- **Social Change**: Addresses social issues like poverty and healthcare, aiding societal development. \\\\n- **Diversity and Variety**: Offers unique products/services, catering to diverse consumer tastes. \\\\n- **Economic Resilience**: Strengthens economies, adaptable to market changes. \\\\n\\\\nScope of Entrepreneurship includes: \\\\n- **Small Business**: Local shops and services vital for community development. \\\\n- **Scalable Startups**: Rapid growth with venture capital, targeting expanding markets. \\\\n- **Social Entrepreneurship**: Balances social value with financial sustainability. \\\\n- **Corporate Entrepreneurship**: Intrapreneurship within large organizations for innovation. \\\\n- **Lifestyle Entrepreneurship**: Reflects entrepreneur\\'s values, focusing on balanced growth. \\\\n- **Technology Entrepreneurship**: Develops tech solutions for modern consumer needs.\",\\n    \"rephrased_text_response\": \"Entrepreneurship plays a vital role in: \\\\n- **Job Creation**: New businesses generate employment, helping to lower unemployment rates. \\\\n- **Economic Growth**: Boosts production, productivity, and wealth, enhancing public services. \\\\n- **Innovation and Competition**: Encourages the development of new products and services, promoting technological progress. \\\\n- **Social Improvement**: Tackles social challenges such as poverty and healthcare, contributing to community advancement. \\\\n- **Diversity and Variety**: Provides distinct products and services that meet varied consumer preferences. \\\\n- **Economic Stability**: Fortifies economies, making them more adaptable to market fluctuations. \\\\n\\\\nThe scope of entrepreneurship encompasses: \\\\n- **Small Businesses**: Local enterprises and services that are essential for community growth. \\\\n- **Scalable Startups**: Companies that experience rapid expansion through venture capital, aiming for growing markets. \\\\n- **Social Entrepreneurship**: Merges social impact with financial viability. \\\\n- **Corporate Entrepreneurship**: Fosters innovation through intrapreneurship in large corporations. \\\\n- **Lifestyle Entrepreneurship**: Aligns with the entrepreneur\\'s personal values, emphasizing balanced development. \\\\n- **Technology Entrepreneurship**: Focuses on creating technological solutions for contemporary consumer demands.\"\\n}\\n```', '```json\\n{\\n    \"input_text\": \"Entrepreneurial competencies and traits are essential for recognizing opportunities, managing risks, and innovating to run successful businesses. Key competencies include: \\\\n- Opportunity Identification: Spotting market trends and gaps.\\\\n- Risk Management: Making informed decisions to minimize risks.\\\\n- Innovation and Creativity: Developing unique solutions.\\\\n- Strategic Planning: Setting clear goals and adapting plans.\\\\n- Networking: Building professional connections for resources and marketing.\\\\n- Decision Making: Weighing choices with limited information.\\\\n- Financial Management: Managing cash flow and budgeting.\\\\n- Leadership and People Management: Motivating teams towards goals.\\\\nKey traits include: \\\\n- Self-Motivation: Driven by personal goals.\\\\n- Resilience: Bouncing back from failures.\\\\n- Entrepreneurial Passion: Energizing and inspiring teams.\\\\n- Flexibility: Adapting to market changes.\\\\n- Integrity: Building trust with stakeholders.\\\\n- Vision: Providing direction and purpose.\\\\n- Risk-Tolerance: Handling uncertainty and taking calculated risks.\",\\n    \"rephrased_text_response\": \"Entrepreneurial skills and characteristics are crucial for identifying opportunities, managing risks, and fostering innovation to operate successful enterprises. Important competencies encompass: \\\\n- Opportunity Identification: Recognizing market trends and voids.\\\\n- Risk Management: Making educated choices to reduce risks.\\\\n- Innovation and Creativity: Crafting distinctive solutions.\\\\n- Strategic Planning: Establishing clear objectives and adjusting strategies.\\\\n- Networking: Creating professional relationships for resources and promotion.\\\\n- Decision Making: Evaluating options with limited data.\\\\n- Financial Management: Overseeing cash flow and budgeting effectively.\\\\n- Leadership and People Management: Inspiring teams to achieve objectives.\\\\nEssential traits include: \\\\n- Self-Motivation: Driven by individual aspirations.\\\\n- Resilience: Recovering from setbacks.\\\\n- Entrepreneurial Passion: Motivating and energizing teams.\\\\n- Flexibility: Adjusting to market dynamics.\\\\n- Integrity: Establishing trust with stakeholders.\\\\n- Vision: Offering direction and purpose.\\\\n- Risk-Tolerance: Managing uncertainty and embracing calculated risks.\"\\n}\\n```', '```json\\n{\\n    \"input_text\": \"Major competencies for superior entrepreneurial performance include: \\\\n\\\\n- **Opportunity Recognition**: Discovering business opportunities and unmet market needs, aligning with market trends.\\\\n- **Strategic Planning and Decision Making**: Setting actionable goals, identifying risks/resources, ensuring sustainable growth.\\\\n- **Networking Skills**: Building relations with mentors, investors, suppliers, and customers for resources and partnerships.\\\\n- **Financial Management**: Understanding budgeting, cash flow, and profit margins for smart resource allocation.\\\\n- **Problem-solving and Adaptability**: Facing challenges creatively, managing crises, and adjusting strategies.\\\\n- **Leadership**: Inspiring teams, creating a positive environment, and aligning team goals with business vision.\\\\n\\\\nThese competencies ensure innovation, sustainability, and growth, benefiting entrepreneurs and economic growth.\",\\n    \"rephrased_text_response\": \"Key skills for exceptional entrepreneurial success include: \\\\n\\\\n- **Opportunity Recognition**: Identifying business prospects and unmet market demands while staying attuned to market trends.\\\\n- **Strategic Planning and Decision Making**: Establishing clear objectives, assessing risks and resources, and promoting sustainable development.\\\\n- **Networking Skills**: Cultivating relationships with mentors, investors, suppliers, and customers to secure resources and forge partnerships.\\\\n- **Financial Management**: Grasping budgeting, cash flow, and profit margins for effective resource distribution.\\\\n- **Problem-solving and Adaptability**: Tackling challenges innovatively, navigating crises, and modifying strategies as needed.\\\\n- **Leadership**: Motivating teams, fostering a supportive atmosphere, and ensuring team objectives align with the business vision.\\\\n\\\\nThese skills drive innovation, sustainability, and growth, ultimately benefiting both entrepreneurs and the economy.\"\\n}\\n```', '```json\\n{\\n    \"input_text\": \"Successful entrepreneurs exhibit key traits: \\\\n- **Passion**: Deep focus and dedication to their business idea, persisting through challenges. \\\\n- **Resilience**: Ability to recover from setbacks, learning from failures without losing direction. \\\\n- **Adaptability**: Flexibility to adjust strategies with changing market conditions. \\\\n- **Vision**: Clear, compelling long-term goals that inspire decision-making. \\\\n- **Risk Taking**: Comfort with calculated risks for potential rewards. \\\\n- **Self-Motivation**: Strong internal drive to set and achieve ambitious goals. \\\\n- **Problem-Solving**: Critical thinking and creativity to tackle issues innovatively. \\\\n- **Confidence**: Belief in their ideas and skills, fostering trust from others. \\\\n- **Customer Focus**: Understanding customer needs to create desirable products/services. \\\\n- **Strategic Working Ethic**: Commitment and discipline to work hard towards objectives. \\\\n- **Financial Acumen**: Proficiency in budgeting and financial management for business health. \\\\n- **Networking Ability**: Building connections for resources, support, and collaboration. \\\\nThese traits collectively enable innovation, effective leadership, and sustainable business success.\",\\n    \"rephrased_text_response\": \"Successful entrepreneurs share several essential characteristics: \\\\n- **Passion**: A strong commitment to their business idea, enabling them to overcome obstacles. \\\\n- **Resilience**: The capability to bounce back from failures, gaining insights without losing focus. \\\\n- **Adaptability**: The readiness to modify strategies in response to evolving market dynamics. \\\\n- **Vision**: Well-defined, inspiring long-term objectives that guide decision-making. \\\\n- **Risk Taking**: Willingness to embrace calculated risks in pursuit of potential gains. \\\\n- **Self-Motivation**: An intrinsic drive to establish and pursue ambitious targets. \\\\n- **Problem-Solving**: Utilizing critical thinking and creativity to address challenges effectively. \\\\n- **Confidence**: Assurance in their ideas and abilities, which builds trust among peers. \\\\n- **Customer Focus**: A keen understanding of customer needs to develop appealing products/services. \\\\n- **Strategic Working Ethic**: A disciplined approach to diligently work towards goals. \\\\n- **Financial Acumen**: Skill in budgeting and managing finances to ensure business viability. \\\\n- **Networking Ability**: The capacity to forge connections for resources, support, and collaboration. \\\\nThese traits together foster innovation, strong leadership, and enduring business success.\"\\n}\\n```', '```json\\n{\\n    \"input_text\": \"Factors Affecting Entrepreneurial Development:\\\\n\\\\n- **Economic Environment**:\\\\n  - Market Condition: Influenced by demand, supply, competition, and economic growth.\\\\n  - Access to Finance: Availability of funds from banks, venture capital, and investors.\\\\n  - Inflation and Interest Rates: High inflation increases costs; low interest rates encourage borrowing.\\\\n\\\\n- **Political and Legal Environment**:\\\\n  - Government Policies: Tax incentives and grants support entrepreneurship.\\\\n  - Regulatory Laws: Licensing, labor, and environmental regulations impact business operations.\\\\n  - Political Stability: Peaceful environments boost business confidence.\\\\n\\\\n- **Socio-cultural Factors**:\\\\n  - Culture and Attitudes: Societal views on entrepreneurship encourage risk-taking.\\\\n  - Education and Skills: Quality training enhances entrepreneurial potential.\\\\n  - Networking and Support Systems: Access to mentorship and communities aids learning.\\\\n\\\\n- **Technological Factors**:\\\\n  - Innovation: Technological advancements create new business opportunities.\\\\n  - Digital Infrastructure: Internet and digital tools enhance marketing and communication.\\\\n  - Research and Development: Drives new ideas and product creation.\\\\n\\\\n- **Individual Characteristics**:\\\\n  - Personality Traits: Risk tolerance, self-confidence, and creativity are crucial.\\\\n  - Experience and Knowledge: Industry knowledge and experience aid decision-making.\\\\n  - Motivation and Goals: Driven by personal and societal objectives.\",\\n    \"rephrased_text_response\": \"Elements Influencing Entrepreneurial Growth:\\\\n\\\\n- **Economic Environment**:\\\\n  - Market Conditions: Shaped by demand, supply, competition, and overall economic development.\\\\n  - Financial Accessibility: The availability of capital from banks, venture capitalists, and investors.\\\\n  - Inflation and Interest Rates: Rising inflation raises expenses, while lower interest rates promote borrowing.\\\\n\\\\n- **Political and Legal Environment**:\\\\n  - Government Initiatives: Tax breaks and grants foster entrepreneurial ventures.\\\\n  - Regulatory Framework: Licensing, labor laws, and environmental regulations affect business activities.\\\\n  - Political Stability: A stable political climate enhances business confidence.\\\\n\\\\n- **Socio-cultural Factors**:\\\\n  - Cultural Attitudes: Societal perceptions of entrepreneurship can motivate risk-taking.\\\\n  - Education and Skills: High-quality education improves entrepreneurial capabilities.\\\\n  - Networking and Support: Access to mentors and community support facilitates learning.\\\\n\\\\n- **Technological Factors**:\\\\n  - Innovation: New technologies present fresh business opportunities.\\\\n  - Digital Infrastructure: The internet and digital tools improve marketing and communication.\\\\n  - Research and Development: Fuels innovation and product development.\\\\n\\\\n- **Individual Characteristics**:\\\\n  - Personal Traits: Attributes like risk tolerance, self-assurance, and creativity are essential.\\\\n  - Experience and Knowledge: Familiarity with the industry enhances decision-making.\\\\n  - Motivation and Objectives: Influenced by personal aspirations and societal goals.\"\\n}\\n```', '```json\\n{\\n    \"input_text\": \"Motivation is the impulse driving goal-directed behavior, crucial for entrepreneurs in risk-taking and vision pursuit. \\\\n\\\\nTypes of Motivation:\\\\n- Intrinsic: Driven by internal rewards like personal satisfaction and accomplishment.\\\\n- Extrinsic: Driven by external rewards such as money and recognition.\\\\n\\\\nMotivating Factors for Entrepreneurs:\\\\n- Personal Fulfillment: Turning passion into business and contributing meaningfully.\\\\n- Financial Security: Seeking wealth and financial stability for self and family.\\\\n- Freedom and Independence: Desire for autonomy and self-empowerment.\\\\n- Impact and Contribution: Addressing societal needs and challenges.\\\\n- Challenge and Growth: Overcoming challenges and continuous learning.\\\\n- Recognition and Achievement: Desire for recognition and accomplishment.\\\\n- Networking and Community: Building connections for support and resources.\",\\n    \"rephrased_text_response\": \"Motivation serves as the driving force behind goal-oriented actions, essential for entrepreneurs as they embrace risks and pursue their visions. \\\\n\\\\nCategories of Motivation:\\\\n- Intrinsic: Motivated by internal rewards such as personal satisfaction and a sense of achievement.\\\\n- Extrinsic: Motivated by external rewards like financial gain and public acknowledgment.\\\\n\\\\nKey Motivators for Entrepreneurs:\\\\n- Personal Fulfillment: Transforming passions into viable businesses and making meaningful contributions.\\\\n- Financial Security: Aspiring for wealth and stability for themselves and their families.\\\\n- Freedom and Independence: Aiming for autonomy and self-determination.\\\\n- Impact and Contribution: Tackling societal issues and fulfilling community needs.\\\\n- Challenge and Growth: Embracing obstacles and pursuing ongoing education.\\\\n- Recognition and Achievement: Seeking acknowledgment and success.\\\\n- Networking and Community: Establishing connections for support and resources.\"\\n}\\n```', '```json\\n{\\n    \"input_text\": \"McClelland\\'s Achievement Motivation Theory identifies three primary needs driving human motivation: achievement, affiliation, and power. \\\\n\\\\n- **Need for Achievement (nAch):** Involves setting challenging yet attainable goals, risk calculation, and seeking feedback for progress and success. \\\\n- **Need for Affiliation (nAff):** Focuses on forming friendships and teamwork, preferring cooperative and harmonious work environments. \\\\n- **Need for Power (nPow):** Desires to influence and lead, with a focus on decision-making and control, either for personal or organizational benefit.\\\\n\\\\nApplications include self-assessment for career alignment, employee motivation through tailored tasks and environments, and fostering entrepreneurial development by aligning with intrinsic motivation for challenging goals.\",\\n    \"rephrased_text_response\": \"McClelland\\'s Achievement Motivation Theory outlines three key needs that drive human motivation: achievement, affiliation, and power. \\\\n\\\\n- **Need for Achievement (nAch):** This need involves establishing ambitious yet realistic goals, assessing risks, and actively seeking feedback to gauge progress and success. \\\\n- **Need for Affiliation (nAff):** This need emphasizes building friendships and teamwork, favoring collaborative and supportive work settings. \\\\n- **Need for Power (nPow):** This need reflects the desire to influence others and take charge, focusing on decision-making and control for personal or organizational gain.\\\\n\\\\nPractical applications include conducting self-assessments for career fit, enhancing employee motivation through customized tasks and work environments, and promoting entrepreneurial growth by aligning with intrinsic motivation for ambitious objectives.\"\\n}\\n```', '```json\\n{\\n    \"input_text\": \"- **Entrepreneurial Personality**: Focuses on individual traits like resilience, motivation, creativity, and risk-taking, essential for overcoming challenges and innovating. \\\\n- **Entrepreneurial Task**: Involves identifying and executing opportunities, market needs, innovation, strategy planning, flexibility, and problem-solving. \\\\n- **External Environment**: Success is influenced by economic, social, political, and technological factors. A supportive environment with policies and resources fosters growth. \\\\n- **Organizational Context**: Emphasizes the role of supportive structures, collaboration, defined roles, and innovation in established organizations for entrepreneurial and intrapreneurial development. \\\\n- These elements collectively form a framework impacting entrepreneurial success or failure.\",\\n    \"rephrased_text_response\": \"- **Entrepreneurial Personality**: Centers on traits such as resilience, motivation, creativity, and risk-taking, which are vital for navigating challenges and fostering innovation. \\\\n- **Entrepreneurial Task**: Entails recognizing and acting on opportunities, addressing market demands, innovating, strategic planning, adaptability, and problem-solving. \\\\n- **External Environment**: Factors like economic, social, political, and technological conditions significantly affect success. An encouraging environment with favorable policies and resources promotes growth. \\\\n- **Organizational Context**: Highlights the importance of supportive frameworks, teamwork, clear roles, and innovation within established organizations to nurture entrepreneurial and intrapreneurial growth. \\\\n- Together, these components create a framework that influences the success or failure of entrepreneurial endeavors.\"\\n}\\n```', '```json\\n{\\n    \"input_text\": \"An intrapreneur is an employee within a large company who acts like an entrepreneur, driving new business ideas and innovation. Key characteristics include: \\\\n- **Liberty to Innovate**: Freedom to develop ideas, often isolated from regular workflows. \\\\n- **Risk Mitigation**: Operates with company support, sharing risks and reducing personal financial exposure. \\\\n- **Corporate Support**: Backed by management with access to resources like funding and infrastructure. \\\\n- **Focus on Growth**: Encourages innovation to keep the company competitive and improve processes.\",\\n    \"rephrased_text_response\": \"An intrapreneur is a staff member in a large organization who behaves like an entrepreneur, fostering new business concepts and innovation. Important traits include: \\\\n- **Freedom to Innovate**: The ability to create ideas, often away from standard workflows. \\\\n- **Risk Sharing**: Functions with the backing of the company, distributing risks and minimizing personal financial liability. \\\\n- **Management Backing**: Supported by leadership with access to resources such as funding and infrastructure. \\\\n- **Emphasis on Growth**: Promotes innovation to maintain the company\\'s competitiveness and enhance processes.\"\\n}\\n```', '```json\\n{\\n    \"input_text\": \"Critical elements in an intrapreneurial environment include: \\\\n- **Innovative Ideas**: Encouraging new ideas and staying updated with technology fosters innovative thinking. \\\\n- **Promote Experimentation**: Supports learning from failures and refining ideas into successful outcomes. \\\\n- **Availability of Resources**: Essential financial and human resources must be readily available for innovation. \\\\n- **Foster Collaboration**: Encourages diverse views and skills, enhancing creativity and effectiveness. \\\\n- **Reward System**: Motivates intrapreneurs through recognition and incentives, driving further innovation. \\\\n- **Top Management Support**: Provides authority and resources, crucial for executing intrapreneurial ideas successfully.\",\\n    \"rephrased_text_response\": \"Key components of an intrapreneurial environment are: \\\\n- **Innovative Ideas**: Promoting fresh concepts and keeping pace with technological advancements stimulates creative thinking. \\\\n- **Encourage Experimentation**: Facilitates learning from setbacks and helps refine concepts into successful initiatives. \\\\n- **Resource Availability**: Adequate financial and human resources are vital for fostering innovation. \\\\n- **Encourage Collaboration**: Promotes a mix of perspectives and skills, boosting creativity and productivity. \\\\n- **Incentive System**: Encourages intrapreneurs through acknowledgment and rewards, fueling further innovation. \\\\n- **Support from Top Management**: Offers the necessary authority and resources, essential for the successful implementation of intrapreneurial ideas.\"\\n}\\n```', '```json\\n{\\n    \"input_text\": \"Entrepreneurs can be classified based on various criteria: \\\\n\\\\n- **Economic Development**: \\\\n  - *Innovating Entrepreneurs*: Innovators creating new products/services.\\\\n  - *Adoptive Entrepreneurs*: Adapt others\\' innovations for their markets.\\\\n  - *Fabian Entrepreneurs*: Risk-averse, prefer traditional methods.\\\\n  - *Drone Entrepreneurs*: Resist change, miss new opportunities.\\\\n\\\\n- **Type of Business**: \\\\n  - *Business Entrepreneurs*: Introduce new products/services.\\\\n  - *Trading Entrepreneurs*: Focus on buying and selling.\\\\n  - *Industrial Entrepreneurs*: Create products/services based on customer needs.\\\\n  - *Corporate Entrepreneurs*: Innovate within corporate settings.\\\\n  - *Agricultural Entrepreneurs*: Use technology to enhance agriculture.\\\\n\\\\n- **Technology Utilization**: \\\\n  - *Technical Entrepreneurs*: Focus on commercializing inventions.\\\\n  - *Non-technical Entrepreneurs*: Develop marketing plans without tech focus.\\\\n  - *Professional Entrepreneurs*: Form businesses but don\\'t manage them.\\\\n\\\\n- **Motivation**: \\\\n  - *Pure Entrepreneurs*: Driven by psychological, economic, and ethical factors.\\\\n  - *Induced Entrepreneurs*: Motivated by government policies.\\\\n  - *Motivated Entrepreneurs*: Inspired by new production/sale opportunities.\",\\n    \"rephrased_text_response\": \"Entrepreneurs can be categorized according to different criteria: \\\\n\\\\n- **Economic Development**: \\\\n  - *Innovating Entrepreneurs*: Those who create new products or services.\\\\n  - *Adoptive Entrepreneurs*: Individuals who modify existing innovations for their markets.\\\\n  - *Fabian Entrepreneurs*: Cautious individuals who stick to conventional methods.\\\\n  - *Drone Entrepreneurs*: Those who resist change and overlook new opportunities.\\\\n\\\\n- **Type of Business**: \\\\n  - *Business Entrepreneurs*: Individuals who launch new products or services.\\\\n  - *Trading Entrepreneurs*: Focused on the buying and selling of goods.\\\\n  - *Industrial Entrepreneurs*: Develop products or services tailored to customer needs.\\\\n  - *Corporate Entrepreneurs*: Innovators working within established companies.\\\\n  - *Agricultural Entrepreneurs*: Utilize technology to improve agricultural practices.\\\\n\\\\n- **Technology Utilization**: \\\\n  - *Technical Entrepreneurs*: Concentrate on bringing inventions to market.\\\\n  - *Non-technical Entrepreneurs*: Create marketing strategies without a technology emphasis.\\\\n  - *Professional Entrepreneurs*: Establish businesses but do not take on management roles.\\\\n\\\\n- **Motivation**: \\\\n  - *Pure Entrepreneurs*: Motivated by psychological, economic, and ethical considerations.\\\\n  - *Induced Entrepreneurs*: Influenced by governmental initiatives.\\\\n  - *Motivated Entrepreneurs*: Driven by new opportunities in production or sales.\"\\n}\\n```', '```json\\n{\\n    \"input_text\": \"Entrepreneurial Development Programs (EDPs) are structured initiatives aimed at training individuals to start and run successful businesses. They are crucial for those lacking formal business experience, covering business planning, financial management, marketing strategies, and risk management. Objectives include: \\\\n- Skill Building: Impart practical skills like problem-solving, leadership, and communication.\\\\n- Entrepreneurial Mindset: Foster proactive, innovative thinking and confidence.\\\\n- Talent Identification: Identify and nurture entrepreneurial talent for feasible business models.\\\\n- Encourage Innovation: Promote creative thinking for competitive market solutions.\\\\n- Promote Economic Growth: Create jobs and stimulate regional economic development.\\\\n- Reduce Unemployment: Offer alternative career paths to alleviate unemployment.\\\\n- Support Financial Independence: Encourage financial planning for self-reliance in ventures.\",\\n    \"rephrased_text_response\": \"Entrepreneurial Development Programs (EDPs) are organized efforts designed to equip individuals with the skills necessary to establish and manage successful businesses. They are particularly beneficial for those without formal business backgrounds, encompassing areas such as business planning, financial management, marketing strategies, and risk assessment. Key objectives include: \\\\n- Skill Development: Provide essential skills like problem-solving, leadership, and effective communication.\\\\n- Entrepreneurial Mindset: Cultivate innovative thinking and self-confidence.\\\\n- Talent Recognition: Discover and develop entrepreneurial talent for viable business ideas.\\\\n- Innovation Promotion: Encourage creative approaches to solve market challenges.\\\\n- Economic Advancement: Generate employment opportunities and boost local economies.\\\\n- Unemployment Mitigation: Present alternative career options to help reduce joblessness.\\\\n- Financial Self-Sufficiency: Advocate for financial planning to achieve independence in business endeavors.\"\\n}\\n```', '```json\\n{\\n    \"input_text\": \"Stages of Entrepreneurial Development Programs (EDPs) are crucial for creating successful entrepreneurs and are divided into three phases:\\\\n\\\\n- **Pre-Training Stage**: \\\\n  - Focuses on screening and profiling potential entrepreneurs.\\\\n  - Involves selection of participants interested in business ventures.\\\\n  - Conducts resource and market analysis to determine business viability.\\\\n  - Organizes seminars and workshops for initial motivation.\\\\n\\\\n- **Training Stage**: \\\\n  - Core stage providing essential skills and information.\\\\n  - Covers business management skills, financial education, and legal knowledge.\\\\n  - Includes psychological and behavioral coaching to develop resilience and innovation.\\\\n\\\\n- **Post-Training Stage**: \\\\n  - Offers continuous support to entrepreneurs.\\\\n  - Provides mentorship and networking opportunities.\\\\n  - Assists in accessing funding from various sources.\\\\n  - Involves monitoring and follow-up to ensure progress and address challenges.\",\\n    \"rephrased_text_response\": \"The stages of Entrepreneurial Development Programs (EDPs) are vital for fostering successful entrepreneurs and are categorized into three main phases:\\\\n\\\\n- **Pre-Training Stage**: \\\\n  - Emphasizes the identification and assessment of potential entrepreneurs.\\\\n  - Involves selecting participants keen on pursuing business opportunities.\\\\n  - Conducts analysis of resources and market conditions to evaluate business feasibility.\\\\n  - Hosts seminars and workshops to provide initial inspiration.\\\\n\\\\n- **Training Stage**: \\\\n  - This is the fundamental phase that imparts critical skills and knowledge.\\\\n  - Encompasses training in business management, financial literacy, and legal aspects.\\\\n  - Incorporates psychological and behavioral coaching to enhance resilience and foster innovation.\\\\n\\\\n- **Post-Training Stage**: \\\\n  - Delivers ongoing support to entrepreneurs.\\\\n  - Facilitates mentorship and networking avenues.\\\\n  - Aids in securing funding from diverse sources.\\\\n  - Involves regular monitoring and follow-up to track progress and tackle challenges.\"\\n}\\n```', '```json\\n{\\n    \"input_text\": \"- **National Small Industries Corporation (NSIC):** Promotes small industries in India through credit support via bank tie-ups, skill training in technical and business management, and marketing through government procurement schemes.\\\\n- **Small Industries Development Bank of India (SIDBI):** Supports MSMEs with financial products like loans and venture capital, advisory services for resource optimization, and startup support through collaborations.\\\\n- **National Institute for Entrepreneurship and Small Business Development (NIESBUD):** Offers entrepreneurship training, consultancy services, and conducts R&D on entrepreneurship trends and challenges.\\\\n- **Micro Units Development and Refinance Agency (MUDRA):** Provides credit support under PMMY with schemes like Shishu (up to ₹50,000), Kishor (up to ₹5 lakhs), and Tarun (up to ₹10 lakhs) loans for small units.\",\\n    \"rephrased_text_response\": \"- **National Small Industries Corporation (NSIC):** Facilitates the growth of small industries in India by offering credit assistance through partnerships with banks, providing skill development in both technical and business management, and promoting marketing through government procurement initiatives.\\\\n- **Small Industries Development Bank of India (SIDBI):** Aids MSMEs by offering financial solutions such as loans and venture capital, along with advisory services aimed at optimizing resources and supporting startups through various collaborations.\\\\n- **National Institute for Entrepreneurship and Small Business Development (NIESBUD):** Provides training for entrepreneurs, consultancy services, and engages in research and development to address entrepreneurship trends and challenges.\\\\n- **Micro Units Development and Refinance Agency (MUDRA):** Delivers credit assistance under the PMMY program, featuring loan schemes like Shishu (up to ₹50,000), Kishor (up to ₹5 lakhs), and Tarun (up to ₹10 lakhs) specifically for small enterprises.\"\\n}\\n```', '```json\\n{\\n    \"input_text\": \"- **PMEGP (Prime Minister\\'s Employment Generation Programme):** Provides finance and subsidies to micro-enterprises, targeting resource-poor individuals in rural and urban areas to promote sustainable business and local employment.\\\\n- **Startup India Initiative:** Aims to foster innovation and expand the startup ecosystem with funding support, incubation, mentorship, and eased compliance for startups.\\\\n- **Stand-Up India Scheme:** Offers financial assistance to women entrepreneurs and SC/ST communities to start new ventures, promoting inclusive growth and entrepreneurship among underprivileged groups.\\\\n- **Skill India Mission:** Focuses on enhancing employability through vocational training, aligning with industry needs to enable youth to become entrepreneurs or integrate into existing industries.\",\\n    \"rephrased_text_response\": \"- **PMEGP (Prime Minister\\'s Employment Generation Programme):** Offers financial support and subsidies to micro-enterprises, specifically aimed at resource-challenged individuals in both rural and urban settings, to encourage sustainable businesses and local job creation.\\\\n- **Startup India Initiative:** Seeks to stimulate innovation and grow the startup ecosystem by providing funding, incubation, mentorship, and simplifying compliance for new businesses.\\\\n- **Stand-Up India Scheme:** Provides financial aid to women entrepreneurs and members of SC/ST communities to launch new businesses, fostering inclusive growth and entrepreneurship among marginalized groups.\\\\n- **Skill India Mission:** Aims to improve employability through vocational training that meets industry demands, helping youth either to start their own businesses or to join existing industries.\"\\n}\\n```', '```json\\n{\\n    \"input_text\": \"Problems faced by EDPs include: \\\\n\\\\n- **Limited Awareness**: Rural individuals often lack awareness of EDPs, missing out on supportive services for business enhancement.\\\\n- **Inadequate Funding**: Budget constraints limit training quality, reach, and access to digital tools, affecting program effectiveness.\\\\n- **Lack of Skills**: Skills provided may not align with industry demands, lacking emerging trends and technologies.\\\\n- **Poor After-Training Support**: Insufficient post-training support leads to challenges in sustaining businesses due to lack of mentoring and advisory services.\\\\n- **Regulatory Challenges**: New entrepreneurs face compliance, licensing, and tax issues, especially those from rural backgrounds.\\\\n- **Negligence of Customized Training**: Standardized training fails to meet specific needs, such as those of women balancing work and family or rural entrepreneurs needing local market information.\",\\n    \"rephrased_text_response\": \"EDPs encounter several challenges, including: \\\\n\\\\n- **Limited Awareness**: Many rural residents are unaware of EDPs, resulting in missed opportunities for business support services.\\\\n- **Inadequate Funding**: Financial limitations hinder the quality of training, its reach, and access to digital resources, thereby reducing program effectiveness.\\\\n- **Lack of Skills**: The skills taught often do not match industry requirements, overlooking new trends and technologies.\\\\n- **Poor After-Training Support**: A lack of post-training assistance creates difficulties in maintaining businesses due to insufficient mentoring and advisory services.\\\\n- **Regulatory Challenges**: New entrepreneurs, particularly those from rural areas, struggle with compliance, licensing, and tax regulations.\\\\n- **Negligence of Customized Training**: Generic training programs do not address specific needs, such as those of women managing work and family or rural entrepreneurs seeking local market insights.\"\\n}\\n```']\n"
     ]
    }
   ],
   "source": [
    "print(rephrasedList)"
   ]
  },
  {
   "cell_type": "code",
   "execution_count": 33,
   "id": "5168a3e9-7641-4f7e-a582-1d011f6bdfee",
   "metadata": {},
   "outputs": [
    {
     "name": "stdout",
     "output_type": "stream",
     "text": [
      "1\n",
      "```json\n",
      "{\n",
      "\n",
      "ss.\"\n",
      "}\n",
      "```\n",
      "END \n",
      "\n",
      "2\n",
      "```json\n",
      "{\n",
      "\n",
      "ly.\"\n",
      "}\n",
      "```\n",
      "END \n",
      "\n",
      "3\n",
      "```json\n",
      "{\n",
      "\n",
      "ds.\"\n",
      "}\n",
      "```\n",
      "END \n",
      "\n",
      "4\n",
      "```json\n",
      "{\n",
      "\n",
      "ks.\"\n",
      "}\n",
      "```\n",
      "END \n",
      "\n",
      "5\n",
      "```json\n",
      "{\n",
      "\n",
      "my.\"\n",
      "}\n",
      "```\n",
      "END \n",
      "\n",
      "6\n",
      "```json\n",
      "{\n",
      "\n",
      "ss.\"\n",
      "}\n",
      "```\n",
      "END \n",
      "\n",
      "7\n",
      "```json\n",
      "{\n",
      "\n",
      "ls.\"\n",
      "}\n",
      "```\n",
      "END \n",
      "\n",
      "8\n",
      "```json\n",
      "{\n",
      "\n",
      "es.\"\n",
      "}\n",
      "```\n",
      "END \n",
      "\n",
      "9\n",
      "```json\n",
      "{\n",
      "\n",
      "es.\"\n",
      "}\n",
      "```\n",
      "END \n",
      "\n",
      "10\n",
      "```json\n",
      "{\n",
      "\n",
      "rs.\"\n",
      "}\n",
      "```\n",
      "END \n",
      "\n",
      "11\n",
      "```json\n",
      "{\n",
      "\n",
      "es.\"\n",
      "}\n",
      "```\n",
      "END \n",
      "\n",
      "12\n",
      "```json\n",
      "{\n",
      "\n",
      "as.\"\n",
      "}\n",
      "```\n",
      "END \n",
      "\n",
      "13\n",
      "```json\n",
      "{\n",
      "\n",
      "es.\"\n",
      "}\n",
      "```\n",
      "END \n",
      "\n",
      "14\n",
      "```json\n",
      "{\n",
      "\n",
      "rs.\"\n",
      "}\n",
      "```\n",
      "END \n",
      "\n",
      "15\n",
      "```json\n",
      "{\n",
      "\n",
      "es.\"\n",
      "}\n",
      "```\n",
      "END \n",
      "\n",
      "16\n",
      "```json\n",
      "{\n",
      "\n",
      "es.\"\n",
      "}\n",
      "```\n",
      "END \n",
      "\n",
      "17\n",
      "```json\n",
      "{\n",
      "\n",
      "es.\"\n",
      "}\n",
      "```\n",
      "END \n",
      "\n",
      "18\n",
      "```json\n",
      "{\n",
      "\n",
      "ts.\"\n",
      "}\n",
      "```\n",
      "END \n",
      "\n"
     ]
    }
   ],
   "source": [
    "count = 1\n",
    "for i in rephrasedList:\n",
    "    print(count)\n",
    "    count += 1\n",
    "    print(i[:10])\n",
    "    print(i[-10:])\n",
    "    print(\"END \\n\")"
   ]
  },
  {
   "cell_type": "markdown",
   "id": "d7cf50a6-3649-4467-8aad-71fec9d97934",
   "metadata": {},
   "source": [
    "from above it can be seen that there are some outputs which include the substring ```json in the starting \\\n",
    "this could affect the output parsed quality"
   ]
  },
  {
   "cell_type": "code",
   "execution_count": 34,
   "id": "6081cc5c-008f-4e05-ba76-c0c8c6baa781",
   "metadata": {},
   "outputs": [
    {
     "name": "stdout",
     "output_type": "stream",
     "text": [
      "18\n"
     ]
    }
   ],
   "source": [
    "back_count = 0\n",
    "for i in rephrasedList:\n",
    "    if i[0] == '`':\n",
    "        back_count += 1\n",
    "\n",
    "print(back_count)"
   ]
  },
  {
   "cell_type": "code",
   "execution_count": 35,
   "id": "16384398-6993-4907-934a-f93b4cd64a78",
   "metadata": {},
   "outputs": [
    {
     "name": "stdout",
     "output_type": "stream",
     "text": [
      "8\n"
     ]
    }
   ],
   "source": [
    "ind = 0\n",
    "for i in rephrasedList[0]:\n",
    "    if i == '{' :\n",
    "        break\n",
    "    else:\n",
    "        ind+= 1\n",
    "\n",
    "print(ind)"
   ]
  },
  {
   "cell_type": "markdown",
   "id": "1be735e0-0df0-458f-93ec-d1ffd25a51ba",
   "metadata": {},
   "source": [
    "## parsing the rephrased outputs into json format"
   ]
  },
  {
   "cell_type": "markdown",
   "id": "e8a47160-9aef-4eec-b233-681116903b12",
   "metadata": {},
   "source": [
    "#### First I will remove the substring ```json from starting and from last if it is present"
   ]
  },
  {
   "cell_type": "code",
   "execution_count": 36,
   "id": "189c0687-9654-407b-acaf-6d3a208d5673",
   "metadata": {},
   "outputs": [],
   "source": [
    "rephrasedList_2 = []\n",
    "for res in rephrasedList:\n",
    "    if res[0] == '`':\n",
    "        rephrasedList_2.append(res[8:-4])\n",
    "    else:\n",
    "        rephrasedList_2.append(res)"
   ]
  },
  {
   "cell_type": "code",
   "execution_count": 37,
   "id": "5b7c25aa-9b20-43ca-b2fb-4bada1bfba3f",
   "metadata": {},
   "outputs": [
    {
     "name": "stdout",
     "output_type": "stream",
     "text": [
      "{\n",
      "    \"inp\n",
      "siness.\"\n",
      "}\n",
      "{\n",
      "    \"inp\n",
      "tively.\"\n",
      "}\n",
      "{\n",
      "    \"inp\n",
      "emands.\"\n",
      "}\n",
      "{\n",
      "    \"inp\n",
      " risks.\"\n",
      "}\n",
      "{\n",
      "    \"inp\n",
      "conomy.\"\n",
      "}\n",
      "{\n",
      "    \"inp\n",
      "uccess.\"\n",
      "}\n",
      "{\n",
      "    \"inp\n",
      " goals.\"\n",
      "}\n",
      "{\n",
      "    \"inp\n",
      "ources.\"\n",
      "}\n",
      "{\n",
      "    \"inp\n",
      "ctives.\"\n",
      "}\n",
      "{\n",
      "    \"inp\n",
      "eavors.\"\n",
      "}\n",
      "{\n",
      "    \"inp\n",
      "cesses.\"\n",
      "}\n",
      "{\n",
      "    \"inp\n",
      " ideas.\"\n",
      "}\n",
      "{\n",
      "    \"inp\n",
      " sales.\"\n",
      "}\n",
      "{\n",
      "    \"inp\n",
      "eavors.\"\n",
      "}\n",
      "{\n",
      "    \"inp\n",
      "lenges.\"\n",
      "}\n",
      "{\n",
      "    \"inp\n",
      "prises.\"\n",
      "}\n",
      "{\n",
      "    \"inp\n",
      "stries.\"\n",
      "}\n",
      "{\n",
      "    \"inp\n",
      "sights.\"\n",
      "}\n"
     ]
    }
   ],
   "source": [
    "for i in rephrasedList_2:\n",
    "    print(i[:10])\n",
    "    print(i[-10:])"
   ]
  },
  {
   "cell_type": "code",
   "execution_count": null,
   "id": "ee7d10db-9f25-46c9-b396-6a779163982a",
   "metadata": {},
   "outputs": [],
   "source": [
    "print(len(rephrasedList_2))"
   ]
  },
  {
   "cell_type": "code",
   "execution_count": null,
   "id": "bd2e0f83-186d-45aa-9dee-cf0287f6a9d1",
   "metadata": {},
   "outputs": [],
   "source": [
    "print(rephrasedList_2[0])"
   ]
  },
  {
   "cell_type": "code",
   "execution_count": null,
   "id": "7dd85817-c6e2-4719-b535-655bbf4aa70a",
   "metadata": {},
   "outputs": [],
   "source": []
  },
  {
   "cell_type": "code",
   "execution_count": null,
   "id": "6af854d2-5681-47d6-a0ef-364ae97911fe",
   "metadata": {},
   "outputs": [],
   "source": []
  },
  {
   "cell_type": "code",
   "execution_count": null,
   "id": "d4fda90a-10b7-45b5-bff3-7fb0ccbc7c5b",
   "metadata": {},
   "outputs": [],
   "source": []
  },
  {
   "cell_type": "code",
   "execution_count": null,
   "id": "2ab0b4ef-ae11-4857-b5c5-15b4341aaa97",
   "metadata": {},
   "outputs": [],
   "source": []
  },
  {
   "cell_type": "code",
   "execution_count": null,
   "id": "5fd2c2de-640b-48b4-92a9-b49b99665b5a",
   "metadata": {},
   "outputs": [],
   "source": []
  },
  {
   "cell_type": "code",
   "execution_count": null,
   "id": "2397f121-194d-4ab3-a4d2-8df84cce2cf1",
   "metadata": {},
   "outputs": [],
   "source": []
  },
  {
   "cell_type": "code",
   "execution_count": null,
   "id": "fa1f1410-932a-4154-9ee1-e167dac9508d",
   "metadata": {},
   "outputs": [],
   "source": []
  },
  {
   "cell_type": "code",
   "execution_count": null,
   "id": "5c12ba8d-5535-49b3-87d2-7bae2de66f83",
   "metadata": {},
   "outputs": [],
   "source": []
  },
  {
   "cell_type": "markdown",
   "id": "dddb60c6-96d0-4fa3-a7e4-96c316818a9c",
   "metadata": {},
   "source": [
    "### now I will parse this cleaned strings into json format"
   ]
  },
  {
   "cell_type": "code",
   "execution_count": null,
   "id": "91a89676-44c9-4026-bc67-8d084f3aba77",
   "metadata": {},
   "outputs": [],
   "source": [
    "final_list = []"
   ]
  },
  {
   "cell_type": "code",
   "execution_count": null,
   "id": "054695fd-d671-4cae-aec0-b22cd71a0b8b",
   "metadata": {},
   "outputs": [],
   "source": [
    "count = 0\n",
    "\n",
    "for rephrasedAns in rephrasedList_2:\n",
    "    try:\n",
    "        parsed_rephrased_ans = json.loads(rephrasedAns)\n",
    "        final_list.append(parsed_rephrased_ans)\n",
    "    except json.JSONDecodeError as e:\n",
    "        print(\"Failed to parse JSON\", e)\n",
    "        count += 1\n",
    "\n",
    "print(count)"
   ]
  },
  {
   "cell_type": "code",
   "execution_count": null,
   "id": "d1591903-9a38-4f3a-96cd-6b75d36cfdcb",
   "metadata": {},
   "outputs": [],
   "source": [
    "print(final_list)"
   ]
  },
  {
   "cell_type": "code",
   "execution_count": null,
   "id": "814d216c-b8f3-4650-bb24-d29915f6d58b",
   "metadata": {},
   "outputs": [],
   "source": [
    "for i in final_list:\n",
    "    print(type(i))"
   ]
  },
  {
   "cell_type": "code",
   "execution_count": null,
   "id": "9ccd4661-6614-4d99-9620-d73e7b9e602d",
   "metadata": {},
   "outputs": [],
   "source": [
    "summAnsList = []\n",
    "rephrasedAnsList = []\n",
    "for i in final_list:\n",
    "    summAnsList.append(i['input_text'])\n",
    "    rephrasedAnsList.append(i['rephrased_text_response'])"
   ]
  },
  {
   "cell_type": "code",
   "execution_count": null,
   "id": "fd8b0c8b-bf67-49e1-a27b-854537dfcb78",
   "metadata": {},
   "outputs": [],
   "source": [
    "final_df = pd.DataFrame({'Summary' : summAnsList,\n",
    "                         'Rephrased Ans' : rephrasedAnsList\n",
    "                        })"
   ]
  },
  {
   "cell_type": "code",
   "execution_count": null,
   "id": "3393d342-6b50-454e-8802-dc4d8450f712",
   "metadata": {},
   "outputs": [],
   "source": [
    "final_df.head()"
   ]
  },
  {
   "cell_type": "code",
   "execution_count": null,
   "id": "e7447edc-fc41-4b44-9aa1-8ca8b50d6398",
   "metadata": {},
   "outputs": [],
   "source": [
    "final_df.to_csv('sample_1.csv', index=False)"
   ]
  },
  {
   "cell_type": "code",
   "execution_count": null,
   "id": "90752cc0-11b9-4bab-a8c9-120fdb413847",
   "metadata": {
    "collapsed": true,
    "jupyter": {
     "outputs_hidden": true
    }
   },
   "outputs": [],
   "source": []
  }
 ],
 "metadata": {
  "kernelspec": {
   "display_name": "Python 3 (ipykernel)",
   "language": "python",
   "name": "python3"
  },
  "language_info": {
   "codemirror_mode": {
    "name": "ipython",
    "version": 3
   },
   "file_extension": ".py",
   "mimetype": "text/x-python",
   "name": "python",
   "nbconvert_exporter": "python",
   "pygments_lexer": "ipython3",
   "version": "3.12.1"
  }
 },
 "nbformat": 4,
 "nbformat_minor": 5
}
