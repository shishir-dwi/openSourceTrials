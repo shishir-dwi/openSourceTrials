{
 "cells": [
  {
   "cell_type": "code",
   "execution_count": 1,
   "id": "5403d910-1939-434c-a04a-9db5189cb2b0",
   "metadata": {
    "collapsed": true,
    "jupyter": {
     "outputs_hidden": true
    }
   },
   "outputs": [],
   "source": [
    "from dotenv import load_dotenv"
   ]
  },
  {
   "cell_type": "code",
   "execution_count": 2,
   "id": "8f69d339-62e5-4502-9bc4-cc14b3b5fa9c",
   "metadata": {
    "collapsed": true,
    "jupyter": {
     "outputs_hidden": true
    }
   },
   "outputs": [
    {
     "data": {
      "text/plain": [
       "True"
      ]
     },
     "execution_count": 2,
     "metadata": {},
     "output_type": "execute_result"
    }
   ],
   "source": [
    "load_dotenv()"
   ]
  },
  {
   "cell_type": "code",
   "execution_count": 3,
   "id": "888ae845-f6b0-4588-83fe-6fa71eacdaab",
   "metadata": {
    "collapsed": true,
    "jupyter": {
     "outputs_hidden": true
    }
   },
   "outputs": [],
   "source": [
    "import getpass\n",
    "import os\n",
    "\n",
    "if not os.environ.get(\"OPENAI_API_KEY\"):\n",
    "  os.environ[\"OPENAI_API_KEY\"] = getpass.getpass(\"Enter API key for OpenAI: \")\n",
    "\n",
    "from langchain_openai import ChatOpenAI\n",
    "\n",
    "model = ChatOpenAI(model=\"gpt-4o-mini\", temperature=0.3)\n",
    "\n"
   ]
  },
  {
   "cell_type": "code",
   "execution_count": 4,
   "id": "7feb1732-9d07-4568-89fd-b4c1397516c5",
   "metadata": {
    "collapsed": true,
    "jupyter": {
     "outputs_hidden": true
    }
   },
   "outputs": [
    {
     "data": {
      "text/plain": [
       "AIMessage(content='Hello! How can I assist you today?', additional_kwargs={'refusal': None}, response_metadata={'token_usage': {'completion_tokens': 10, 'prompt_tokens': 8, 'total_tokens': 18, 'completion_tokens_details': {'accepted_prediction_tokens': 0, 'audio_tokens': 0, 'reasoning_tokens': 0, 'rejected_prediction_tokens': 0}, 'prompt_tokens_details': {'audio_tokens': 0, 'cached_tokens': 0}}, 'model_name': 'gpt-4o-mini-2024-07-18', 'system_fingerprint': 'fp_39a40c96a0', 'finish_reason': 'stop', 'logprobs': None}, id='run-2e61693f-d701-4aaa-9ce4-b9796edbdbf9-0', usage_metadata={'input_tokens': 8, 'output_tokens': 10, 'total_tokens': 18, 'input_token_details': {'audio': 0, 'cache_read': 0}, 'output_token_details': {'audio': 0, 'reasoning': 0}})"
      ]
     },
     "execution_count": 4,
     "metadata": {},
     "output_type": "execute_result"
    }
   ],
   "source": [
    "model.invoke(\"Hello\")"
   ]
  },
  {
   "cell_type": "markdown",
   "id": "65a7ff80-18a4-4f78-bb54-14a0c58961ec",
   "metadata": {},
   "source": [
    "## PROMPT ENGINEERING"
   ]
  },
  {
   "cell_type": "code",
   "execution_count": 100,
   "id": "459bfc49-e9a2-451c-9fc3-fb025804f298",
   "metadata": {
    "collapsed": true,
    "jupyter": {
     "outputs_hidden": true
    }
   },
   "outputs": [],
   "source": [
    "from langchain.prompts import ChatPromptTemplate"
   ]
  },
  {
   "cell_type": "code",
   "execution_count": null,
   "id": "1e98db11-0c6a-49ae-926b-38db4c040a7f",
   "metadata": {
    "collapsed": true,
    "jupyter": {
     "outputs_hidden": true
    }
   },
   "outputs": [],
   "source": []
  },
  {
   "cell_type": "markdown",
   "id": "9f457a78-fa8c-4beb-9bfa-27be226abe89",
   "metadata": {},
   "source": [
    "#### Role"
   ]
  },
  {
   "cell_type": "code",
   "execution_count": 101,
   "id": "59f4dd84-c4d5-4ec1-a756-ee3f2c504959",
   "metadata": {
    "collapsed": true,
    "jupyter": {
     "outputs_hidden": true
    }
   },
   "outputs": [],
   "source": [
    "Role = \"\"\"An Educational AI model designed to Rephrase text\"\"\""
   ]
  },
  {
   "cell_type": "markdown",
   "id": "5b365691-75a8-4274-951f-862eeac1b611",
   "metadata": {},
   "source": [
    "#### Task"
   ]
  },
  {
   "cell_type": "code",
   "execution_count": 102,
   "id": "85d326a4-6387-439f-bff4-7f548dd19787",
   "metadata": {
    "collapsed": true,
    "jupyter": {
     "outputs_hidden": true
    }
   },
   "outputs": [],
   "source": [
    "Task = \"\"\"To convert the text such that your response \"\"\""
   ]
  },
  {
   "cell_type": "markdown",
   "id": "4509523d-cc93-409a-8fad-57ba5ace74f1",
   "metadata": {},
   "source": [
    "#### Style / Tag / Keywords"
   ]
  },
  {
   "cell_type": "markdown",
   "id": "6a28551a-04bb-4807-8241-f913f15b9047",
   "metadata": {},
   "source": [
    "1. less technical terms"
   ]
  },
  {
   "cell_type": "code",
   "execution_count": 103,
   "id": "689b69d9-d60e-4577-ac17-ca666f8dc08d",
   "metadata": {
    "collapsed": true,
    "jupyter": {
     "outputs_hidden": true
    }
   },
   "outputs": [],
   "source": [
    "style = \"\"\"should be simpler and use fewer technical terms compared to the original input\"\"\""
   ]
  },
  {
   "cell_type": "markdown",
   "id": "1bb27efc-e312-4c6a-8309-1f8b1bc5b6aa",
   "metadata": {},
   "source": [
    "2. Easier language"
   ]
  },
  {
   "cell_type": "code",
   "execution_count": 65,
   "id": "aee552af-ac97-4ec7-bd1e-444039805104",
   "metadata": {
    "collapsed": true,
    "jupyter": {
     "outputs_hidden": true
    }
   },
   "outputs": [],
   "source": [
    "style = \"\"\"is in a simple and Easy to understand language\"\"\""
   ]
  },
  {
   "cell_type": "markdown",
   "id": "7bdf4217-9f58-4b75-b6d2-0ecc105ec9ad",
   "metadata": {},
   "source": [
    "3. More Pointers"
   ]
  },
  {
   "cell_type": "code",
   "execution_count": 66,
   "id": "f860f326-8ac2-4aa4-a7ec-8a6c160bd2da",
   "metadata": {
    "collapsed": true,
    "jupyter": {
     "outputs_hidden": true
    }
   },
   "outputs": [],
   "source": [
    "style = \"\"\"should include additional points or details, expanding the content to increase its overall length and provide more information\"\"\""
   ]
  },
  {
   "cell_type": "markdown",
   "id": "9cdd442a-15ec-402d-8bfc-049b715ed72b",
   "metadata": {},
   "source": [
    "<p style = \"color: red\">My Insights starts now</p>"
   ]
  },
  {
   "cell_type": "markdown",
   "id": "022f81ce-58fb-4a1c-a78f-bc2cb90f754d",
   "metadata": {},
   "source": [
    "4. Mention the topics covered in the text answer in the ending of the response  --- tobe worked on later"
   ]
  },
  {
   "cell_type": "code",
   "execution_count": 67,
   "id": "332362a3-f124-43e1-bd92-2ed38d4465ed",
   "metadata": {
    "collapsed": true,
    "jupyter": {
     "outputs_hidden": true
    }
   },
   "outputs": [],
   "source": [
    "style = \"\"\"include a summary that explicitly lists the topics covered in the text at the end of the response.\"\"\""
   ]
  },
  {
   "cell_type": "markdown",
   "id": "d7d39f22-4e79-4e57-b052-61c88420d568",
   "metadata": {},
   "source": [
    "5. Use Mnemonics or Memory Aids  -- not feasible  -- in the initial phase"
   ]
  },
  {
   "cell_type": "code",
   "execution_count": 68,
   "id": "87827ed9-8f82-4176-824f-d3528a28aa76",
   "metadata": {
    "collapsed": true,
    "jupyter": {
     "outputs_hidden": true
    }
   },
   "outputs": [],
   "source": [
    "style = \"\"\"Include simple mnemonics or memory aids to help the student remember key concepts.\"\"\""
   ]
  },
  {
   "cell_type": "markdown",
   "id": "e1caa878-0467-4307-93c3-aa90a8833f45",
   "metadata": {},
   "source": [
    "6. Use Analogy"
   ]
  },
  {
   "cell_type": "code",
   "execution_count": 69,
   "id": "00b26951-2cbc-40f0-a068-fcecf6b402af",
   "metadata": {
    "collapsed": true,
    "jupyter": {
     "outputs_hidden": true
    }
   },
   "outputs": [],
   "source": [
    "style = \"\"\"explains the text including an analogy of general everyday activities one can easily infer \"\"\""
   ]
  },
  {
   "cell_type": "markdown",
   "id": "7fdb8ec6-8bda-4a13-85a3-00dad21d2734",
   "metadata": {},
   "source": [
    "7. Include examples"
   ]
  },
  {
   "cell_type": "code",
   "execution_count": 180,
   "id": "8c58a68c-061a-49cb-b5a1-cbc38ca22d0e",
   "metadata": {
    "collapsed": true,
    "jupyter": {
     "outputs_hidden": true
    }
   },
   "outputs": [],
   "source": [
    "style = \"\"\"Ensure the inclusion of examples if not already provided, with the quantity ranging from 2 to 5, wherever feasible.\"\"\""
   ]
  },
  {
   "cell_type": "markdown",
   "id": "e214cc2d-c13e-451c-b609-1bf0aab432ad",
   "metadata": {},
   "source": [
    "8. Visual Representation --- Not feasible\n",
    "9. Highlight practical applications or real-world relevance of the concepts covered in the text.\n",
    "10. tag - theoritical  --- numerical -- "
   ]
  },
  {
   "cell_type": "markdown",
   "id": "0e481301-4941-44fe-93c4-9f7b66d2404f",
   "metadata": {},
   "source": [
    "#### Instructions"
   ]
  },
  {
   "cell_type": "code",
   "execution_count": 104,
   "id": "c4935957-064a-484f-808e-0d25067864da",
   "metadata": {
    "collapsed": true,
    "jupyter": {
     "outputs_hidden": true
    }
   },
   "outputs": [],
   "source": [
    "instructions = (\n",
    "    \"Rephrase the provided text such that it is Concise while retaining its original meaning. \\n\"\n",
    "    \"The generated rephrased answer word length should be around that of the given content. \\n\"\n",
    "    \"Ensure the rephrased response remains in the context of the provided content without introducing unrelated information. \\n\"\n",
    ")"
   ]
  },
  {
   "cell_type": "markdown",
   "id": "cb09ad5b-d7d6-42a1-8331-8c4bab8f3f61",
   "metadata": {},
   "source": [
    "#### Ouput_Format"
   ]
  },
  {
   "cell_type": "code",
   "execution_count": 151,
   "id": "8dc44e8d-3f40-418d-a72d-89c4ce046a9e",
   "metadata": {
    "collapsed": true,
    "jupyter": {
     "outputs_hidden": true
    }
   },
   "outputs": [],
   "source": [
    "output_format = (\n",
    "    \"Provide the output in JSON format with the following keys:\\n\"\n",
    "    \"- `input_text`: The original input text.\\n\"\n",
    "    \"- `rephrased_text_response`: The rephrased version of the input text.\"\n",
    "    \"Ensure there is no additional text, commentary, or formatting outside the JSON structure.\"\n",
    "\n",
    ")"
   ]
  },
  {
   "cell_type": "markdown",
   "id": "a397f515-a2b3-411c-a034-29a89e37df66",
   "metadata": {},
   "source": [
    "<h3 style=\"color: green\">TEMPLATE STRING</h3>"
   ]
  },
  {
   "cell_type": "markdown",
   "id": "8538e777-f4aa-402e-aba6-266fc36417d2",
   "metadata": {},
   "source": [
    "template_string = (\n",
    "    \"You're an Educational AI model designed to Rephrase text, which has all the knowledge of the undergraduate Bachelors of Technology Course.\"\n",
    "    \"Your task is rephrase the given text based on the your {style} --<p style =\"color : red\"> yaha pe bhi test karna hai,</p> the context, and the given guidelines. \\n\\n\"\n",
    "    \"Your writing style : {style}. \"\n",
    "    \"Follow these instructions: {instructions}\\n\"\n",
    "    \"Text: ```{text}```\\n\"\n",
    "    \"{output_format}\"\n",
    ")"
   ]
  },
  {
   "cell_type": "code",
   "execution_count": 106,
   "id": "5296d44f-da29-4d26-9c75-622b61ee71e5",
   "metadata": {
    "collapsed": true,
    "jupyter": {
     "outputs_hidden": true
    }
   },
   "outputs": [],
   "source": [
    "template_string = (\n",
    "    \"You're an Educational AI model designed to Rephrase text, which has all the knowledge of the undergraduate Bachelors of Technology Course.\"\n",
    "    \"Your task is rephrase the given text based on the your style, the context, and the given guidelines. \\n\\n\"\n",
    "    \"Your writing style : {style}. \\n\\n\"\n",
    "    \"Follow these instructions to generate a good quality rephrased answer: {instructions}\\n\"\n",
    "    \"Given content to be used for rephrasing: ```{text}```\\n\\n\"\n",
    "    \"{output_format} \\n\\n\"\n",
    "    \"Ensure that you follow all the above guidelines and rules to generate the rephrased content. Any deviation from these guidelines \\\n",
    "    will result in rephrased content not meeting the education standards required for this exercise.\"\n",
    "\n",
    ")"
   ]
  },
  {
   "cell_type": "code",
   "execution_count": 107,
   "id": "d6f29209-051e-4e5c-837c-883b050a53d9",
   "metadata": {
    "collapsed": true,
    "jupyter": {
     "outputs_hidden": true
    }
   },
   "outputs": [],
   "source": [
    "prompt_template_1 = ChatPromptTemplate.from_template(template_string)\n"
   ]
  },
  {
   "cell_type": "code",
   "execution_count": 108,
   "id": "fe57ca6b-6787-49a1-835e-b334f2edffdf",
   "metadata": {
    "collapsed": true,
    "jupyter": {
     "outputs_hidden": true
    }
   },
   "outputs": [
    {
     "name": "stdout",
     "output_type": "stream",
     "text": [
      "input_variables=['instructions', 'output_format', 'style', 'text'] input_types={} partial_variables={} messages=[HumanMessagePromptTemplate(prompt=PromptTemplate(input_variables=['instructions', 'output_format', 'style', 'text'], input_types={}, partial_variables={}, template=\"You're an Educational AI model designed to Rephrase text, which has all the knowledge of the undergraduate Bachelors of Technology Course.Your task is rephrase the given text based on the your style, the context, and the given guidelines. \\n\\nYour writing style : {style}. \\n\\nFollow these instructions to generate a good quality rephrased answer: {instructions}\\nGiven content to be used for rephrasing: ```{text}```\\n\\n{output_format} \\n\\nEnsure that you follow all the above guidelines and rules to generate the rephrased content. Any deviation from these guidelines     will result in rephrased content not meeting the education standards required for this exercise.\"), additional_kwargs={})]\n"
     ]
    }
   ],
   "source": [
    "print(prompt_template_1)"
   ]
  },
  {
   "cell_type": "code",
   "execution_count": 109,
   "id": "00f384b3-8e1e-478c-bf7b-9ff94d83631b",
   "metadata": {
    "collapsed": true,
    "jupyter": {
     "outputs_hidden": true
    }
   },
   "outputs": [],
   "source": [
    "input_text = \"The primary tectonic feature of the Vanuatuan archipelago is the New Hebrides Trench, the convergent boundary of the Australian and Pacific plates. Along the Wadati–Benioff zone, earthquake activity has been observed as shallow, intermediate, and deep-focus events at depths of up to 700 km (430 mi). Volcanic activity is also present along this north-northwest trending and northeast-dipping oceanic trench.\""
   ]
  },
  {
   "cell_type": "code",
   "execution_count": 110,
   "id": "1505f677-96a4-4bc8-ad36-3657d6b5b9b7",
   "metadata": {
    "collapsed": true,
    "jupyter": {
     "outputs_hidden": true
    }
   },
   "outputs": [],
   "source": [
    "messages = prompt_template_1.format_messages(text=input_text, Task=Task, Role=Role, style=style, instructions=instructions, output_format=output_format)\n"
   ]
  },
  {
   "cell_type": "code",
   "execution_count": 111,
   "id": "975d3337-ba88-49e0-94f5-c1b52739f253",
   "metadata": {
    "collapsed": true,
    "jupyter": {
     "outputs_hidden": true
    }
   },
   "outputs": [
    {
     "name": "stdout",
     "output_type": "stream",
     "text": [
      "[HumanMessage(content=\"You're an Educational AI model designed to Rephrase text, which has all the knowledge of the undergraduate Bachelors of Technology Course.Your task is rephrase the given text based on the your style, the context, and the given guidelines. \\n\\nYour writing style : should be simpler and use fewer technical terms compared to the original input. \\n\\nFollow these instructions to generate a good quality rephrased answer: Rephrase the provided text such that it is Concise while retaining its original meaning. \\nThe generated rephrased answer word length should be around that of the given content. \\nEnsure the rephrased response remains in the context of the provided content without introducing unrelated information. \\n\\nGiven content to be used for rephrasing: ```The primary tectonic feature of the Vanuatuan archipelago is the New Hebrides Trench, the convergent boundary of the Australian and Pacific plates. Along the Wadati–Benioff zone, earthquake activity has been observed as shallow, intermediate, and deep-focus events at depths of up to 700 km (430 mi). Volcanic activity is also present along this north-northwest trending and northeast-dipping oceanic trench.```\\n\\nProvide the output in JSON format with the following keys:\\n- `input_text`: The original input text.\\n- `rephrased_text_response`: The rephrased version of the input text.Ensure there is no additional text, commentary, or formatting outside the JSON structure. \\n\\nEnsure that you follow all the above guidelines and rules to generate the rephrased content. Any deviation from these guidelines     will result in rephrased content not meeting the education standards required for this exercise.\", additional_kwargs={}, response_metadata={})]\n"
     ]
    }
   ],
   "source": [
    "print(messages)"
   ]
  },
  {
   "cell_type": "code",
   "execution_count": 112,
   "id": "52a40ceb-0745-479a-9fe6-7cbb2b57deda",
   "metadata": {
    "collapsed": true,
    "jupyter": {
     "outputs_hidden": true
    }
   },
   "outputs": [
    {
     "name": "stdout",
     "output_type": "stream",
     "text": [
      "<class 'list'>\n"
     ]
    }
   ],
   "source": [
    "print(type(messages))"
   ]
  },
  {
   "cell_type": "code",
   "execution_count": 113,
   "id": "fca2e20a-b32e-4d36-8665-03e6ef87a4aa",
   "metadata": {
    "collapsed": true,
    "jupyter": {
     "outputs_hidden": true
    }
   },
   "outputs": [
    {
     "name": "stdout",
     "output_type": "stream",
     "text": [
      "content=\"You're an Educational AI model designed to Rephrase text, which has all the knowledge of the undergraduate Bachelors of Technology Course.Your task is rephrase the given text based on the your style, the context, and the given guidelines. \\n\\nYour writing style : should be simpler and use fewer technical terms compared to the original input. \\n\\nFollow these instructions to generate a good quality rephrased answer: Rephrase the provided text such that it is Concise while retaining its original meaning. \\nThe generated rephrased answer word length should be around that of the given content. \\nEnsure the rephrased response remains in the context of the provided content without introducing unrelated information. \\n\\nGiven content to be used for rephrasing: ```The primary tectonic feature of the Vanuatuan archipelago is the New Hebrides Trench, the convergent boundary of the Australian and Pacific plates. Along the Wadati–Benioff zone, earthquake activity has been observed as shallow, intermediate, and deep-focus events at depths of up to 700 km (430 mi). Volcanic activity is also present along this north-northwest trending and northeast-dipping oceanic trench.```\\n\\nProvide the output in JSON format with the following keys:\\n- `input_text`: The original input text.\\n- `rephrased_text_response`: The rephrased version of the input text.Ensure there is no additional text, commentary, or formatting outside the JSON structure. \\n\\nEnsure that you follow all the above guidelines and rules to generate the rephrased content. Any deviation from these guidelines     will result in rephrased content not meeting the education standards required for this exercise.\" additional_kwargs={} response_metadata={}\n"
     ]
    }
   ],
   "source": [
    "print(messages[0])"
   ]
  },
  {
   "cell_type": "code",
   "execution_count": 114,
   "id": "7460c49f-cd57-41f0-b74e-8071651cdd66",
   "metadata": {
    "collapsed": true,
    "jupyter": {
     "outputs_hidden": true
    }
   },
   "outputs": [
    {
     "name": "stdout",
     "output_type": "stream",
     "text": [
      "<class 'langchain_core.messages.human.HumanMessage'>\n"
     ]
    }
   ],
   "source": [
    "print(type(messages[0]))"
   ]
  },
  {
   "cell_type": "code",
   "execution_count": 115,
   "id": "e7356df4-0ee5-48ce-9e39-8b704f1a9f61",
   "metadata": {
    "collapsed": true,
    "jupyter": {
     "outputs_hidden": true
    }
   },
   "outputs": [
    {
     "name": "stdout",
     "output_type": "stream",
     "text": [
      "You're an Educational AI model designed to Rephrase text, which has all the knowledge of the undergraduate Bachelors of Technology Course.Your task is rephrase the given text based on the your style, the context, and the given guidelines. \n",
      "\n",
      "Your writing style : should be simpler and use fewer technical terms compared to the original input. \n",
      "\n",
      "Follow these instructions to generate a good quality rephrased answer: Rephrase the provided text such that it is Concise while retaining its original meaning. \n",
      "The generated rephrased answer word length should be around that of the given content. \n",
      "Ensure the rephrased response remains in the context of the provided content without introducing unrelated information. \n",
      "\n",
      "Given content to be used for rephrasing: ```The primary tectonic feature of the Vanuatuan archipelago is the New Hebrides Trench, the convergent boundary of the Australian and Pacific plates. Along the Wadati–Benioff zone, earthquake activity has been observed as shallow, intermediate, and deep-focus events at depths of up to 700 km (430 mi). Volcanic activity is also present along this north-northwest trending and northeast-dipping oceanic trench.```\n",
      "\n",
      "Provide the output in JSON format with the following keys:\n",
      "- `input_text`: The original input text.\n",
      "- `rephrased_text_response`: The rephrased version of the input text.Ensure there is no additional text, commentary, or formatting outside the JSON structure. \n",
      "\n",
      "Ensure that you follow all the above guidelines and rules to generate the rephrased content. Any deviation from these guidelines     will result in rephrased content not meeting the education standards required for this exercise.\n"
     ]
    }
   ],
   "source": [
    "print(messages[0].content)"
   ]
  },
  {
   "cell_type": "markdown",
   "id": "99d9936d-3104-46f5-9ae4-4c146c980c4f",
   "metadata": {},
   "source": [
    "## Getting Response "
   ]
  },
  {
   "cell_type": "code",
   "execution_count": 116,
   "id": "18a08513-2637-4d52-93dd-abb419d1d582",
   "metadata": {
    "collapsed": true,
    "jupyter": {
     "outputs_hidden": true
    }
   },
   "outputs": [],
   "source": [
    "# Response_1 = model(messages)  # this method of calling the llm model is depreciated and \\\n",
    "#                              would be removed soon"
   ]
  },
  {
   "cell_type": "code",
   "execution_count": 117,
   "id": "c9b65203-6ce1-4c91-8841-7937398a7dc6",
   "metadata": {
    "collapsed": true,
    "jupyter": {
     "outputs_hidden": true
    }
   },
   "outputs": [],
   "source": [
    "Response_2 = model.invoke(messages)"
   ]
  },
  {
   "cell_type": "code",
   "execution_count": 118,
   "id": "8b586cdd-025c-4efd-8380-c846bdb83ae3",
   "metadata": {
    "collapsed": true,
    "jupyter": {
     "outputs_hidden": true
    }
   },
   "outputs": [
    {
     "name": "stdout",
     "output_type": "stream",
     "text": [
      "content='{\\n  \"input_text\": \"The primary tectonic feature of the Vanuatuan archipelago is the New Hebrides Trench, the convergent boundary of the Australian and Pacific plates. Along the Wadati–Benioff zone, earthquake activity has been observed as shallow, intermediate, and deep-focus events at depths of up to 700 km (430 mi). Volcanic activity is also present along this north-northwest trending and northeast-dipping oceanic trench.\",\\n  \"rephrased_text_response\": \"The main geological feature of the Vanuatu islands is the New Hebrides Trench, which is where the Australian and Pacific plates meet. Earthquakes occur in the Wadati–Benioff zone at various depths, reaching up to 700 km (430 mi). Additionally, there is volcanic activity along this ocean trench that trends north-northwest and dips to the northeast.\"\\n}' additional_kwargs={'refusal': None} response_metadata={'token_usage': {'completion_tokens': 183, 'prompt_tokens': 342, 'total_tokens': 525, 'completion_tokens_details': {'accepted_prediction_tokens': 0, 'audio_tokens': 0, 'reasoning_tokens': 0, 'rejected_prediction_tokens': 0}, 'prompt_tokens_details': {'audio_tokens': 0, 'cached_tokens': 0}}, 'model_name': 'gpt-4o-mini-2024-07-18', 'system_fingerprint': 'fp_d02d531b47', 'finish_reason': 'stop', 'logprobs': None} id='run-98e1e242-7d72-4729-b6c3-3342863d3500-0' usage_metadata={'input_tokens': 342, 'output_tokens': 183, 'total_tokens': 525, 'input_token_details': {'audio': 0, 'cache_read': 0}, 'output_token_details': {'audio': 0, 'reasoning': 0}}\n"
     ]
    }
   ],
   "source": [
    "print(Response_2)"
   ]
  },
  {
   "cell_type": "code",
   "execution_count": 119,
   "id": "68a9cae1-20d8-4519-80f8-ee3b28bbce35",
   "metadata": {
    "collapsed": true,
    "jupyter": {
     "outputs_hidden": true
    }
   },
   "outputs": [
    {
     "name": "stdout",
     "output_type": "stream",
     "text": [
      "<class 'langchain_core.messages.ai.AIMessage'>\n"
     ]
    }
   ],
   "source": [
    "print(type(Response_2))"
   ]
  },
  {
   "cell_type": "code",
   "execution_count": 120,
   "id": "e7badd8f-660b-4cf9-ad6d-a2401fc83b9b",
   "metadata": {
    "collapsed": true,
    "jupyter": {
     "outputs_hidden": true
    }
   },
   "outputs": [
    {
     "name": "stdout",
     "output_type": "stream",
     "text": [
      "content\n",
      "additional_kwargs\n",
      "response_metadata\n",
      "type\n",
      "name\n",
      "id\n",
      "example\n",
      "tool_calls\n",
      "invalid_tool_calls\n",
      "usage_metadata\n"
     ]
    }
   ],
   "source": [
    "# getting all the keys of the class object of RESPONSE\n",
    "for key in Response_2.__dict__.keys():\n",
    "    print(key)"
   ]
  },
  {
   "cell_type": "code",
   "execution_count": 121,
   "id": "f42cf082-ea24-43f6-bb6b-c1e87777b9fa",
   "metadata": {
    "collapsed": true,
    "jupyter": {
     "outputs_hidden": true
    }
   },
   "outputs": [
    {
     "name": "stdout",
     "output_type": "stream",
     "text": [
      "content : {\n",
      "  \"input_text\": \"The primary tectonic feature of the Vanuatuan archipelago is the New Hebrides Trench, the convergent boundary of the Australian and Pacific plates. Along the Wadati–Benioff zone, earthquake activity has been observed as shallow, intermediate, and deep-focus events at depths of up to 700 km (430 mi). Volcanic activity is also present along this north-northwest trending and northeast-dipping oceanic trench.\",\n",
      "  \"rephrased_text_response\": \"The main geological feature of the Vanuatu islands is the New Hebrides Trench, which is where the Australian and Pacific plates meet. Earthquakes occur in the Wadati–Benioff zone at various depths, reaching up to 700 km (430 mi). Additionally, there is volcanic activity along this ocean trench that trends north-northwest and dips to the northeast.\"\n",
      "}\n",
      "additional_kwargs : {'refusal': None}\n",
      "response_metadata : {'token_usage': {'completion_tokens': 183, 'prompt_tokens': 342, 'total_tokens': 525, 'completion_tokens_details': {'accepted_prediction_tokens': 0, 'audio_tokens': 0, 'reasoning_tokens': 0, 'rejected_prediction_tokens': 0}, 'prompt_tokens_details': {'audio_tokens': 0, 'cached_tokens': 0}}, 'model_name': 'gpt-4o-mini-2024-07-18', 'system_fingerprint': 'fp_d02d531b47', 'finish_reason': 'stop', 'logprobs': None}\n",
      "type : ai\n",
      "name : None\n",
      "id : run-98e1e242-7d72-4729-b6c3-3342863d3500-0\n",
      "example : False\n",
      "tool_calls : []\n",
      "invalid_tool_calls : []\n",
      "usage_metadata : {'input_tokens': 342, 'output_tokens': 183, 'total_tokens': 525, 'input_token_details': {'audio': 0, 'cache_read': 0}, 'output_token_details': {'audio': 0, 'reasoning': 0}}\n"
     ]
    }
   ],
   "source": [
    "for key, value in Response_2.__dict__.items():\n",
    "    print(f\"{key} : {value}\")"
   ]
  },
  {
   "cell_type": "markdown",
   "id": "ceb7eb0e-0986-4f31-9fe6-ce9c03387aee",
   "metadata": {},
   "source": [
    "### Content"
   ]
  },
  {
   "cell_type": "code",
   "execution_count": 122,
   "id": "f71e28ca-01e3-458d-89e0-3909f9dd2dd3",
   "metadata": {
    "collapsed": true,
    "jupyter": {
     "outputs_hidden": true
    }
   },
   "outputs": [
    {
     "name": "stdout",
     "output_type": "stream",
     "text": [
      "{\n",
      "  \"input_text\": \"The primary tectonic feature of the Vanuatuan archipelago is the New Hebrides Trench, the convergent boundary of the Australian and Pacific plates. Along the Wadati–Benioff zone, earthquake activity has been observed as shallow, intermediate, and deep-focus events at depths of up to 700 km (430 mi). Volcanic activity is also present along this north-northwest trending and northeast-dipping oceanic trench.\",\n",
      "  \"rephrased_text_response\": \"The main geological feature of the Vanuatu islands is the New Hebrides Trench, which is where the Australian and Pacific plates meet. Earthquakes occur in the Wadati–Benioff zone at various depths, reaching up to 700 km (430 mi). Additionally, there is volcanic activity along this ocean trench that trends north-northwest and dips to the northeast.\"\n",
      "}\n"
     ]
    }
   ],
   "source": [
    "print(Response_2.content)"
   ]
  },
  {
   "cell_type": "code",
   "execution_count": 123,
   "id": "251080ad-fed2-4baf-9027-b9ea7cb86e61",
   "metadata": {
    "collapsed": true,
    "jupyter": {
     "outputs_hidden": true
    }
   },
   "outputs": [
    {
     "name": "stdout",
     "output_type": "stream",
     "text": [
      "<class 'str'>\n"
     ]
    }
   ],
   "source": [
    "print(type(Response_2.content))"
   ]
  },
  {
   "cell_type": "markdown",
   "id": "316fb4c4-810e-4cca-a910-b2511695481f",
   "metadata": {},
   "source": [
    "### Usage MetaData"
   ]
  },
  {
   "cell_type": "code",
   "execution_count": 124,
   "id": "70fd3bdc-76a5-43ce-b99f-b8502d5349df",
   "metadata": {
    "collapsed": true,
    "jupyter": {
     "outputs_hidden": true
    }
   },
   "outputs": [
    {
     "name": "stdout",
     "output_type": "stream",
     "text": [
      "{'input_tokens': 342, 'output_tokens': 183, 'total_tokens': 525, 'input_token_details': {'audio': 0, 'cache_read': 0}, 'output_token_details': {'audio': 0, 'reasoning': 0}}\n"
     ]
    }
   ],
   "source": [
    "print(Response_2.usage_metadata)"
   ]
  },
  {
   "cell_type": "raw",
   "id": "6299b089-8b52-4009-afc7-2560cd465665",
   "metadata": {},
   "source": []
  },
  {
   "cell_type": "markdown",
   "id": "aadee20c-e5bb-44ba-8715-e9e30236e9df",
   "metadata": {},
   "source": [
    "## See \n",
    "the response is coming out like a json but it is a string, what I can do is parse them into a relevant json format"
   ]
  },
  {
   "cell_type": "markdown",
   "id": "1660d9bb-18f4-433d-8734-12cb3c970329",
   "metadata": {},
   "source": [
    "## Parsing the output -- Approach-1\n",
    "## 1. USING JSON LIB"
   ]
  },
  {
   "cell_type": "code",
   "execution_count": 57,
   "id": "b5de069f-354c-4e96-8ba5-3b994a8bb750",
   "metadata": {
    "collapsed": true,
    "jupyter": {
     "outputs_hidden": true
    }
   },
   "outputs": [],
   "source": [
    "import json"
   ]
  },
  {
   "cell_type": "code",
   "execution_count": 58,
   "id": "5d900beb-ea4c-4d89-a108-b7b31566790a",
   "metadata": {
    "collapsed": true,
    "jupyter": {
     "outputs_hidden": true
    }
   },
   "outputs": [],
   "source": [
    "res_content = Response_2.content"
   ]
  },
  {
   "cell_type": "code",
   "execution_count": 61,
   "id": "6e8c0dbe-e126-47a9-a963-497153eaabab",
   "metadata": {
    "collapsed": true,
    "jupyter": {
     "outputs_hidden": true
    }
   },
   "outputs": [
    {
     "name": "stdout",
     "output_type": "stream",
     "text": [
      "{\n",
      "  \"input_text\": \"The primary tectonic feature of the Vanuatuan archipelago is the New Hebrides Trench, the convergent boundary of the Australian and Pacific plates. Along the Wadati–Benioff zone, earthquake activity has been observed as shallow, intermediate, and deep-focus events at depths of up to 700 km (430 mi). Volcanic activity is also present along this north-northwest trending and northeast-dipping oceanic trench.\",\n",
      "  \"rephrased_text_response\": \"The main geological feature of the Vanuatu islands is the New Hebrides Trench, where the Australian and Pacific plates meet. Earthquakes occur in the Wadati–Benioff zone, with some happening at depths reaching 700 km (430 mi). There is also volcanic activity along this oceanic trench, which trends north-northwest and dips to the northeast.\"\n",
      "}\n",
      "<class 'str'>\n"
     ]
    }
   ],
   "source": [
    "print(res_content)\n",
    "print(type(res_content))"
   ]
  },
  {
   "cell_type": "code",
   "execution_count": 63,
   "id": "28ae8561-367b-41bf-af99-aeb78a47761d",
   "metadata": {
    "collapsed": true,
    "jupyter": {
     "outputs_hidden": true
    }
   },
   "outputs": [
    {
     "name": "stdout",
     "output_type": "stream",
     "text": [
      "FINAL JSON : {'input_text': 'The primary tectonic feature of the Vanuatuan archipelago is the New Hebrides Trench, the convergent boundary of the Australian and Pacific plates. Along the Wadati–Benioff zone, earthquake activity has been observed as shallow, intermediate, and deep-focus events at depths of up to 700 km (430 mi). Volcanic activity is also present along this north-northwest trending and northeast-dipping oceanic trench.', 'rephrased_text_response': 'The main geological feature of the Vanuatu islands is the New Hebrides Trench, where the Australian and Pacific plates meet. Earthquakes occur in the Wadati–Benioff zone, with some happening at depths reaching 700 km (430 mi). There is also volcanic activity along this oceanic trench, which trends north-northwest and dips to the northeast.'}\n"
     ]
    }
   ],
   "source": [
    "try:\n",
    "    parsed_output = json.loads(res_content)  # parsing string into JSON object\n",
    "\n",
    "    # accessing the values\n",
    "    print(f\"FINAL JSON : {parsed_output}\")\n",
    "except json.JSONDecodeError as e:\n",
    "    print(\"Failed to parse JSON\", e)"
   ]
  },
  {
   "cell_type": "code",
   "execution_count": 64,
   "id": "3bbfd35b-cc9e-490a-a4b8-848eb040ba92",
   "metadata": {
    "collapsed": true,
    "jupyter": {
     "outputs_hidden": true
    }
   },
   "outputs": [
    {
     "name": "stdout",
     "output_type": "stream",
     "text": [
      "<class 'dict'>\n"
     ]
    }
   ],
   "source": [
    "print(type(parsed_output))"
   ]
  },
  {
   "cell_type": "markdown",
   "id": "6bdd2aa7-f1e7-4064-af00-19556694891c",
   "metadata": {},
   "source": [
    "## PARSING OUTPUT -- APPROACH-2\n",
    "## 2. StructuredOutputParsers -- from langchain"
   ]
  },
  {
   "cell_type": "code",
   "execution_count": 65,
   "id": "524a1dc4-0b94-4ea7-9cf5-551e81d98a01",
   "metadata": {
    "collapsed": true,
    "jupyter": {
     "outputs_hidden": true
    }
   },
   "outputs": [],
   "source": [
    "from langchain.output_parsers import ResponseSchema\n",
    "from langchain.output_parsers import StructuredOutputParser"
   ]
  },
  {
   "cell_type": "code",
   "execution_count": 66,
   "id": "accf9ae2-450e-46f2-8489-5da5916a8b20",
   "metadata": {
    "collapsed": true,
    "jupyter": {
     "outputs_hidden": true
    }
   },
   "outputs": [],
   "source": [
    "# Defining the schema\n",
    "response_schemas = [\n",
    "    ResponseSchema(name = \"input_text\", description = \"The originala input text.\"),\n",
    "    ResponseSchema(name = \"rephrased_text_response\", description = \"The rephrased version of the input text.\"),\n",
    "]"
   ]
  },
  {
   "cell_type": "code",
   "execution_count": 68,
   "id": "bd3246ae-aa10-43c7-b9e5-cb09c10072f3",
   "metadata": {
    "collapsed": true,
    "jupyter": {
     "outputs_hidden": true
    }
   },
   "outputs": [],
   "source": [
    "# creating the parser\n",
    "output_parser_langchain_approach = StructuredOutputParser.from_response_schemas(response_schemas)\n"
   ]
  },
  {
   "cell_type": "code",
   "execution_count": 129,
   "id": "276bb289-e61a-474d-a8a2-7cfbc15a5770",
   "metadata": {
    "collapsed": true,
    "jupyter": {
     "outputs_hidden": true
    }
   },
   "outputs": [],
   "source": [
    "output_dict = output_parser_langchain_approach.parse(Response_2.content)"
   ]
  },
  {
   "cell_type": "code",
   "execution_count": 130,
   "id": "30c3a3f2-1524-494d-8132-1f08490f86c6",
   "metadata": {
    "collapsed": true,
    "jupyter": {
     "outputs_hidden": true
    }
   },
   "outputs": [
    {
     "name": "stdout",
     "output_type": "stream",
     "text": [
      "<class 'dict'>\n"
     ]
    }
   ],
   "source": [
    "print(type(output_dict))"
   ]
  },
  {
   "cell_type": "code",
   "execution_count": 131,
   "id": "57f23aee-ca47-4d3b-b4fe-51dcbff41134",
   "metadata": {
    "collapsed": true,
    "jupyter": {
     "outputs_hidden": true
    }
   },
   "outputs": [
    {
     "name": "stdout",
     "output_type": "stream",
     "text": [
      "{'input_text': 'The primary tectonic feature of the Vanuatuan archipelago is the New Hebrides Trench, the convergent boundary of the Australian and Pacific plates. Along the Wadati–Benioff zone, earthquake activity has been observed as shallow, intermediate, and deep-focus events at depths of up to 700 km (430 mi). Volcanic activity is also present along this north-northwest trending and northeast-dipping oceanic trench.', 'rephrased_text_response': 'The main geological feature of the Vanuatu islands is the New Hebrides Trench, which is where the Australian and Pacific plates meet. Earthquakes occur in the Wadati–Benioff zone at various depths, reaching up to 700 km (430 mi). Additionally, there is volcanic activity along this ocean trench that trends north-northwest and dips to the northeast.'}\n"
     ]
    }
   ],
   "source": [
    "print(output_dict)"
   ]
  },
  {
   "cell_type": "code",
   "execution_count": null,
   "id": "ca72f517-4489-4310-bb3f-917428b6d842",
   "metadata": {
    "collapsed": true,
    "jupyter": {
     "outputs_hidden": true
    }
   },
   "outputs": [],
   "source": []
  },
  {
   "cell_type": "code",
   "execution_count": null,
   "id": "d5472d4d-8667-42cd-8751-4de7e47b99d7",
   "metadata": {
    "collapsed": true,
    "jupyter": {
     "outputs_hidden": true
    }
   },
   "outputs": [],
   "source": []
  },
  {
   "cell_type": "markdown",
   "id": "be9bbed6-9289-4a71-95db-54666b97f4d9",
   "metadata": {},
   "source": [
    "<h1 style = \"color : blue; font-family : verdana\">RUNNING ON THE FINAL SAMPLE OF PME DATA</h1>"
   ]
  },
  {
   "cell_type": "markdown",
   "id": "8d7315a2-99fd-42ff-a405-824dc217a988",
   "metadata": {},
   "source": [
    "## Importing the csv"
   ]
  },
  {
   "cell_type": "code",
   "execution_count": 132,
   "id": "dabd1994-42cd-4dcc-95e2-ecfd2313dfe2",
   "metadata": {
    "collapsed": true,
    "jupyter": {
     "outputs_hidden": true
    }
   },
   "outputs": [],
   "source": [
    "import pandas as pd"
   ]
  },
  {
   "cell_type": "code",
   "execution_count": 133,
   "id": "9f595449-c2e7-4acc-ad73-fbecacd6d3ff",
   "metadata": {
    "collapsed": true,
    "jupyter": {
     "outputs_hidden": true
    }
   },
   "outputs": [],
   "source": [
    "df = pd.read_csv('genSum.csv')"
   ]
  },
  {
   "cell_type": "code",
   "execution_count": 134,
   "id": "427dbbbf-9d17-40d7-9fe1-ec24b2490810",
   "metadata": {
    "collapsed": true,
    "jupyter": {
     "outputs_hidden": true
    }
   },
   "outputs": [
    {
     "data": {
      "text/html": [
       "<div>\n",
       "<style scoped>\n",
       "    .dataframe tbody tr th:only-of-type {\n",
       "        vertical-align: middle;\n",
       "    }\n",
       "\n",
       "    .dataframe tbody tr th {\n",
       "        vertical-align: top;\n",
       "    }\n",
       "\n",
       "    .dataframe thead th {\n",
       "        text-align: right;\n",
       "    }\n",
       "</style>\n",
       "<table border=\"1\" class=\"dataframe\">\n",
       "  <thead>\n",
       "    <tr style=\"text-align: right;\">\n",
       "      <th></th>\n",
       "      <th>year</th>\n",
       "      <th>branch</th>\n",
       "      <th>subject</th>\n",
       "      <th>unit</th>\n",
       "      <th>summary</th>\n",
       "    </tr>\n",
       "  </thead>\n",
       "  <tbody>\n",
       "    <tr>\n",
       "      <th>0</th>\n",
       "      <td>4</td>\n",
       "      <td>Computer Science Engineering</td>\n",
       "      <td>PME</td>\n",
       "      <td>Unit 1</td>\n",
       "      <td>{'qid': 'que1', 'summarizedAnswer': '{\\n    \"s...</td>\n",
       "    </tr>\n",
       "    <tr>\n",
       "      <th>1</th>\n",
       "      <td>4</td>\n",
       "      <td>Computer Science Engineering</td>\n",
       "      <td>PME</td>\n",
       "      <td>Unit 1</td>\n",
       "      <td>{'qid': 'que2', 'summarizedAnswer': '{\\n    \"s...</td>\n",
       "    </tr>\n",
       "    <tr>\n",
       "      <th>2</th>\n",
       "      <td>4</td>\n",
       "      <td>Computer Science Engineering</td>\n",
       "      <td>PME</td>\n",
       "      <td>Unit 1</td>\n",
       "      <td>{'qid': 'que3', 'summarizedAnswer': '{\\n    \"s...</td>\n",
       "    </tr>\n",
       "    <tr>\n",
       "      <th>3</th>\n",
       "      <td>4</td>\n",
       "      <td>Computer Science Engineering</td>\n",
       "      <td>PME</td>\n",
       "      <td>Unit 1</td>\n",
       "      <td>{'qid': 'que4', 'summarizedAnswer': '```json\\n...</td>\n",
       "    </tr>\n",
       "    <tr>\n",
       "      <th>4</th>\n",
       "      <td>4</td>\n",
       "      <td>Computer Science Engineering</td>\n",
       "      <td>PME</td>\n",
       "      <td>Unit 1</td>\n",
       "      <td>{'qid': 'que5', 'summarizedAnswer': '```json\\n...</td>\n",
       "    </tr>\n",
       "  </tbody>\n",
       "</table>\n",
       "</div>"
      ],
      "text/plain": [
       "   year                        branch subject    unit  \\\n",
       "0     4  Computer Science Engineering     PME  Unit 1   \n",
       "1     4  Computer Science Engineering     PME  Unit 1   \n",
       "2     4  Computer Science Engineering     PME  Unit 1   \n",
       "3     4  Computer Science Engineering     PME  Unit 1   \n",
       "4     4  Computer Science Engineering     PME  Unit 1   \n",
       "\n",
       "                                             summary  \n",
       "0  {'qid': 'que1', 'summarizedAnswer': '{\\n    \"s...  \n",
       "1  {'qid': 'que2', 'summarizedAnswer': '{\\n    \"s...  \n",
       "2  {'qid': 'que3', 'summarizedAnswer': '{\\n    \"s...  \n",
       "3  {'qid': 'que4', 'summarizedAnswer': '```json\\n...  \n",
       "4  {'qid': 'que5', 'summarizedAnswer': '```json\\n...  "
      ]
     },
     "execution_count": 134,
     "metadata": {},
     "output_type": "execute_result"
    }
   ],
   "source": [
    "df.head()"
   ]
  },
  {
   "cell_type": "code",
   "execution_count": 135,
   "id": "a35e46a7-9dd0-453e-8ced-3add0097c6b7",
   "metadata": {
    "collapsed": true,
    "jupyter": {
     "outputs_hidden": true
    }
   },
   "outputs": [
    {
     "name": "stdout",
     "output_type": "stream",
     "text": [
      "<class 'str'>\n",
      "{'qid': 'que1', 'summarizedAnswer': '{\\n    \"summarized_answer\": \"An entrepreneur is a business founder who identifies opportunities, assumes risks, and efficiently uses resources to generate profit and contribute to economic growth. Key characteristics include: \\\\n\\\\n- **Innovation**: Introducing new or improved products/services.\\\\n- **Risk-taking**: Willingness to accept financial, professional, and personal risks.\\\\n- **Vision and Goal Orientation**: Clear long-term goals drive decision-making.\\\\n- **Resilience**: Overcoming hurdles and staying motivated.\\\\n- **Self-Confidence**: Belief in achieving goals and mobilizing resources.\\\\n- **Flexibility**: Adapting strategies to changing market conditions.\\\\n- **Leadership Skills**: Inspiring teams and creating a constructive work environment.\\\\n- **Persistence**: Continually striving to achieve goals despite obstacles.\\\\n- **Opportunity Identification**: Seeing prospects where others see problems.\\\\n- **Financial Acumen**: Understanding budgeting, forecasting, and resource management.\"\\n}'}\n",
      "<class 'str'>\n",
      "{'qid': 'que2', 'summarizedAnswer': '{\\n    \"summarized_answer\": \"- Entrepreneurship involves identifying and creating opportunities through innovation, often by establishing new businesses or ventures.\\\\n- It incorporates capital, labor, and knowledge to develop products or services that meet market demands.\\\\n- Driven by calculated risk-taking and responding to change for business or social outcomes.\\\\n- Key aspects include:\\\\n  - Innovation: Developing new ideas, products, or services to solve problems or meet unmet needs.\\\\n  - Risk-taking: Willingness to face monetary and personal risks in developing and managing new ventures.\\\\n  - Value creation: Delivering economic or social value by satisfying market needs.\"\\n}'}\n",
      "<class 'str'>\n",
      "{'qid': 'que3', 'summarizedAnswer': '{\\n    \"summarized_answer\": \"Entrepreneurship is crucial for: \\\\n- **Employment Generation**: New ventures create jobs, reducing unemployment. \\\\n- **Economic Development**: Enhances production, productivity, and wealth, improving public utilities. \\\\n- **Innovation and Competition**: Drives new products/services, fostering technological advancement. \\\\n- **Social Change**: Addresses social issues like poverty and healthcare, aiding societal development. \\\\n- **Diversity and Variety**: Offers unique products/services, catering to diverse consumer tastes. \\\\n- **Economic Resilience**: Strengthens economies, adaptable to market changes. \\\\n\\\\nScope of Entrepreneurship includes: \\\\n- **Small Business**: Local shops and services vital for community development. \\\\n- **Scalable Startups**: Rapid growth with venture capital, targeting expanding markets. \\\\n- **Social Entrepreneurship**: Balances social value with financial sustainability. \\\\n- **Corporate Entrepreneurship**: Intrapreneurship within large organizations for innovation. \\\\n- **Lifestyle Entrepreneurship**: Reflects entrepreneur\\'s values, focusing on balanced growth. \\\\n- **Technology Entrepreneurship**: Develops tech solutions for modern consumer needs.\"\\n}'}\n",
      "<class 'str'>\n",
      "{'qid': 'que4', 'summarizedAnswer': '```json\\n{\\n    \"summarized_answer\": \"Entrepreneurial competencies and traits are essential for recognizing opportunities, managing risks, and innovating to run successful businesses. Key competencies include: \\\\n- Opportunity Identification: Spotting market trends and gaps.\\\\n- Risk Management: Making informed decisions to minimize risks.\\\\n- Innovation and Creativity: Developing unique solutions.\\\\n- Strategic Planning: Setting clear goals and adapting plans.\\\\n- Networking: Building professional connections for resources and marketing.\\\\n- Decision Making: Weighing choices with limited information.\\\\n- Financial Management: Managing cash flow and budgeting.\\\\n- Leadership and People Management: Motivating teams towards goals.\\\\nKey traits include: \\\\n- Self-Motivation: Driven by personal goals.\\\\n- Resilience: Bouncing back from failures.\\\\n- Entrepreneurial Passion: Energizing and inspiring teams.\\\\n- Flexibility: Adapting to market changes.\\\\n- Integrity: Building trust with stakeholders.\\\\n- Vision: Providing direction and purpose.\\\\n- Risk-Tolerance: Handling uncertainty and taking calculated risks.\"\\n}\\n```'}\n",
      "<class 'str'>\n",
      "{'qid': 'que5', 'summarizedAnswer': '```json\\n{\\n    \"summarized_answer\": \"Major competencies for superior entrepreneurial performance include: \\\\n\\\\n- **Opportunity Recognition**: Discovering business opportunities and unmet market needs, aligning with market trends.\\\\n- **Strategic Planning and Decision Making**: Setting actionable goals, identifying risks/resources, ensuring sustainable growth.\\\\n- **Networking Skills**: Building relations with mentors, investors, suppliers, and customers for resources and partnerships.\\\\n- **Financial Management**: Understanding budgeting, cash flow, and profit margins for smart resource allocation.\\\\n- **Problem-solving and Adaptability**: Facing challenges creatively, managing crises, and adjusting strategies.\\\\n- **Leadership**: Inspiring teams, creating a positive environment, and aligning team goals with business vision.\\\\n\\\\nThese competencies ensure innovation, sustainability, and growth, benefiting entrepreneurs and economic growth.\"\\n}\\n```'}\n",
      "<class 'str'>\n",
      "{'qid': 'que6', 'summarizedAnswer': '```json\\n{\\n    \"summarized_answer\": \"Successful entrepreneurs exhibit key traits: \\\\n- **Passion**: Deep focus and dedication to their business idea, persisting through challenges. \\\\n- **Resilience**: Ability to recover from setbacks, learning from failures without losing direction. \\\\n- **Adaptability**: Flexibility to adjust strategies with changing market conditions. \\\\n- **Vision**: Clear, compelling long-term goals that inspire decision-making. \\\\n- **Risk Taking**: Comfort with calculated risks for potential rewards. \\\\n- **Self-Motivation**: Strong internal drive to set and achieve ambitious goals. \\\\n- **Problem-Solving**: Critical thinking and creativity to tackle issues innovatively. \\\\n- **Confidence**: Belief in their ideas and skills, fostering trust from others. \\\\n- **Customer Focus**: Understanding customer needs to create desirable products/services. \\\\n- **Strategic Working Ethic**: Commitment and discipline to work hard towards objectives. \\\\n- **Financial Acumen**: Proficiency in budgeting and financial management for business health. \\\\n- **Networking Ability**: Building connections for resources, support, and collaboration. \\\\nThese traits collectively enable innovation, effective leadership, and sustainable business success.\"\\n}\\n```'}\n",
      "<class 'str'>\n",
      "{'qid': 'que7', 'summarizedAnswer': '{\\n    \"summarized_answer\": \"Factors Affecting Entrepreneurial Development:\\\\n\\\\n- **Economic Environment**:\\\\n  - Market Condition: Influenced by demand, supply, competition, and economic growth.\\\\n  - Access to Finance: Availability of funds from banks, venture capital, and investors.\\\\n  - Inflation and Interest Rates: High inflation increases costs; low interest rates encourage borrowing.\\\\n\\\\n- **Political and Legal Environment**:\\\\n  - Government Policies: Tax incentives and grants support entrepreneurship.\\\\n  - Regulatory Laws: Licensing, labor, and environmental regulations impact business operations.\\\\n  - Political Stability: Peaceful environments boost business confidence.\\\\n\\\\n- **Socio-cultural Factors**:\\\\n  - Culture and Attitudes: Societal views on entrepreneurship encourage risk-taking.\\\\n  - Education and Skills: Quality training enhances entrepreneurial potential.\\\\n  - Networking and Support Systems: Access to mentorship and communities aids learning.\\\\n\\\\n- **Technological Factors**:\\\\n  - Innovation: Technological advancements create new business opportunities.\\\\n  - Digital Infrastructure: Internet and digital tools enhance marketing and communication.\\\\n  - Research and Development: Drives new ideas and product creation.\\\\n\\\\n- **Individual Characteristics**:\\\\n  - Personality Traits: Risk tolerance, self-confidence, and creativity are crucial.\\\\n  - Experience and Knowledge: Industry knowledge and experience aid decision-making.\\\\n  - Motivation and Goals: Driven by personal and societal objectives.\"\\n}'}\n",
      "<class 'str'>\n",
      "{'qid': 'que8', 'summarizedAnswer': '```json\\n{\\n    \"summarized_answer\": \"Motivation is the impulse driving goal-directed behavior, crucial for entrepreneurs in risk-taking and vision pursuit. \\\\n\\\\nTypes of Motivation:\\\\n- Intrinsic: Driven by internal rewards like personal satisfaction and accomplishment.\\\\n- Extrinsic: Driven by external rewards such as money and recognition.\\\\n\\\\nMotivating Factors for Entrepreneurs:\\\\n- Personal Fulfillment: Turning passion into business and contributing meaningfully.\\\\n- Financial Security: Seeking wealth and financial stability for self and family.\\\\n- Freedom and Independence: Desire for autonomy and self-empowerment.\\\\n- Impact and Contribution: Addressing societal needs and challenges.\\\\n- Challenge and Growth: Overcoming challenges and continuous learning.\\\\n- Recognition and Achievement: Desire for recognition and accomplishment.\\\\n- Networking and Community: Building connections for support and resources.\"\\n}\\n```'}\n",
      "<class 'str'>\n",
      "{'qid': 'que9', 'summarizedAnswer': '{\\n    \"summarized_answer\": \"McClelland\\'s Achievement Motivation Theory identifies three primary needs driving human motivation: achievement, affiliation, and power. \\\\n\\\\n- **Need for Achievement (nAch):** Involves setting challenging yet attainable goals, risk calculation, and seeking feedback for progress and success. \\\\n- **Need for Affiliation (nAff):** Focuses on forming friendships and teamwork, preferring cooperative and harmonious work environments. \\\\n- **Need for Power (nPow):** Desires to influence and lead, with a focus on decision-making and control, either for personal or organizational benefit.\\\\n\\\\nApplications include self-assessment for career alignment, employee motivation through tailored tasks and environments, and fostering entrepreneurial development by aligning with intrinsic motivation for challenging goals.\"\\n}'}\n",
      "<class 'str'>\n",
      "{'qid': 'que10', 'summarizedAnswer': '{\\n    \"summarized_answer\": \"- **Entrepreneurial Personality**: Focuses on individual traits like resilience, motivation, creativity, and risk-taking, essential for overcoming challenges and innovating. \\\\n- **Entrepreneurial Task**: Involves identifying and executing opportunities, market needs, innovation, strategy planning, flexibility, and problem-solving. \\\\n- **External Environment**: Success is influenced by economic, social, political, and technological factors. A supportive environment with policies and resources fosters growth. \\\\n- **Organizational Context**: Emphasizes the role of supportive structures, collaboration, defined roles, and innovation in established organizations for entrepreneurial and intrapreneurial development. \\\\n- These elements collectively form a framework impacting entrepreneurial success or failure.\"\\n}'}\n",
      "<class 'str'>\n",
      "{'qid': 'que11', 'summarizedAnswer': '{\\n    \"summarized_answer\": \"An intrapreneur is an employee within a large company who acts like an entrepreneur, driving new business ideas and innovation. Key characteristics include: \\\\n- **Liberty to Innovate**: Freedom to develop ideas, often isolated from regular workflows. \\\\n- **Risk Mitigation**: Operates with company support, sharing risks and reducing personal financial exposure. \\\\n- **Corporate Support**: Backed by management with access to resources like funding and infrastructure. \\\\n- **Focus on Growth**: Encourages innovation to keep the company competitive and improve processes.\"\\n}'}\n",
      "<class 'str'>\n",
      "{'qid': 'que12', 'summarizedAnswer': '```json\\n{\\n    \"summarized_answer\": \"Critical elements in an intrapreneurial environment include: \\\\n- **Innovative Ideas**: Encouraging new ideas and staying updated with technology fosters innovative thinking. \\\\n- **Promote Experimentation**: Supports learning from failures and refining ideas into successful outcomes. \\\\n- **Availability of Resources**: Essential financial and human resources must be readily available for innovation. \\\\n- **Foster Collaboration**: Encourages diverse views and skills, enhancing creativity and effectiveness. \\\\n- **Reward System**: Motivates intrapreneurs through recognition and incentives, driving further innovation. \\\\n- **Top Management Support**: Provides authority and resources, crucial for executing intrapreneurial ideas successfully.\"\\n}\\n```'}\n",
      "<class 'str'>\n",
      "{'qid': 'que13', 'summarizedAnswer': '{\\n    \"summarized_answer\": \"Entrepreneurs can be classified based on various criteria: \\\\n\\\\n- **Economic Development**: \\\\n  - *Innovating Entrepreneurs*: Innovators creating new products/services.\\\\n  - *Adoptive Entrepreneurs*: Adapt others\\' innovations for their markets.\\\\n  - *Fabian Entrepreneurs*: Risk-averse, prefer traditional methods.\\\\n  - *Drone Entrepreneurs*: Resist change, miss new opportunities.\\\\n\\\\n- **Type of Business**: \\\\n  - *Business Entrepreneurs*: Introduce new products/services.\\\\n  - *Trading Entrepreneurs*: Focus on buying and selling.\\\\n  - *Industrial Entrepreneurs*: Create products/services based on customer needs.\\\\n  - *Corporate Entrepreneurs*: Innovate within corporate settings.\\\\n  - *Agricultural Entrepreneurs*: Use technology to enhance agriculture.\\\\n\\\\n- **Technology Utilization**: \\\\n  - *Technical Entrepreneurs*: Focus on commercializing inventions.\\\\n  - *Non-technical Entrepreneurs*: Develop marketing plans without tech focus.\\\\n  - *Professional Entrepreneurs*: Form businesses but don\\'t manage them.\\\\n\\\\n- **Motivation**: \\\\n  - *Pure Entrepreneurs*: Driven by psychological, economic, and ethical factors.\\\\n  - *Induced Entrepreneurs*: Motivated by government policies.\\\\n  - *Motivated Entrepreneurs*: Inspired by new production/sale opportunities.\"\\n}'}\n",
      "<class 'str'>\n",
      "{'qid': 'que14', 'summarizedAnswer': '```json\\n{\\n    \"summarized_answer\": \"Entrepreneurial Development Programs (EDPs) are structured initiatives aimed at training individuals to start and run successful businesses. They are crucial for those lacking formal business experience, covering business planning, financial management, marketing strategies, and risk management. Objectives include: \\\\n- Skill Building: Impart practical skills like problem-solving, leadership, and communication.\\\\n- Entrepreneurial Mindset: Foster proactive, innovative thinking and confidence.\\\\n- Talent Identification: Identify and nurture entrepreneurial talent for feasible business models.\\\\n- Encourage Innovation: Promote creative thinking for competitive market solutions.\\\\n- Promote Economic Growth: Create jobs and stimulate regional economic development.\\\\n- Reduce Unemployment: Offer alternative career paths to alleviate unemployment.\\\\n- Support Financial Independence: Encourage financial planning for self-reliance in ventures.\"\\n}\\n```'}\n",
      "<class 'str'>\n",
      "{'qid': 'que15', 'summarizedAnswer': '{\\n    \"summarized_answer\": \"Stages of Entrepreneurial Development Programs (EDPs) are crucial for creating successful entrepreneurs and are divided into three phases:\\\\n\\\\n- **Pre-Training Stage**: \\\\n  - Focuses on screening and profiling potential entrepreneurs.\\\\n  - Involves selection of participants interested in business ventures.\\\\n  - Conducts resource and market analysis to determine business viability.\\\\n  - Organizes seminars and workshops for initial motivation.\\\\n\\\\n- **Training Stage**: \\\\n  - Core stage providing essential skills and information.\\\\n  - Covers business management skills, financial education, and legal knowledge.\\\\n  - Includes psychological and behavioral coaching to develop resilience and innovation.\\\\n\\\\n- **Post-Training Stage**: \\\\n  - Offers continuous support to entrepreneurs.\\\\n  - Provides mentorship and networking opportunities.\\\\n  - Assists in accessing funding from various sources.\\\\n  - Involves monitoring and follow-up to ensure progress and address challenges.\"\\n}'}\n",
      "<class 'str'>\n",
      "{'qid': 'que16', 'summarizedAnswer': '{\\n    \"summarized_answer\": \"- **National Small Industries Corporation (NSIC):** Promotes small industries in India through credit support via bank tie-ups, skill training in technical and business management, and marketing through government procurement schemes.\\\\n- **Small Industries Development Bank of India (SIDBI):** Supports MSMEs with financial products like loans and venture capital, advisory services for resource optimization, and startup support through collaborations.\\\\n- **National Institute for Entrepreneurship and Small Business Development (NIESBUD):** Offers entrepreneurship training, consultancy services, and conducts R&D on entrepreneurship trends and challenges.\\\\n- **Micro Units Development and Refinance Agency (MUDRA):** Provides credit support under PMMY with schemes like Shishu (up to ₹50,000), Kishor (up to ₹5 lakhs), and Tarun (up to ₹10 lakhs) loans for small units.\"\\n}'}\n",
      "<class 'str'>\n",
      "{'qid': 'que17', 'summarizedAnswer': '{\\n    \"summarized_answer\": \"- **PMEGP (Prime Minister\\'s Employment Generation Programme):** Provides finance and subsidies to micro-enterprises, targeting resource-poor individuals in rural and urban areas to promote sustainable business and local employment.\\\\n- **Startup India Initiative:** Aims to foster innovation and expand the startup ecosystem with funding support, incubation, mentorship, and eased compliance for startups.\\\\n- **Stand-Up India Scheme:** Offers financial assistance to women entrepreneurs and SC/ST communities to start new ventures, promoting inclusive growth and entrepreneurship among underprivileged groups.\\\\n- **Skill India Mission:** Focuses on enhancing employability through vocational training, aligning with industry needs to enable youth to become entrepreneurs or integrate into existing industries.\"\\n}'}\n",
      "<class 'str'>\n",
      "{'qid': 'que18', 'summarizedAnswer': '{\\n    \"summarized_answer\": \"Problems faced by EDPs include: \\\\n\\\\n- **Limited Awareness**: Rural individuals often lack awareness of EDPs, missing out on supportive services for business enhancement.\\\\n- **Inadequate Funding**: Budget constraints limit training quality, reach, and access to digital tools, affecting program effectiveness.\\\\n- **Lack of Skills**: Skills provided may not align with industry demands, lacking emerging trends and technologies.\\\\n- **Poor After-Training Support**: Insufficient post-training support leads to challenges in sustaining businesses due to lack of mentoring and advisory services.\\\\n- **Regulatory Challenges**: New entrepreneurs face compliance, licensing, and tax issues, especially those from rural backgrounds.\\\\n- **Negligence of Customized Training**: Standardized training fails to meet specific needs, such as those of women balancing work and family or rural entrepreneurs needing local market information.\"\\n}'}\n"
     ]
    }
   ],
   "source": [
    "for i in df.summary:\n",
    "    print(type(i))\n",
    "    print(i)"
   ]
  },
  {
   "cell_type": "code",
   "execution_count": 136,
   "id": "cccd43d2-94be-4844-a22f-2a0870a09c5b",
   "metadata": {
    "collapsed": true,
    "jupyter": {
     "outputs_hidden": true
    }
   },
   "outputs": [],
   "source": [
    "# converting the string to dictionary of the summary column\n",
    "import ast\n",
    "df['summarized_ans'] = df['summary'].apply(ast.literal_eval)"
   ]
  },
  {
   "cell_type": "code",
   "execution_count": 137,
   "id": "bc711255-6e39-4967-9efb-d642db36edb2",
   "metadata": {
    "collapsed": true,
    "jupyter": {
     "outputs_hidden": true
    }
   },
   "outputs": [
    {
     "data": {
      "text/html": [
       "<div>\n",
       "<style scoped>\n",
       "    .dataframe tbody tr th:only-of-type {\n",
       "        vertical-align: middle;\n",
       "    }\n",
       "\n",
       "    .dataframe tbody tr th {\n",
       "        vertical-align: top;\n",
       "    }\n",
       "\n",
       "    .dataframe thead th {\n",
       "        text-align: right;\n",
       "    }\n",
       "</style>\n",
       "<table border=\"1\" class=\"dataframe\">\n",
       "  <thead>\n",
       "    <tr style=\"text-align: right;\">\n",
       "      <th></th>\n",
       "      <th>year</th>\n",
       "      <th>branch</th>\n",
       "      <th>subject</th>\n",
       "      <th>unit</th>\n",
       "      <th>summary</th>\n",
       "      <th>summarized_ans</th>\n",
       "    </tr>\n",
       "  </thead>\n",
       "  <tbody>\n",
       "    <tr>\n",
       "      <th>0</th>\n",
       "      <td>4</td>\n",
       "      <td>Computer Science Engineering</td>\n",
       "      <td>PME</td>\n",
       "      <td>Unit 1</td>\n",
       "      <td>{'qid': 'que1', 'summarizedAnswer': '{\\n    \"s...</td>\n",
       "      <td>{'qid': 'que1', 'summarizedAnswer': '{\n",
       "    \"su...</td>\n",
       "    </tr>\n",
       "    <tr>\n",
       "      <th>1</th>\n",
       "      <td>4</td>\n",
       "      <td>Computer Science Engineering</td>\n",
       "      <td>PME</td>\n",
       "      <td>Unit 1</td>\n",
       "      <td>{'qid': 'que2', 'summarizedAnswer': '{\\n    \"s...</td>\n",
       "      <td>{'qid': 'que2', 'summarizedAnswer': '{\n",
       "    \"su...</td>\n",
       "    </tr>\n",
       "    <tr>\n",
       "      <th>2</th>\n",
       "      <td>4</td>\n",
       "      <td>Computer Science Engineering</td>\n",
       "      <td>PME</td>\n",
       "      <td>Unit 1</td>\n",
       "      <td>{'qid': 'que3', 'summarizedAnswer': '{\\n    \"s...</td>\n",
       "      <td>{'qid': 'que3', 'summarizedAnswer': '{\n",
       "    \"su...</td>\n",
       "    </tr>\n",
       "    <tr>\n",
       "      <th>3</th>\n",
       "      <td>4</td>\n",
       "      <td>Computer Science Engineering</td>\n",
       "      <td>PME</td>\n",
       "      <td>Unit 1</td>\n",
       "      <td>{'qid': 'que4', 'summarizedAnswer': '```json\\n...</td>\n",
       "      <td>{'qid': 'que4', 'summarizedAnswer': '```json\n",
       "{...</td>\n",
       "    </tr>\n",
       "    <tr>\n",
       "      <th>4</th>\n",
       "      <td>4</td>\n",
       "      <td>Computer Science Engineering</td>\n",
       "      <td>PME</td>\n",
       "      <td>Unit 1</td>\n",
       "      <td>{'qid': 'que5', 'summarizedAnswer': '```json\\n...</td>\n",
       "      <td>{'qid': 'que5', 'summarizedAnswer': '```json\n",
       "{...</td>\n",
       "    </tr>\n",
       "  </tbody>\n",
       "</table>\n",
       "</div>"
      ],
      "text/plain": [
       "   year                        branch subject    unit  \\\n",
       "0     4  Computer Science Engineering     PME  Unit 1   \n",
       "1     4  Computer Science Engineering     PME  Unit 1   \n",
       "2     4  Computer Science Engineering     PME  Unit 1   \n",
       "3     4  Computer Science Engineering     PME  Unit 1   \n",
       "4     4  Computer Science Engineering     PME  Unit 1   \n",
       "\n",
       "                                             summary  \\\n",
       "0  {'qid': 'que1', 'summarizedAnswer': '{\\n    \"s...   \n",
       "1  {'qid': 'que2', 'summarizedAnswer': '{\\n    \"s...   \n",
       "2  {'qid': 'que3', 'summarizedAnswer': '{\\n    \"s...   \n",
       "3  {'qid': 'que4', 'summarizedAnswer': '```json\\n...   \n",
       "4  {'qid': 'que5', 'summarizedAnswer': '```json\\n...   \n",
       "\n",
       "                                      summarized_ans  \n",
       "0  {'qid': 'que1', 'summarizedAnswer': '{\n",
       "    \"su...  \n",
       "1  {'qid': 'que2', 'summarizedAnswer': '{\n",
       "    \"su...  \n",
       "2  {'qid': 'que3', 'summarizedAnswer': '{\n",
       "    \"su...  \n",
       "3  {'qid': 'que4', 'summarizedAnswer': '```json\n",
       "{...  \n",
       "4  {'qid': 'que5', 'summarizedAnswer': '```json\n",
       "{...  "
      ]
     },
     "execution_count": 137,
     "metadata": {},
     "output_type": "execute_result"
    }
   ],
   "source": [
    "df.head()"
   ]
  },
  {
   "cell_type": "code",
   "execution_count": 142,
   "id": "4f172314-0e7a-46af-9523-350dc75d0732",
   "metadata": {
    "collapsed": true,
    "jupyter": {
     "outputs_hidden": true
    }
   },
   "outputs": [
    {
     "name": "stdout",
     "output_type": "stream",
     "text": [
      "18\n"
     ]
    }
   ],
   "source": [
    "print(len(df.summarized_ans))"
   ]
  },
  {
   "cell_type": "code",
   "execution_count": 138,
   "id": "6cf24feb-2968-425a-8145-5a003ceee4c7",
   "metadata": {
    "collapsed": true,
    "jupyter": {
     "outputs_hidden": true
    }
   },
   "outputs": [
    {
     "name": "stdout",
     "output_type": "stream",
     "text": [
      "<class 'dict'>\n",
      "<class 'dict'>\n",
      "<class 'dict'>\n",
      "<class 'dict'>\n",
      "<class 'dict'>\n",
      "<class 'dict'>\n",
      "<class 'dict'>\n",
      "<class 'dict'>\n",
      "<class 'dict'>\n",
      "<class 'dict'>\n",
      "<class 'dict'>\n",
      "<class 'dict'>\n",
      "<class 'dict'>\n",
      "<class 'dict'>\n",
      "<class 'dict'>\n",
      "<class 'dict'>\n",
      "<class 'dict'>\n",
      "<class 'dict'>\n"
     ]
    }
   ],
   "source": [
    "for i in df.summarized_ans:\n",
    "    print(type(i))"
   ]
  },
  {
   "cell_type": "markdown",
   "id": "0ab61ed5-04c6-4036-a9b3-d17d0831ea54",
   "metadata": {},
   "source": [
    "## making a list of all these dicts of summarized ans to pass it as input text for the model"
   ]
  },
  {
   "cell_type": "code",
   "execution_count": 143,
   "id": "78da9c76-c481-441c-b0ca-3992a3f13dcf",
   "metadata": {
    "collapsed": true,
    "jupyter": {
     "outputs_hidden": true
    }
   },
   "outputs": [],
   "source": [
    "summarizedAnswerList = []\n",
    "for i in df.summarized_ans:\n",
    "    summarizedAnswerList.append(i['summarizedAnswer'])"
   ]
  },
  {
   "cell_type": "code",
   "execution_count": 144,
   "id": "b74eaf4a-184b-4aca-8ac3-9cf496428d5b",
   "metadata": {
    "collapsed": true,
    "jupyter": {
     "outputs_hidden": true
    }
   },
   "outputs": [
    {
     "name": "stdout",
     "output_type": "stream",
     "text": [
      "['{\\n    \"summarized_answer\": \"An entrepreneur is a business founder who identifies opportunities, assumes risks, and efficiently uses resources to generate profit and contribute to economic growth. Key characteristics include: \\\\n\\\\n- **Innovation**: Introducing new or improved products/services.\\\\n- **Risk-taking**: Willingness to accept financial, professional, and personal risks.\\\\n- **Vision and Goal Orientation**: Clear long-term goals drive decision-making.\\\\n- **Resilience**: Overcoming hurdles and staying motivated.\\\\n- **Self-Confidence**: Belief in achieving goals and mobilizing resources.\\\\n- **Flexibility**: Adapting strategies to changing market conditions.\\\\n- **Leadership Skills**: Inspiring teams and creating a constructive work environment.\\\\n- **Persistence**: Continually striving to achieve goals despite obstacles.\\\\n- **Opportunity Identification**: Seeing prospects where others see problems.\\\\n- **Financial Acumen**: Understanding budgeting, forecasting, and resource management.\"\\n}', '{\\n    \"summarized_answer\": \"- Entrepreneurship involves identifying and creating opportunities through innovation, often by establishing new businesses or ventures.\\\\n- It incorporates capital, labor, and knowledge to develop products or services that meet market demands.\\\\n- Driven by calculated risk-taking and responding to change for business or social outcomes.\\\\n- Key aspects include:\\\\n  - Innovation: Developing new ideas, products, or services to solve problems or meet unmet needs.\\\\n  - Risk-taking: Willingness to face monetary and personal risks in developing and managing new ventures.\\\\n  - Value creation: Delivering economic or social value by satisfying market needs.\"\\n}', '{\\n    \"summarized_answer\": \"Entrepreneurship is crucial for: \\\\n- **Employment Generation**: New ventures create jobs, reducing unemployment. \\\\n- **Economic Development**: Enhances production, productivity, and wealth, improving public utilities. \\\\n- **Innovation and Competition**: Drives new products/services, fostering technological advancement. \\\\n- **Social Change**: Addresses social issues like poverty and healthcare, aiding societal development. \\\\n- **Diversity and Variety**: Offers unique products/services, catering to diverse consumer tastes. \\\\n- **Economic Resilience**: Strengthens economies, adaptable to market changes. \\\\n\\\\nScope of Entrepreneurship includes: \\\\n- **Small Business**: Local shops and services vital for community development. \\\\n- **Scalable Startups**: Rapid growth with venture capital, targeting expanding markets. \\\\n- **Social Entrepreneurship**: Balances social value with financial sustainability. \\\\n- **Corporate Entrepreneurship**: Intrapreneurship within large organizations for innovation. \\\\n- **Lifestyle Entrepreneurship**: Reflects entrepreneur\\'s values, focusing on balanced growth. \\\\n- **Technology Entrepreneurship**: Develops tech solutions for modern consumer needs.\"\\n}', '```json\\n{\\n    \"summarized_answer\": \"Entrepreneurial competencies and traits are essential for recognizing opportunities, managing risks, and innovating to run successful businesses. Key competencies include: \\\\n- Opportunity Identification: Spotting market trends and gaps.\\\\n- Risk Management: Making informed decisions to minimize risks.\\\\n- Innovation and Creativity: Developing unique solutions.\\\\n- Strategic Planning: Setting clear goals and adapting plans.\\\\n- Networking: Building professional connections for resources and marketing.\\\\n- Decision Making: Weighing choices with limited information.\\\\n- Financial Management: Managing cash flow and budgeting.\\\\n- Leadership and People Management: Motivating teams towards goals.\\\\nKey traits include: \\\\n- Self-Motivation: Driven by personal goals.\\\\n- Resilience: Bouncing back from failures.\\\\n- Entrepreneurial Passion: Energizing and inspiring teams.\\\\n- Flexibility: Adapting to market changes.\\\\n- Integrity: Building trust with stakeholders.\\\\n- Vision: Providing direction and purpose.\\\\n- Risk-Tolerance: Handling uncertainty and taking calculated risks.\"\\n}\\n```', '```json\\n{\\n    \"summarized_answer\": \"Major competencies for superior entrepreneurial performance include: \\\\n\\\\n- **Opportunity Recognition**: Discovering business opportunities and unmet market needs, aligning with market trends.\\\\n- **Strategic Planning and Decision Making**: Setting actionable goals, identifying risks/resources, ensuring sustainable growth.\\\\n- **Networking Skills**: Building relations with mentors, investors, suppliers, and customers for resources and partnerships.\\\\n- **Financial Management**: Understanding budgeting, cash flow, and profit margins for smart resource allocation.\\\\n- **Problem-solving and Adaptability**: Facing challenges creatively, managing crises, and adjusting strategies.\\\\n- **Leadership**: Inspiring teams, creating a positive environment, and aligning team goals with business vision.\\\\n\\\\nThese competencies ensure innovation, sustainability, and growth, benefiting entrepreneurs and economic growth.\"\\n}\\n```', '```json\\n{\\n    \"summarized_answer\": \"Successful entrepreneurs exhibit key traits: \\\\n- **Passion**: Deep focus and dedication to their business idea, persisting through challenges. \\\\n- **Resilience**: Ability to recover from setbacks, learning from failures without losing direction. \\\\n- **Adaptability**: Flexibility to adjust strategies with changing market conditions. \\\\n- **Vision**: Clear, compelling long-term goals that inspire decision-making. \\\\n- **Risk Taking**: Comfort with calculated risks for potential rewards. \\\\n- **Self-Motivation**: Strong internal drive to set and achieve ambitious goals. \\\\n- **Problem-Solving**: Critical thinking and creativity to tackle issues innovatively. \\\\n- **Confidence**: Belief in their ideas and skills, fostering trust from others. \\\\n- **Customer Focus**: Understanding customer needs to create desirable products/services. \\\\n- **Strategic Working Ethic**: Commitment and discipline to work hard towards objectives. \\\\n- **Financial Acumen**: Proficiency in budgeting and financial management for business health. \\\\n- **Networking Ability**: Building connections for resources, support, and collaboration. \\\\nThese traits collectively enable innovation, effective leadership, and sustainable business success.\"\\n}\\n```', '{\\n    \"summarized_answer\": \"Factors Affecting Entrepreneurial Development:\\\\n\\\\n- **Economic Environment**:\\\\n  - Market Condition: Influenced by demand, supply, competition, and economic growth.\\\\n  - Access to Finance: Availability of funds from banks, venture capital, and investors.\\\\n  - Inflation and Interest Rates: High inflation increases costs; low interest rates encourage borrowing.\\\\n\\\\n- **Political and Legal Environment**:\\\\n  - Government Policies: Tax incentives and grants support entrepreneurship.\\\\n  - Regulatory Laws: Licensing, labor, and environmental regulations impact business operations.\\\\n  - Political Stability: Peaceful environments boost business confidence.\\\\n\\\\n- **Socio-cultural Factors**:\\\\n  - Culture and Attitudes: Societal views on entrepreneurship encourage risk-taking.\\\\n  - Education and Skills: Quality training enhances entrepreneurial potential.\\\\n  - Networking and Support Systems: Access to mentorship and communities aids learning.\\\\n\\\\n- **Technological Factors**:\\\\n  - Innovation: Technological advancements create new business opportunities.\\\\n  - Digital Infrastructure: Internet and digital tools enhance marketing and communication.\\\\n  - Research and Development: Drives new ideas and product creation.\\\\n\\\\n- **Individual Characteristics**:\\\\n  - Personality Traits: Risk tolerance, self-confidence, and creativity are crucial.\\\\n  - Experience and Knowledge: Industry knowledge and experience aid decision-making.\\\\n  - Motivation and Goals: Driven by personal and societal objectives.\"\\n}', '```json\\n{\\n    \"summarized_answer\": \"Motivation is the impulse driving goal-directed behavior, crucial for entrepreneurs in risk-taking and vision pursuit. \\\\n\\\\nTypes of Motivation:\\\\n- Intrinsic: Driven by internal rewards like personal satisfaction and accomplishment.\\\\n- Extrinsic: Driven by external rewards such as money and recognition.\\\\n\\\\nMotivating Factors for Entrepreneurs:\\\\n- Personal Fulfillment: Turning passion into business and contributing meaningfully.\\\\n- Financial Security: Seeking wealth and financial stability for self and family.\\\\n- Freedom and Independence: Desire for autonomy and self-empowerment.\\\\n- Impact and Contribution: Addressing societal needs and challenges.\\\\n- Challenge and Growth: Overcoming challenges and continuous learning.\\\\n- Recognition and Achievement: Desire for recognition and accomplishment.\\\\n- Networking and Community: Building connections for support and resources.\"\\n}\\n```', '{\\n    \"summarized_answer\": \"McClelland\\'s Achievement Motivation Theory identifies three primary needs driving human motivation: achievement, affiliation, and power. \\\\n\\\\n- **Need for Achievement (nAch):** Involves setting challenging yet attainable goals, risk calculation, and seeking feedback for progress and success. \\\\n- **Need for Affiliation (nAff):** Focuses on forming friendships and teamwork, preferring cooperative and harmonious work environments. \\\\n- **Need for Power (nPow):** Desires to influence and lead, with a focus on decision-making and control, either for personal or organizational benefit.\\\\n\\\\nApplications include self-assessment for career alignment, employee motivation through tailored tasks and environments, and fostering entrepreneurial development by aligning with intrinsic motivation for challenging goals.\"\\n}', '{\\n    \"summarized_answer\": \"- **Entrepreneurial Personality**: Focuses on individual traits like resilience, motivation, creativity, and risk-taking, essential for overcoming challenges and innovating. \\\\n- **Entrepreneurial Task**: Involves identifying and executing opportunities, market needs, innovation, strategy planning, flexibility, and problem-solving. \\\\n- **External Environment**: Success is influenced by economic, social, political, and technological factors. A supportive environment with policies and resources fosters growth. \\\\n- **Organizational Context**: Emphasizes the role of supportive structures, collaboration, defined roles, and innovation in established organizations for entrepreneurial and intrapreneurial development. \\\\n- These elements collectively form a framework impacting entrepreneurial success or failure.\"\\n}', '{\\n    \"summarized_answer\": \"An intrapreneur is an employee within a large company who acts like an entrepreneur, driving new business ideas and innovation. Key characteristics include: \\\\n- **Liberty to Innovate**: Freedom to develop ideas, often isolated from regular workflows. \\\\n- **Risk Mitigation**: Operates with company support, sharing risks and reducing personal financial exposure. \\\\n- **Corporate Support**: Backed by management with access to resources like funding and infrastructure. \\\\n- **Focus on Growth**: Encourages innovation to keep the company competitive and improve processes.\"\\n}', '```json\\n{\\n    \"summarized_answer\": \"Critical elements in an intrapreneurial environment include: \\\\n- **Innovative Ideas**: Encouraging new ideas and staying updated with technology fosters innovative thinking. \\\\n- **Promote Experimentation**: Supports learning from failures and refining ideas into successful outcomes. \\\\n- **Availability of Resources**: Essential financial and human resources must be readily available for innovation. \\\\n- **Foster Collaboration**: Encourages diverse views and skills, enhancing creativity and effectiveness. \\\\n- **Reward System**: Motivates intrapreneurs through recognition and incentives, driving further innovation. \\\\n- **Top Management Support**: Provides authority and resources, crucial for executing intrapreneurial ideas successfully.\"\\n}\\n```', '{\\n    \"summarized_answer\": \"Entrepreneurs can be classified based on various criteria: \\\\n\\\\n- **Economic Development**: \\\\n  - *Innovating Entrepreneurs*: Innovators creating new products/services.\\\\n  - *Adoptive Entrepreneurs*: Adapt others\\' innovations for their markets.\\\\n  - *Fabian Entrepreneurs*: Risk-averse, prefer traditional methods.\\\\n  - *Drone Entrepreneurs*: Resist change, miss new opportunities.\\\\n\\\\n- **Type of Business**: \\\\n  - *Business Entrepreneurs*: Introduce new products/services.\\\\n  - *Trading Entrepreneurs*: Focus on buying and selling.\\\\n  - *Industrial Entrepreneurs*: Create products/services based on customer needs.\\\\n  - *Corporate Entrepreneurs*: Innovate within corporate settings.\\\\n  - *Agricultural Entrepreneurs*: Use technology to enhance agriculture.\\\\n\\\\n- **Technology Utilization**: \\\\n  - *Technical Entrepreneurs*: Focus on commercializing inventions.\\\\n  - *Non-technical Entrepreneurs*: Develop marketing plans without tech focus.\\\\n  - *Professional Entrepreneurs*: Form businesses but don\\'t manage them.\\\\n\\\\n- **Motivation**: \\\\n  - *Pure Entrepreneurs*: Driven by psychological, economic, and ethical factors.\\\\n  - *Induced Entrepreneurs*: Motivated by government policies.\\\\n  - *Motivated Entrepreneurs*: Inspired by new production/sale opportunities.\"\\n}', '```json\\n{\\n    \"summarized_answer\": \"Entrepreneurial Development Programs (EDPs) are structured initiatives aimed at training individuals to start and run successful businesses. They are crucial for those lacking formal business experience, covering business planning, financial management, marketing strategies, and risk management. Objectives include: \\\\n- Skill Building: Impart practical skills like problem-solving, leadership, and communication.\\\\n- Entrepreneurial Mindset: Foster proactive, innovative thinking and confidence.\\\\n- Talent Identification: Identify and nurture entrepreneurial talent for feasible business models.\\\\n- Encourage Innovation: Promote creative thinking for competitive market solutions.\\\\n- Promote Economic Growth: Create jobs and stimulate regional economic development.\\\\n- Reduce Unemployment: Offer alternative career paths to alleviate unemployment.\\\\n- Support Financial Independence: Encourage financial planning for self-reliance in ventures.\"\\n}\\n```', '{\\n    \"summarized_answer\": \"Stages of Entrepreneurial Development Programs (EDPs) are crucial for creating successful entrepreneurs and are divided into three phases:\\\\n\\\\n- **Pre-Training Stage**: \\\\n  - Focuses on screening and profiling potential entrepreneurs.\\\\n  - Involves selection of participants interested in business ventures.\\\\n  - Conducts resource and market analysis to determine business viability.\\\\n  - Organizes seminars and workshops for initial motivation.\\\\n\\\\n- **Training Stage**: \\\\n  - Core stage providing essential skills and information.\\\\n  - Covers business management skills, financial education, and legal knowledge.\\\\n  - Includes psychological and behavioral coaching to develop resilience and innovation.\\\\n\\\\n- **Post-Training Stage**: \\\\n  - Offers continuous support to entrepreneurs.\\\\n  - Provides mentorship and networking opportunities.\\\\n  - Assists in accessing funding from various sources.\\\\n  - Involves monitoring and follow-up to ensure progress and address challenges.\"\\n}', '{\\n    \"summarized_answer\": \"- **National Small Industries Corporation (NSIC):** Promotes small industries in India through credit support via bank tie-ups, skill training in technical and business management, and marketing through government procurement schemes.\\\\n- **Small Industries Development Bank of India (SIDBI):** Supports MSMEs with financial products like loans and venture capital, advisory services for resource optimization, and startup support through collaborations.\\\\n- **National Institute for Entrepreneurship and Small Business Development (NIESBUD):** Offers entrepreneurship training, consultancy services, and conducts R&D on entrepreneurship trends and challenges.\\\\n- **Micro Units Development and Refinance Agency (MUDRA):** Provides credit support under PMMY with schemes like Shishu (up to ₹50,000), Kishor (up to ₹5 lakhs), and Tarun (up to ₹10 lakhs) loans for small units.\"\\n}', '{\\n    \"summarized_answer\": \"- **PMEGP (Prime Minister\\'s Employment Generation Programme):** Provides finance and subsidies to micro-enterprises, targeting resource-poor individuals in rural and urban areas to promote sustainable business and local employment.\\\\n- **Startup India Initiative:** Aims to foster innovation and expand the startup ecosystem with funding support, incubation, mentorship, and eased compliance for startups.\\\\n- **Stand-Up India Scheme:** Offers financial assistance to women entrepreneurs and SC/ST communities to start new ventures, promoting inclusive growth and entrepreneurship among underprivileged groups.\\\\n- **Skill India Mission:** Focuses on enhancing employability through vocational training, aligning with industry needs to enable youth to become entrepreneurs or integrate into existing industries.\"\\n}', '{\\n    \"summarized_answer\": \"Problems faced by EDPs include: \\\\n\\\\n- **Limited Awareness**: Rural individuals often lack awareness of EDPs, missing out on supportive services for business enhancement.\\\\n- **Inadequate Funding**: Budget constraints limit training quality, reach, and access to digital tools, affecting program effectiveness.\\\\n- **Lack of Skills**: Skills provided may not align with industry demands, lacking emerging trends and technologies.\\\\n- **Poor After-Training Support**: Insufficient post-training support leads to challenges in sustaining businesses due to lack of mentoring and advisory services.\\\\n- **Regulatory Challenges**: New entrepreneurs face compliance, licensing, and tax issues, especially those from rural backgrounds.\\\\n- **Negligence of Customized Training**: Standardized training fails to meet specific needs, such as those of women balancing work and family or rural entrepreneurs needing local market information.\"\\n}']\n"
     ]
    }
   ],
   "source": [
    "print(summarizedAnswerList)"
   ]
  },
  {
   "cell_type": "code",
   "execution_count": 145,
   "id": "bdecb306-1f3a-4603-ab06-63c1a88ca1a5",
   "metadata": {
    "collapsed": true,
    "jupyter": {
     "outputs_hidden": true
    }
   },
   "outputs": [
    {
     "name": "stdout",
     "output_type": "stream",
     "text": [
      "18\n"
     ]
    }
   ],
   "source": [
    "print(len(summarizedAnswerList))"
   ]
  },
  {
   "cell_type": "markdown",
   "id": "1f35a48d-abea-4dc2-9f9b-700935da1656",
   "metadata": {},
   "source": [
    "## getting REPHRASED outputs"
   ]
  },
  {
   "cell_type": "code",
   "execution_count": 146,
   "id": "a9c974c1-9488-40eb-8630-6542752819f9",
   "metadata": {
    "collapsed": true,
    "jupyter": {
     "outputs_hidden": true
    }
   },
   "outputs": [],
   "source": [
    "rephrasedList = []\n",
    "for summary in summarizedAnswerList:\n",
    "    particular_message = prompt_template_1.format_messages(text=summary, Task=Task, Role=Role, style=style, instructions=instructions, output_format=output_format)\n",
    "    response = model.invoke(particular_message)\n",
    "    res_content = response.content\n",
    "    rephrasedList.append(res_content)"
   ]
  },
  {
   "cell_type": "code",
   "execution_count": 147,
   "id": "ca67b57b-28b7-4981-a98f-fe57b0c5069e",
   "metadata": {
    "collapsed": true,
    "jupyter": {
     "outputs_hidden": true
    }
   },
   "outputs": [
    {
     "name": "stdout",
     "output_type": "stream",
     "text": [
      "['```json\\n{\\n    \"input_text\": \"An entrepreneur is a business founder who identifies opportunities, assumes risks, and efficiently uses resources to generate profit and contribute to economic growth. Key characteristics include: \\\\n\\\\n- **Innovation**: Introducing new or improved products/services.\\\\n- **Risk-taking**: Willingness to accept financial, professional, and personal risks.\\\\n- **Vision and Goal Orientation**: Clear long-term goals drive decision-making.\\\\n- **Resilience**: Overcoming hurdles and staying motivated.\\\\n- **Self-Confidence**: Belief in achieving goals and mobilizing resources.\\\\n- **Flexibility**: Adapting strategies to changing market conditions.\\\\n- **Leadership Skills**: Inspiring teams and creating a constructive work environment.\\\\n- **Persistence**: Continually striving to achieve goals despite obstacles.\\\\n- **Opportunity Identification**: Seeing prospects where others see problems.\\\\n- **Financial Acumen**: Understanding budgeting, forecasting, and resource management.\",\\n    \"rephrased_text_response\": \"An entrepreneur is someone who starts a business by spotting chances, taking risks, and using resources wisely to make money and help the economy grow. Important traits include: \\\\n\\\\n- **Innovation**: Creating new or better products/services.\\\\n- **Risk-taking**: Being open to financial, professional, and personal risks.\\\\n- **Vision and Goal Orientation**: Having clear long-term goals that guide decisions.\\\\n- **Resilience**: Bouncing back from challenges and staying driven.\\\\n- **Self-Confidence**: Trusting in one\\'s ability to reach goals and gather resources.\\\\n- **Flexibility**: Changing plans based on market shifts.\\\\n- **Leadership Skills**: Motivating teams and fostering a positive work atmosphere.\\\\n- **Persistence**: Keeping at it to reach goals despite difficulties.\\\\n- **Opportunity Identification**: Recognizing chances where others see issues.\\\\n- **Financial Acumen**: Knowing how to budget, forecast, and manage resources.\"\\n}\\n```', '{\\n    \"input_text\": \"- Entrepreneurship involves identifying and creating opportunities through innovation, often by establishing new businesses or ventures.\\\\n- It incorporates capital, labor, and knowledge to develop products or services that meet market demands.\\\\n- Driven by calculated risk-taking and responding to change for business or social outcomes.\\\\n- Key aspects include:\\\\n  - Innovation: Developing new ideas, products, or services to solve problems or meet unmet needs.\\\\n  - Risk-taking: Willingness to face monetary and personal risks in developing and managing new ventures.\\\\n  - Value creation: Delivering economic or social value by satisfying market needs.\",\\n    \"rephrased_text_response\": \"- Entrepreneurship is about spotting and creating opportunities through new ideas, often by starting new businesses.\\\\n- It involves using money, people, and knowledge to create products or services that fulfill market needs.\\\\n- It relies on taking calculated risks and adapting to changes for business or social benefits.\\\\n- Important elements include:\\\\n  - Innovation: Coming up with new ideas, products, or services to address problems or gaps.\\\\n  - Risk-taking: Being ready to face financial and personal risks in starting and running new businesses.\\\\n  - Value creation: Providing economic or social benefits by meeting market demands.\"\\n}', '```json\\n{\\n    \"input_text\": \"Entrepreneurship is crucial for: \\\\n- **Employment Generation**: New ventures create jobs, reducing unemployment. \\\\n- **Economic Development**: Enhances production, productivity, and wealth, improving public utilities. \\\\n- **Innovation and Competition**: Drives new products/services, fostering technological advancement. \\\\n- **Social Change**: Addresses social issues like poverty and healthcare, aiding societal development. \\\\n- **Diversity and Variety**: Offers unique products/services, catering to diverse consumer tastes. \\\\n- **Economic Resilience**: Strengthens economies, adaptable to market changes. \\\\n\\\\nScope of Entrepreneurship includes: \\\\n- **Small Business**: Local shops and services vital for community development. \\\\n- **Scalable Startups**: Rapid growth with venture capital, targeting expanding markets. \\\\n- **Social Entrepreneurship**: Balances social value with financial sustainability. \\\\n- **Corporate Entrepreneurship**: Intrapreneurship within large organizations for innovation. \\\\n- **Lifestyle Entrepreneurship**: Reflects entrepreneur\\'s values, focusing on balanced growth. \\\\n- **Technology Entrepreneurship**: Develops tech solutions for modern consumer needs.\",\\n    \"rephrased_text_response\": \"Entrepreneurship is important for: \\\\n- **Job Creation**: New businesses generate jobs, helping to lower unemployment. \\\\n- **Economic Growth**: Boosts production and wealth, leading to better public services. \\\\n- **Innovation and Competition**: Encourages new products and services, promoting technology progress. \\\\n- **Social Improvement**: Tackles issues like poverty and healthcare, supporting community growth. \\\\n- **Variety and Choice**: Provides unique products and services that meet different consumer preferences. \\\\n- **Economic Strength**: Makes economies more robust and flexible to market changes. \\\\n\\\\nThe areas of Entrepreneurship include: \\\\n- **Small Businesses**: Local stores and services that are essential for community growth. \\\\n- **Scalable Startups**: Fast-growing companies that attract investment and target larger markets. \\\\n- **Social Entrepreneurship**: Combines social goals with financial success. \\\\n- **Corporate Entrepreneurship**: Innovation within large companies through intrapreneurship. \\\\n- **Lifestyle Entrepreneurship**: Aligns with the entrepreneur\\'s values, focusing on balanced success. \\\\n- **Technology Entrepreneurship**: Creates tech solutions to meet current consumer needs.\"\\n}\\n```', '```json\\n{\\n    \"input_text\": \"Entrepreneurial competencies and traits are essential for recognizing opportunities, managing risks, and innovating to run successful businesses. Key competencies include: \\\\n- Opportunity Identification: Spotting market trends and gaps.\\\\n- Risk Management: Making informed decisions to minimize risks.\\\\n- Innovation and Creativity: Developing unique solutions.\\\\n- Strategic Planning: Setting clear goals and adapting plans.\\\\n- Networking: Building professional connections for resources and marketing.\\\\n- Decision Making: Weighing choices with limited information.\\\\n- Financial Management: Managing cash flow and budgeting.\\\\n- Leadership and People Management: Motivating teams towards goals.\\\\nKey traits include: \\\\n- Self-Motivation: Driven by personal goals.\\\\n- Resilience: Bouncing back from failures.\\\\n- Entrepreneurial Passion: Energizing and inspiring teams.\\\\n- Flexibility: Adapting to market changes.\\\\n- Integrity: Building trust with stakeholders.\\\\n- Vision: Providing direction and purpose.\\\\n- Risk-Tolerance: Handling uncertainty and taking calculated risks.\",\\n    \"rephrased_text_response\": \"Entrepreneurial skills and qualities are crucial for spotting opportunities, managing risks, and creating innovations to run successful businesses. Important skills include: \\\\n- Opportunity Identification: Recognizing market trends and gaps.\\\\n- Risk Management: Making smart choices to reduce risks.\\\\n- Innovation and Creativity: Creating unique solutions.\\\\n- Strategic Planning: Setting clear goals and adjusting plans.\\\\n- Networking: Building professional relationships for resources and marketing.\\\\n- Decision Making: Evaluating options with limited information.\\\\n- Financial Management: Overseeing cash flow and budgeting.\\\\n- Leadership and People Management: Inspiring teams to achieve goals.\\\\nKey qualities include: \\\\n- Self-Motivation: Driven by personal ambitions.\\\\n- Resilience: Recovering from setbacks.\\\\n- Entrepreneurial Passion: Motivating and energizing teams.\\\\n- Flexibility: Adjusting to market changes.\\\\n- Integrity: Establishing trust with stakeholders.\\\\n- Vision: Offering direction and purpose.\\\\n- Risk-Tolerance: Dealing with uncertainty and taking calculated risks.\"\\n}\\n```', '```json\\n{\\n    \"input_text\": \"Major competencies for superior entrepreneurial performance include: \\\\n\\\\n- **Opportunity Recognition**: Discovering business opportunities and unmet market needs, aligning with market trends.\\\\n- **Strategic Planning and Decision Making**: Setting actionable goals, identifying risks/resources, ensuring sustainable growth.\\\\n- **Networking Skills**: Building relations with mentors, investors, suppliers, and customers for resources and partnerships.\\\\n- **Financial Management**: Understanding budgeting, cash flow, and profit margins for smart resource allocation.\\\\n- **Problem-solving and Adaptability**: Facing challenges creatively, managing crises, and adjusting strategies.\\\\n- **Leadership**: Inspiring teams, creating a positive environment, and aligning team goals with business vision.\\\\n\\\\nThese competencies ensure innovation, sustainability, and growth, benefiting entrepreneurs and economic growth.\",\\n    \"rephrased_text_response\": \"Key skills for strong entrepreneurial success include: \\\\n\\\\n- **Opportunity Recognition**: Identifying business chances and market gaps that match trends.\\\\n- **Strategic Planning and Decision Making**: Setting clear goals, recognizing risks/resources, and promoting steady growth.\\\\n- **Networking Skills**: Establishing connections with mentors, investors, suppliers, and customers for support and collaboration.\\\\n- **Financial Management**: Grasping budgeting, cash flow, and profit margins for effective resource use.\\\\n- **Problem-solving and Adaptability**: Tackling challenges in innovative ways, handling crises, and modifying plans as needed.\\\\n- **Leadership**: Motivating teams, fostering a positive atmosphere, and aligning team objectives with the business vision.\\\\n\\\\nThese skills promote innovation, sustainability, and growth, benefiting both entrepreneurs and the economy.\"\\n}\\n```', '```json\\n{\\n    \"input_text\": \"Successful entrepreneurs exhibit key traits: \\\\n- **Passion**: Deep focus and dedication to their business idea, persisting through challenges. \\\\n- **Resilience**: Ability to recover from setbacks, learning from failures without losing direction. \\\\n- **Adaptability**: Flexibility to adjust strategies with changing market conditions. \\\\n- **Vision**: Clear, compelling long-term goals that inspire decision-making. \\\\n- **Risk Taking**: Comfort with calculated risks for potential rewards. \\\\n- **Self-Motivation**: Strong internal drive to set and achieve ambitious goals. \\\\n- **Problem-Solving**: Critical thinking and creativity to tackle issues innovatively. \\\\n- **Confidence**: Belief in their ideas and skills, fostering trust from others. \\\\n- **Customer Focus**: Understanding customer needs to create desirable products/services. \\\\n- **Strategic Working Ethic**: Commitment and discipline to work hard towards objectives. \\\\n- **Financial Acumen**: Proficiency in budgeting and financial management for business health. \\\\n- **Networking Ability**: Building connections for resources, support, and collaboration. \\\\nThese traits collectively enable innovation, effective leadership, and sustainable business success.\",\\n    \"rephrased_text_response\": \"Successful entrepreneurs have important qualities: \\\\n- **Passion**: Strong commitment to their business idea, pushing through difficulties. \\\\n- **Resilience**: Ability to bounce back from failures and learn without losing focus. \\\\n- **Adaptability**: Willingness to change plans based on market trends. \\\\n- **Vision**: Clear long-term goals that guide their choices. \\\\n- **Risk Taking**: Willingness to take smart risks for possible gains. \\\\n- **Self-Motivation**: Inner drive to set and reach high goals. \\\\n- **Problem-Solving**: Creative thinking to find new solutions to challenges. \\\\n- **Confidence**: Trust in their ideas and abilities, which earns others\\' trust. \\\\n- **Customer Focus**: Awareness of what customers want to create appealing products/services. \\\\n- **Strategic Working Ethic**: Dedication and discipline to work hard for their goals. \\\\n- **Financial Acumen**: Skill in managing budgets and finances for business success. \\\\n- **Networking Ability**: Building relationships for support and resources. \\\\nThese qualities together foster innovation, strong leadership, and lasting business success.\"\\n}\\n```', '```json\\n{\\n    \"input_text\": \"Factors Affecting Entrepreneurial Development:\\\\n\\\\n- **Economic Environment**:\\\\n  - Market Condition: Influenced by demand, supply, competition, and economic growth.\\\\n  - Access to Finance: Availability of funds from banks, venture capital, and investors.\\\\n  - Inflation and Interest Rates: High inflation increases costs; low interest rates encourage borrowing.\\\\n\\\\n- **Political and Legal Environment**:\\\\n  - Government Policies: Tax incentives and grants support entrepreneurship.\\\\n  - Regulatory Laws: Licensing, labor, and environmental regulations impact business operations.\\\\n  - Political Stability: Peaceful environments boost business confidence.\\\\n\\\\n- **Socio-cultural Factors**:\\\\n  - Culture and Attitudes: Societal views on entrepreneurship encourage risk-taking.\\\\n  - Education and Skills: Quality training enhances entrepreneurial potential.\\\\n  - Networking and Support Systems: Access to mentorship and communities aids learning.\\\\n\\\\n- **Technological Factors**:\\\\n  - Innovation: Technological advancements create new business opportunities.\\\\n  - Digital Infrastructure: Internet and digital tools enhance marketing and communication.\\\\n  - Research and Development: Drives new ideas and product creation.\\\\n\\\\n- **Individual Characteristics**:\\\\n  - Personality Traits: Risk tolerance, self-confidence, and creativity are crucial.\\\\n  - Experience and Knowledge: Industry knowledge and experience aid decision-making.\\\\n  - Motivation and Goals: Driven by personal and societal objectives.\",\\n    \"rephrased_text_response\": \"Factors Influencing Entrepreneurial Growth:\\\\n\\\\n- **Economic Environment**:\\\\n  - Market Conditions: Affected by demand, supply, competition, and economic progress.\\\\n  - Access to Funding: Availability of money from banks, investors, and venture capital.\\\\n  - Inflation and Interest Rates: High inflation raises costs; lower interest rates promote borrowing.\\\\n\\\\n- **Political and Legal Environment**:\\\\n  - Government Support: Tax breaks and grants help new businesses.\\\\n  - Regulations: Licensing, labor, and environmental laws affect how businesses operate.\\\\n  - Political Stability: A peaceful setting increases business confidence.\\\\n\\\\n- **Socio-cultural Factors**:\\\\n  - Culture and Mindset: Society\\'s views on entrepreneurship encourage taking risks.\\\\n  - Education and Skills: Good training improves entrepreneurial abilities.\\\\n  - Networking and Support: Access to mentors and community support enhances learning.\\\\n\\\\n- **Technological Factors**:\\\\n  - Innovation: New technologies open up business opportunities.\\\\n  - Digital Tools: The internet and digital resources improve marketing and communication.\\\\n  - Research and Development: Leads to new ideas and products.\\\\n\\\\n- **Personal Traits**:\\\\n  - Personality: Traits like risk-taking, confidence, and creativity are important.\\\\n  - Experience and Knowledge: Understanding the industry helps in making decisions.\\\\n  - Motivation and Goals: Driven by personal ambitions and societal needs.\"\\n}\\n```', '```json\\n{\\n    \"input_text\": \"Motivation is the impulse driving goal-directed behavior, crucial for entrepreneurs in risk-taking and vision pursuit. \\\\n\\\\nTypes of Motivation:\\\\n- Intrinsic: Driven by internal rewards like personal satisfaction and accomplishment.\\\\n- Extrinsic: Driven by external rewards such as money and recognition.\\\\n\\\\nMotivating Factors for Entrepreneurs:\\\\n- Personal Fulfillment: Turning passion into business and contributing meaningfully.\\\\n- Financial Security: Seeking wealth and financial stability for self and family.\\\\n- Freedom and Independence: Desire for autonomy and self-empowerment.\\\\n- Impact and Contribution: Addressing societal needs and challenges.\\\\n- Challenge and Growth: Overcoming challenges and continuous learning.\\\\n- Recognition and Achievement: Desire for recognition and accomplishment.\\\\n- Networking and Community: Building connections for support and resources.\",\\n    \"rephrased_text_response\": \"Motivation is what drives people to achieve their goals, which is especially important for entrepreneurs who take risks and pursue their visions. \\\\n\\\\nTypes of Motivation:\\\\n- Intrinsic: Motivated by personal rewards like satisfaction and achievement.\\\\n- Extrinsic: Motivated by outside rewards such as money and praise.\\\\n\\\\nMotivating Factors for Entrepreneurs:\\\\n- Personal Fulfillment: Transforming passion into a business and making a meaningful contribution.\\\\n- Financial Security: Aiming for wealth and stability for themselves and their families.\\\\n- Freedom and Independence: Wanting autonomy and self-control.\\\\n- Impact and Contribution: Meeting societal needs and challenges.\\\\n- Challenge and Growth: Facing obstacles and learning continuously.\\\\n- Recognition and Achievement: Wanting acknowledgment and success.\\\\n- Networking and Community: Creating connections for support and resources.\"\\n}\\n```', '```json\\n{\\n    \"input_text\": \"McClelland\\'s Achievement Motivation Theory identifies three primary needs driving human motivation: achievement, affiliation, and power. \\\\n\\\\n- **Need for Achievement (nAch):** Involves setting challenging yet attainable goals, risk calculation, and seeking feedback for progress and success. \\\\n- **Need for Affiliation (nAff):** Focuses on forming friendships and teamwork, preferring cooperative and harmonious work environments. \\\\n- **Need for Power (nPow):** Desires to influence and lead, with a focus on decision-making and control, either for personal or organizational benefit.\\\\n\\\\nApplications include self-assessment for career alignment, employee motivation through tailored tasks and environments, and fostering entrepreneurial development by aligning with intrinsic motivation for challenging goals.\",\\n    \"rephrased_text_response\": \"McClelland\\'s Achievement Motivation Theory highlights three main needs that motivate people: achievement, affiliation, and power. \\\\n\\\\n- **Need for Achievement (nAch):** This involves setting tough but reachable goals, assessing risks, and looking for feedback to measure progress and success. \\\\n- **Need for Affiliation (nAff):** This centers on building friendships and teamwork, favoring friendly and cooperative work settings. \\\\n- **Need for Power (nPow):** This is the wish to influence and lead, focusing on making decisions and having control, whether for personal gain or for the organization.\\\\n\\\\nUses of this theory include self-evaluation for career choices, motivating employees with suitable tasks and settings, and encouraging entrepreneurship by connecting with personal motivation for ambitious goals.\"\\n}\\n```', '{\\n    \"input_text\": \"- **Entrepreneurial Personality**: Focuses on individual traits like resilience, motivation, creativity, and risk-taking, essential for overcoming challenges and innovating. \\\\n- **Entrepreneurial Task**: Involves identifying and executing opportunities, market needs, innovation, strategy planning, flexibility, and problem-solving. \\\\n- **External Environment**: Success is influenced by economic, social, political, and technological factors. A supportive environment with policies and resources fosters growth. \\\\n- **Organizational Context**: Emphasizes the role of supportive structures, collaboration, defined roles, and innovation in established organizations for entrepreneurial and intrapreneurial development. \\\\n- These elements collectively form a framework impacting entrepreneurial success or failure.\",\\n    \"rephrased_text_response\": \"- **Entrepreneurial Personality**: Highlights traits like resilience, motivation, creativity, and willingness to take risks, which are crucial for facing challenges and driving innovation. \\\\n- **Entrepreneurial Task**: Involves spotting and acting on opportunities, understanding market needs, innovating, planning strategies, being adaptable, and solving problems. \\\\n- **External Environment**: Success depends on economic, social, political, and technological factors. A supportive setting with good policies and resources helps growth. \\\\n- **Organizational Context**: Stresses the importance of supportive systems, teamwork, clear roles, and innovation in established organizations for fostering entrepreneurship and intrapreneurship. \\\\n- Together, these factors create a framework that affects whether entrepreneurship succeeds or fails.\"\\n}', '```json\\n{\\n    \"input_text\": \"An intrapreneur is an employee within a large company who acts like an entrepreneur, driving new business ideas and innovation. Key characteristics include: \\\\n- **Liberty to Innovate**: Freedom to develop ideas, often isolated from regular workflows. \\\\n- **Risk Mitigation**: Operates with company support, sharing risks and reducing personal financial exposure. \\\\n- **Corporate Support**: Backed by management with access to resources like funding and infrastructure. \\\\n- **Focus on Growth**: Encourages innovation to keep the company competitive and improve processes.\",\\n    \"rephrased_text_response\": \"An intrapreneur is a worker in a big company who behaves like an entrepreneur, promoting new ideas and innovations. Important traits include: \\\\n- **Freedom to Innovate**: Ability to create ideas, usually away from normal tasks. \\\\n- **Shared Risk**: Works with company backing, minimizing personal financial risk. \\\\n- **Support from the Company**: Receives help from management and has access to resources like money and facilities. \\\\n- **Emphasis on Growth**: Promotes new ideas to maintain the company\\'s competitiveness and enhance operations.\"\\n}\\n```', '```json\\n{\\n    \"input_text\": \"Critical elements in an intrapreneurial environment include: \\\\n- **Innovative Ideas**: Encouraging new ideas and staying updated with technology fosters innovative thinking. \\\\n- **Promote Experimentation**: Supports learning from failures and refining ideas into successful outcomes. \\\\n- **Availability of Resources**: Essential financial and human resources must be readily available for innovation. \\\\n- **Foster Collaboration**: Encourages diverse views and skills, enhancing creativity and effectiveness. \\\\n- **Reward System**: Motivates intrapreneurs through recognition and incentives, driving further innovation. \\\\n- **Top Management Support**: Provides authority and resources, crucial for executing intrapreneurial ideas successfully.\",\\n    \"rephrased_text_response\": \"Key factors in an intrapreneurial setting are: \\\\n- **New Ideas**: Encouraging fresh concepts and keeping up with technology boosts creativity. \\\\n- **Encourage Experimentation**: Helps learn from mistakes and improve ideas for better results. \\\\n- **Resource Availability**: Necessary financial and human resources should be accessible for innovation. \\\\n- **Encourage Teamwork**: Promotes different perspectives and skills, improving creativity and efficiency. \\\\n- **Incentive System**: Rewards intrapreneurs with recognition and benefits, encouraging more innovation. \\\\n- **Support from Management**: Offers the power and resources needed to successfully implement intrapreneurial ideas.\"\\n}\\n```', '```json\\n{\\n    \"input_text\": \"Entrepreneurs can be classified based on various criteria: \\\\n\\\\n- **Economic Development**: \\\\n  - *Innovating Entrepreneurs*: Innovators creating new products/services.\\\\n  - *Adoptive Entrepreneurs*: Adapt others\\' innovations for their markets.\\\\n  - *Fabian Entrepreneurs*: Risk-averse, prefer traditional methods.\\\\n  - *Drone Entrepreneurs*: Resist change, miss new opportunities.\\\\n\\\\n- **Type of Business**: \\\\n  - *Business Entrepreneurs*: Introduce new products/services.\\\\n  - *Trading Entrepreneurs*: Focus on buying and selling.\\\\n  - *Industrial Entrepreneurs*: Create products/services based on customer needs.\\\\n  - *Corporate Entrepreneurs*: Innovate within corporate settings.\\\\n  - *Agricultural Entrepreneurs*: Use technology to enhance agriculture.\\\\n\\\\n- **Technology Utilization**: \\\\n  - *Technical Entrepreneurs*: Focus on commercializing inventions.\\\\n  - *Non-technical Entrepreneurs*: Develop marketing plans without tech focus.\\\\n  - *Professional Entrepreneurs*: Form businesses but don\\'t manage them.\\\\n\\\\n- **Motivation**: \\\\n  - *Pure Entrepreneurs*: Driven by psychological, economic, and ethical factors.\\\\n  - *Induced Entrepreneurs*: Motivated by government policies.\\\\n  - *Motivated Entrepreneurs*: Inspired by new production/sale opportunities.\",\\n    \"rephrased_text_response\": \"Entrepreneurs can be categorized in several ways: \\\\n\\\\n- **Economic Development**: \\\\n  - *Innovating Entrepreneurs*: Create new products or services.\\\\n  - *Adoptive Entrepreneurs*: Modify existing innovations for their own markets.\\\\n  - *Fabian Entrepreneurs*: Avoid risks and stick to traditional methods.\\\\n  - *Drone Entrepreneurs*: Resist change and overlook new chances.\\\\n\\\\n- **Type of Business**: \\\\n  - *Business Entrepreneurs*: Launch new products or services.\\\\n  - *Trading Entrepreneurs*: Concentrate on buying and selling.\\\\n  - *Industrial Entrepreneurs*: Develop products or services based on customer demands.\\\\n  - *Corporate Entrepreneurs*: Innovate within companies.\\\\n  - *Agricultural Entrepreneurs*: Use technology to improve farming.\\\\n\\\\n- **Technology Utilization**: \\\\n  - *Technical Entrepreneurs*: Focus on making inventions marketable.\\\\n  - *Non-technical Entrepreneurs*: Create marketing strategies without a tech focus.\\\\n  - *Professional Entrepreneurs*: Start businesses but do not run them.\\\\n\\\\n- **Motivation**: \\\\n  - *Pure Entrepreneurs*: Motivated by psychological, economic, and ethical reasons.\\\\n  - *Induced Entrepreneurs*: Influenced by government initiatives.\\\\n  - *Motivated Entrepreneurs*: Driven by new opportunities in production or sales.\"\\n}\\n```', '```json\\n{\\n    \"input_text\": \"Entrepreneurial Development Programs (EDPs) are structured initiatives aimed at training individuals to start and run successful businesses. They are crucial for those lacking formal business experience, covering business planning, financial management, marketing strategies, and risk management. Objectives include: \\\\n- Skill Building: Impart practical skills like problem-solving, leadership, and communication.\\\\n- Entrepreneurial Mindset: Foster proactive, innovative thinking and confidence.\\\\n- Talent Identification: Identify and nurture entrepreneurial talent for feasible business models.\\\\n- Encourage Innovation: Promote creative thinking for competitive market solutions.\\\\n- Promote Economic Growth: Create jobs and stimulate regional economic development.\\\\n- Reduce Unemployment: Offer alternative career paths to alleviate unemployment.\\\\n- Support Financial Independence: Encourage financial planning for self-reliance in ventures.\",\\n    \"rephrased_text_response\": \"Entrepreneurial Development Programs (EDPs) are organized efforts to help people learn how to start and manage successful businesses. They are especially important for those without formal business training, covering areas like business planning, financial management, marketing, and risk management. The goals include: \\\\n- Skill Building: Teach practical skills such as problem-solving, leadership, and communication.\\\\n- Entrepreneurial Mindset: Encourage proactive and creative thinking along with self-confidence.\\\\n- Talent Identification: Find and develop entrepreneurial talent for viable business ideas.\\\\n- Encourage Innovation: Inspire creative solutions for a competitive market.\\\\n- Promote Economic Growth: Generate jobs and boost local economies.\\\\n- Reduce Unemployment: Provide alternative career options to help reduce joblessness.\\\\n- Support Financial Independence: Promote financial planning for self-sufficiency in business.\"\\n}\\n```', '```json\\n{\\n    \"input_text\": \"Stages of Entrepreneurial Development Programs (EDPs) are crucial for creating successful entrepreneurs and are divided into three phases:\\\\n\\\\n- **Pre-Training Stage**: \\\\n  - Focuses on screening and profiling potential entrepreneurs.\\\\n  - Involves selection of participants interested in business ventures.\\\\n  - Conducts resource and market analysis to determine business viability.\\\\n  - Organizes seminars and workshops for initial motivation.\\\\n\\\\n- **Training Stage**: \\\\n  - Core stage providing essential skills and information.\\\\n  - Covers business management skills, financial education, and legal knowledge.\\\\n  - Includes psychological and behavioral coaching to develop resilience and innovation.\\\\n\\\\n- **Post-Training Stage**: \\\\n  - Offers continuous support to entrepreneurs.\\\\n  - Provides mentorship and networking opportunities.\\\\n  - Assists in accessing funding from various sources.\\\\n  - Involves monitoring and follow-up to ensure progress and address challenges.\",\\n    \"rephrased_text_response\": \"The stages of Entrepreneurial Development Programs (EDPs) are important for building successful entrepreneurs and consist of three phases:\\\\n\\\\n- **Pre-Training Stage**: \\\\n  - Aims to identify and assess potential entrepreneurs.\\\\n  - Selects participants interested in starting businesses.\\\\n  - Analyzes resources and market conditions to check business potential.\\\\n  - Holds seminars and workshops to inspire initial interest.\\\\n\\\\n- **Training Stage**: \\\\n  - The main phase that teaches key skills and knowledge.\\\\n  - Includes business management, financial literacy, and legal basics.\\\\n  - Provides coaching to enhance resilience and creativity.\\\\n\\\\n- **Post-Training Stage**: \\\\n  - Continues to support entrepreneurs after training.\\\\n  - Offers mentorship and networking chances.\\\\n  - Helps in finding funding from different sources.\\\\n  - Involves follow-up to track progress and tackle challenges.\"\\n}\\n```', '```json\\n{\\n    \"input_text\": \"- **National Small Industries Corporation (NSIC):** Promotes small industries in India through credit support via bank tie-ups, skill training in technical and business management, and marketing through government procurement schemes.\\\\n- **Small Industries Development Bank of India (SIDBI):** Supports MSMEs with financial products like loans and venture capital, advisory services for resource optimization, and startup support through collaborations.\\\\n- **National Institute for Entrepreneurship and Small Business Development (NIESBUD):** Offers entrepreneurship training, consultancy services, and conducts R&D on entrepreneurship trends and challenges.\\\\n- **Micro Units Development and Refinance Agency (MUDRA):** Provides credit support under PMMY with schemes like Shishu (up to ₹50,000), Kishor (up to ₹5 lakhs), and Tarun (up to ₹10 lakhs) loans for small units.\",\\n    \"rephrased_text_response\": \"- **National Small Industries Corporation (NSIC):** Supports small businesses in India by providing credit through banks, offering skill training in technical and business areas, and facilitating marketing through government purchasing programs.\\\\n- **Small Industries Development Bank of India (SIDBI):** Assists MSMEs with financial options such as loans and venture capital, offers advice for better resource use, and helps startups through partnerships.\\\\n- **National Institute for Entrepreneurship and Small Business Development (NIESBUD):** Provides training for entrepreneurs, consultancy services, and researches trends and challenges in entrepreneurship.\\\\n- **Micro Units Development and Refinance Agency (MUDRA):** Offers credit support under PMMY with loan schemes like Shishu (up to ₹50,000), Kishor (up to ₹5 lakhs), and Tarun (up to ₹10 lakhs) for small businesses.\"\\n}\\n```', '```json\\n{\\n    \"input_text\": \"- **PMEGP (Prime Minister\\'s Employment Generation Programme):** Provides finance and subsidies to micro-enterprises, targeting resource-poor individuals in rural and urban areas to promote sustainable business and local employment.\\\\n- **Startup India Initiative:** Aims to foster innovation and expand the startup ecosystem with funding support, incubation, mentorship, and eased compliance for startups.\\\\n- **Stand-Up India Scheme:** Offers financial assistance to women entrepreneurs and SC/ST communities to start new ventures, promoting inclusive growth and entrepreneurship among underprivileged groups.\\\\n- **Skill India Mission:** Focuses on enhancing employability through vocational training, aligning with industry needs to enable youth to become entrepreneurs or integrate into existing industries.\",\\n    \"rephrased_text_response\": \"- **PMEGP (Prime Minister\\'s Employment Generation Programme):** Provides funding and support to small businesses, helping low-income individuals in both rural and urban areas to create sustainable jobs.\\\\n- **Startup India Initiative:** Encourages innovation and growth in the startup sector by offering financial help, mentoring, and simplified regulations for new businesses.\\\\n- **Stand-Up India Scheme:** Gives financial support to women and SC/ST communities to start new businesses, fostering inclusive growth and entrepreneurship among disadvantaged groups.\\\\n- **Skill India Mission:** Aims to improve job readiness through vocational training, matching skills with industry demands so that young people can start their own businesses or join existing ones.\"\\n}\\n```', '```json\\n{\\n    \"input_text\": \"Problems faced by EDPs include: \\\\n\\\\n- **Limited Awareness**: Rural individuals often lack awareness of EDPs, missing out on supportive services for business enhancement.\\\\n- **Inadequate Funding**: Budget constraints limit training quality, reach, and access to digital tools, affecting program effectiveness.\\\\n- **Lack of Skills**: Skills provided may not align with industry demands, lacking emerging trends and technologies.\\\\n- **Poor After-Training Support**: Insufficient post-training support leads to challenges in sustaining businesses due to lack of mentoring and advisory services.\\\\n- **Regulatory Challenges**: New entrepreneurs face compliance, licensing, and tax issues, especially those from rural backgrounds.\\\\n- **Negligence of Customized Training**: Standardized training fails to meet specific needs, such as those of women balancing work and family or rural entrepreneurs needing local market information.\",\\n    \"rephrased_text_response\": \"EDPs face several issues: \\\\n\\\\n- **Limited Awareness**: Many people in rural areas do not know about EDPs, missing out on help for their businesses.\\\\n- **Inadequate Funding**: Budget limits reduce the quality of training and access to digital tools, making programs less effective.\\\\n- **Lack of Skills**: The skills taught may not match what industries need, missing out on new trends and technologies.\\\\n- **Poor After-Training Support**: A lack of support after training makes it hard for businesses to thrive due to missing mentorship and advice.\\\\n- **Regulatory Challenges**: New business owners, especially from rural areas, struggle with compliance, licensing, and tax issues.\\\\n- **Negligence of Customized Training**: Generic training does not address specific needs, like those of women managing work and family or rural entrepreneurs needing local market insights.\"\\n}\\n```']\n"
     ]
    }
   ],
   "source": [
    "print(rephrasedList)"
   ]
  },
  {
   "cell_type": "code",
   "execution_count": 155,
   "id": "5168a3e9-7641-4f7e-a582-1d011f6bdfee",
   "metadata": {
    "collapsed": true,
    "jupyter": {
     "outputs_hidden": true
    }
   },
   "outputs": [
    {
     "name": "stdout",
     "output_type": "stream",
     "text": [
      "1\n",
      "```json\n",
      "{\n",
      "\n",
      "es.\"\n",
      "}\n",
      "```\n",
      "END \n",
      "\n",
      "2\n",
      "{\n",
      "    \"inp\n",
      "emands.\"\n",
      "}\n",
      "END \n",
      "\n",
      "3\n",
      "```json\n",
      "{\n",
      "\n",
      "ds.\"\n",
      "}\n",
      "```\n",
      "END \n",
      "\n",
      "4\n",
      "```json\n",
      "{\n",
      "\n",
      "ks.\"\n",
      "}\n",
      "```\n",
      "END \n",
      "\n",
      "5\n",
      "```json\n",
      "{\n",
      "\n",
      "my.\"\n",
      "}\n",
      "```\n",
      "END \n",
      "\n",
      "6\n",
      "```json\n",
      "{\n",
      "\n",
      "ss.\"\n",
      "}\n",
      "```\n",
      "END \n",
      "\n",
      "7\n",
      "```json\n",
      "{\n",
      "\n",
      "ds.\"\n",
      "}\n",
      "```\n",
      "END \n",
      "\n",
      "8\n",
      "```json\n",
      "{\n",
      "\n",
      "es.\"\n",
      "}\n",
      "```\n",
      "END \n",
      "\n",
      "9\n",
      "```json\n",
      "{\n",
      "\n",
      "ls.\"\n",
      "}\n",
      "```\n",
      "END \n",
      "\n",
      "10\n",
      "{\n",
      "    \"inp\n",
      " fails.\"\n",
      "}\n",
      "END \n",
      "\n",
      "11\n",
      "```json\n",
      "{\n",
      "\n",
      "ns.\"\n",
      "}\n",
      "```\n",
      "END \n",
      "\n",
      "12\n",
      "```json\n",
      "{\n",
      "\n",
      "as.\"\n",
      "}\n",
      "```\n",
      "END \n",
      "\n",
      "13\n",
      "```json\n",
      "{\n",
      "\n",
      "es.\"\n",
      "}\n",
      "```\n",
      "END \n",
      "\n",
      "14\n",
      "```json\n",
      "{\n",
      "\n",
      "ss.\"\n",
      "}\n",
      "```\n",
      "END \n",
      "\n",
      "15\n",
      "```json\n",
      "{\n",
      "\n",
      "es.\"\n",
      "}\n",
      "```\n",
      "END \n",
      "\n",
      "16\n",
      "```json\n",
      "{\n",
      "\n",
      "es.\"\n",
      "}\n",
      "```\n",
      "END \n",
      "\n",
      "17\n",
      "```json\n",
      "{\n",
      "\n",
      "es.\"\n",
      "}\n",
      "```\n",
      "END \n",
      "\n",
      "18\n",
      "```json\n",
      "{\n",
      "\n",
      "ts.\"\n",
      "}\n",
      "```\n",
      "END \n",
      "\n"
     ]
    }
   ],
   "source": [
    "count = 1\n",
    "for i in rephrasedList:\n",
    "    print(count)\n",
    "    count += 1\n",
    "    print(i[:10])\n",
    "    print(i[-10:])\n",
    "    print(\"END \\n\")"
   ]
  },
  {
   "cell_type": "markdown",
   "id": "d7cf50a6-3649-4467-8aad-71fec9d97934",
   "metadata": {},
   "source": [
    "from above it can be seen that there are some outputs which include the substring ```json in the starting \\\n",
    "this could affect the output parsed quality"
   ]
  },
  {
   "cell_type": "code",
   "execution_count": 154,
   "id": "6081cc5c-008f-4e05-ba76-c0c8c6baa781",
   "metadata": {
    "collapsed": true,
    "jupyter": {
     "outputs_hidden": true
    }
   },
   "outputs": [
    {
     "name": "stdout",
     "output_type": "stream",
     "text": [
      "16\n"
     ]
    }
   ],
   "source": [
    "back_count = 0\n",
    "for i in rephrasedList:\n",
    "    if i[0] == '`':\n",
    "        back_count += 1\n",
    "\n",
    "print(back_count)"
   ]
  },
  {
   "cell_type": "code",
   "execution_count": 158,
   "id": "16384398-6993-4907-934a-f93b4cd64a78",
   "metadata": {
    "collapsed": true,
    "jupyter": {
     "outputs_hidden": true
    }
   },
   "outputs": [
    {
     "name": "stdout",
     "output_type": "stream",
     "text": [
      "8\n"
     ]
    }
   ],
   "source": [
    "ind = 0\n",
    "for i in rephrasedList[0]:\n",
    "    if i == '{' :\n",
    "        break\n",
    "    else:\n",
    "        ind+= 1\n",
    "\n",
    "print(ind)"
   ]
  },
  {
   "cell_type": "markdown",
   "id": "1be735e0-0df0-458f-93ec-d1ffd25a51ba",
   "metadata": {},
   "source": [
    "## parsing the rephrased outputs into json format"
   ]
  },
  {
   "cell_type": "markdown",
   "id": "e8a47160-9aef-4eec-b233-681116903b12",
   "metadata": {},
   "source": [
    "### First I will remove the substring ```json from starting and from last if it is present"
   ]
  },
  {
   "cell_type": "code",
   "execution_count": 166,
   "id": "189c0687-9654-407b-acaf-6d3a208d5673",
   "metadata": {
    "collapsed": true,
    "jupyter": {
     "outputs_hidden": true
    }
   },
   "outputs": [],
   "source": [
    "rephrasedList_2 = []\n",
    "for res in rephrasedList:\n",
    "    if res[0] == '`':\n",
    "        rephrasedList_2.append(res[8:-4])\n",
    "    else:\n",
    "        rephrasedList_2.append(res)"
   ]
  },
  {
   "cell_type": "code",
   "execution_count": 168,
   "id": "5b7c25aa-9b20-43ca-b2fb-4bada1bfba3f",
   "metadata": {
    "collapsed": true,
    "jupyter": {
     "outputs_hidden": true
    }
   },
   "outputs": [
    {
     "name": "stdout",
     "output_type": "stream",
     "text": [
      "{\n",
      "    \"inp\n",
      "ources.\"\n",
      "}\n",
      "{\n",
      "    \"inp\n",
      "emands.\"\n",
      "}\n",
      "{\n",
      "    \"inp\n",
      " needs.\"\n",
      "}\n",
      "{\n",
      "    \"inp\n",
      " risks.\"\n",
      "}\n",
      "{\n",
      "    \"inp\n",
      "conomy.\"\n",
      "}\n",
      "{\n",
      "    \"inp\n",
      "uccess.\"\n",
      "}\n",
      "{\n",
      "    \"inp\n",
      " needs.\"\n",
      "}\n",
      "{\n",
      "    \"inp\n",
      "ources.\"\n",
      "}\n",
      "{\n",
      "    \"inp\n",
      " goals.\"\n",
      "}\n",
      "{\n",
      "    \"inp\n",
      " fails.\"\n",
      "}\n",
      "{\n",
      "    \"inp\n",
      "ations.\"\n",
      "}\n",
      "{\n",
      "    \"inp\n",
      " ideas.\"\n",
      "}\n",
      "{\n",
      "    \"inp\n",
      " sales.\"\n",
      "}\n",
      "{\n",
      "    \"inp\n",
      "siness.\"\n",
      "}\n",
      "{\n",
      "    \"inp\n",
      "lenges.\"\n",
      "}\n",
      "{\n",
      "    \"inp\n",
      "nesses.\"\n",
      "}\n",
      "{\n",
      "    \"inp\n",
      "g ones.\"\n",
      "}\n",
      "{\n",
      "    \"inp\n",
      "sights.\"\n",
      "}\n"
     ]
    }
   ],
   "source": [
    "for i in rephrasedList_2:\n",
    "    print(i[:10])\n",
    "    print(i[-10:])"
   ]
  },
  {
   "cell_type": "code",
   "execution_count": 169,
   "id": "ee7d10db-9f25-46c9-b396-6a779163982a",
   "metadata": {
    "collapsed": true,
    "jupyter": {
     "outputs_hidden": true
    }
   },
   "outputs": [
    {
     "name": "stdout",
     "output_type": "stream",
     "text": [
      "18\n"
     ]
    }
   ],
   "source": [
    "print(len(rephrasedList_2))"
   ]
  },
  {
   "cell_type": "code",
   "execution_count": 170,
   "id": "bd2e0f83-186d-45aa-9dee-cf0287f6a9d1",
   "metadata": {
    "collapsed": true,
    "jupyter": {
     "outputs_hidden": true
    }
   },
   "outputs": [
    {
     "name": "stdout",
     "output_type": "stream",
     "text": [
      "{\n",
      "    \"input_text\": \"An entrepreneur is a business founder who identifies opportunities, assumes risks, and efficiently uses resources to generate profit and contribute to economic growth. Key characteristics include: \\n\\n- **Innovation**: Introducing new or improved products/services.\\n- **Risk-taking**: Willingness to accept financial, professional, and personal risks.\\n- **Vision and Goal Orientation**: Clear long-term goals drive decision-making.\\n- **Resilience**: Overcoming hurdles and staying motivated.\\n- **Self-Confidence**: Belief in achieving goals and mobilizing resources.\\n- **Flexibility**: Adapting strategies to changing market conditions.\\n- **Leadership Skills**: Inspiring teams and creating a constructive work environment.\\n- **Persistence**: Continually striving to achieve goals despite obstacles.\\n- **Opportunity Identification**: Seeing prospects where others see problems.\\n- **Financial Acumen**: Understanding budgeting, forecasting, and resource management.\",\n",
      "    \"rephrased_text_response\": \"An entrepreneur is someone who starts a business by spotting chances, taking risks, and using resources wisely to make money and help the economy grow. Important traits include: \\n\\n- **Innovation**: Creating new or better products/services.\\n- **Risk-taking**: Being open to financial, professional, and personal risks.\\n- **Vision and Goal Orientation**: Having clear long-term goals that guide decisions.\\n- **Resilience**: Bouncing back from challenges and staying driven.\\n- **Self-Confidence**: Trusting in one's ability to reach goals and gather resources.\\n- **Flexibility**: Changing plans based on market shifts.\\n- **Leadership Skills**: Motivating teams and fostering a positive work atmosphere.\\n- **Persistence**: Keeping at it to reach goals despite difficulties.\\n- **Opportunity Identification**: Recognizing chances where others see issues.\\n- **Financial Acumen**: Knowing how to budget, forecast, and manage resources.\"\n",
      "}\n"
     ]
    }
   ],
   "source": [
    "print(rephrasedList_2[0])"
   ]
  },
  {
   "cell_type": "markdown",
   "id": "dddb60c6-96d0-4fa3-a7e4-96c316818a9c",
   "metadata": {},
   "source": [
    "### now I will parse this cleaned strings into json format"
   ]
  },
  {
   "cell_type": "code",
   "execution_count": 175,
   "id": "91a89676-44c9-4026-bc67-8d084f3aba77",
   "metadata": {
    "collapsed": true,
    "jupyter": {
     "outputs_hidden": true
    }
   },
   "outputs": [],
   "source": [
    "final_list = []"
   ]
  },
  {
   "cell_type": "code",
   "execution_count": 176,
   "id": "054695fd-d671-4cae-aec0-b22cd71a0b8b",
   "metadata": {
    "collapsed": true,
    "jupyter": {
     "outputs_hidden": true
    }
   },
   "outputs": [
    {
     "name": "stdout",
     "output_type": "stream",
     "text": [
      "0\n"
     ]
    }
   ],
   "source": [
    "count = 0\n",
    "\n",
    "for rephrasedAns in rephrasedList_2:\n",
    "    try:\n",
    "        parsed_rephrased_ans = json.loads(rephrasedAns)\n",
    "        final_list.append(parsed_rephrased_ans)\n",
    "    except json.JSONDecodeError as e:\n",
    "        print(\"Failed to parse JSON\", e)\n",
    "        count += 1\n",
    "\n",
    "print(count)"
   ]
  },
  {
   "cell_type": "code",
   "execution_count": 177,
   "id": "d1591903-9a38-4f3a-96cd-6b75d36cfdcb",
   "metadata": {
    "collapsed": true,
    "jupyter": {
     "outputs_hidden": true
    }
   },
   "outputs": [
    {
     "name": "stdout",
     "output_type": "stream",
     "text": [
      "[{'input_text': 'An entrepreneur is a business founder who identifies opportunities, assumes risks, and efficiently uses resources to generate profit and contribute to economic growth. Key characteristics include: \\n\\n- **Innovation**: Introducing new or improved products/services.\\n- **Risk-taking**: Willingness to accept financial, professional, and personal risks.\\n- **Vision and Goal Orientation**: Clear long-term goals drive decision-making.\\n- **Resilience**: Overcoming hurdles and staying motivated.\\n- **Self-Confidence**: Belief in achieving goals and mobilizing resources.\\n- **Flexibility**: Adapting strategies to changing market conditions.\\n- **Leadership Skills**: Inspiring teams and creating a constructive work environment.\\n- **Persistence**: Continually striving to achieve goals despite obstacles.\\n- **Opportunity Identification**: Seeing prospects where others see problems.\\n- **Financial Acumen**: Understanding budgeting, forecasting, and resource management.', 'rephrased_text_response': \"An entrepreneur is someone who starts a business by spotting chances, taking risks, and using resources wisely to make money and help the economy grow. Important traits include: \\n\\n- **Innovation**: Creating new or better products/services.\\n- **Risk-taking**: Being open to financial, professional, and personal risks.\\n- **Vision and Goal Orientation**: Having clear long-term goals that guide decisions.\\n- **Resilience**: Bouncing back from challenges and staying driven.\\n- **Self-Confidence**: Trusting in one's ability to reach goals and gather resources.\\n- **Flexibility**: Changing plans based on market shifts.\\n- **Leadership Skills**: Motivating teams and fostering a positive work atmosphere.\\n- **Persistence**: Keeping at it to reach goals despite difficulties.\\n- **Opportunity Identification**: Recognizing chances where others see issues.\\n- **Financial Acumen**: Knowing how to budget, forecast, and manage resources.\"}, {'input_text': '- Entrepreneurship involves identifying and creating opportunities through innovation, often by establishing new businesses or ventures.\\n- It incorporates capital, labor, and knowledge to develop products or services that meet market demands.\\n- Driven by calculated risk-taking and responding to change for business or social outcomes.\\n- Key aspects include:\\n  - Innovation: Developing new ideas, products, or services to solve problems or meet unmet needs.\\n  - Risk-taking: Willingness to face monetary and personal risks in developing and managing new ventures.\\n  - Value creation: Delivering economic or social value by satisfying market needs.', 'rephrased_text_response': '- Entrepreneurship is about spotting and creating opportunities through new ideas, often by starting new businesses.\\n- It involves using money, people, and knowledge to create products or services that fulfill market needs.\\n- It relies on taking calculated risks and adapting to changes for business or social benefits.\\n- Important elements include:\\n  - Innovation: Coming up with new ideas, products, or services to address problems or gaps.\\n  - Risk-taking: Being ready to face financial and personal risks in starting and running new businesses.\\n  - Value creation: Providing economic or social benefits by meeting market demands.'}, {'input_text': \"Entrepreneurship is crucial for: \\n- **Employment Generation**: New ventures create jobs, reducing unemployment. \\n- **Economic Development**: Enhances production, productivity, and wealth, improving public utilities. \\n- **Innovation and Competition**: Drives new products/services, fostering technological advancement. \\n- **Social Change**: Addresses social issues like poverty and healthcare, aiding societal development. \\n- **Diversity and Variety**: Offers unique products/services, catering to diverse consumer tastes. \\n- **Economic Resilience**: Strengthens economies, adaptable to market changes. \\n\\nScope of Entrepreneurship includes: \\n- **Small Business**: Local shops and services vital for community development. \\n- **Scalable Startups**: Rapid growth with venture capital, targeting expanding markets. \\n- **Social Entrepreneurship**: Balances social value with financial sustainability. \\n- **Corporate Entrepreneurship**: Intrapreneurship within large organizations for innovation. \\n- **Lifestyle Entrepreneurship**: Reflects entrepreneur's values, focusing on balanced growth. \\n- **Technology Entrepreneurship**: Develops tech solutions for modern consumer needs.\", 'rephrased_text_response': \"Entrepreneurship is important for: \\n- **Job Creation**: New businesses generate jobs, helping to lower unemployment. \\n- **Economic Growth**: Boosts production and wealth, leading to better public services. \\n- **Innovation and Competition**: Encourages new products and services, promoting technology progress. \\n- **Social Improvement**: Tackles issues like poverty and healthcare, supporting community growth. \\n- **Variety and Choice**: Provides unique products and services that meet different consumer preferences. \\n- **Economic Strength**: Makes economies more robust and flexible to market changes. \\n\\nThe areas of Entrepreneurship include: \\n- **Small Businesses**: Local stores and services that are essential for community growth. \\n- **Scalable Startups**: Fast-growing companies that attract investment and target larger markets. \\n- **Social Entrepreneurship**: Combines social goals with financial success. \\n- **Corporate Entrepreneurship**: Innovation within large companies through intrapreneurship. \\n- **Lifestyle Entrepreneurship**: Aligns with the entrepreneur's values, focusing on balanced success. \\n- **Technology Entrepreneurship**: Creates tech solutions to meet current consumer needs.\"}, {'input_text': 'Entrepreneurial competencies and traits are essential for recognizing opportunities, managing risks, and innovating to run successful businesses. Key competencies include: \\n- Opportunity Identification: Spotting market trends and gaps.\\n- Risk Management: Making informed decisions to minimize risks.\\n- Innovation and Creativity: Developing unique solutions.\\n- Strategic Planning: Setting clear goals and adapting plans.\\n- Networking: Building professional connections for resources and marketing.\\n- Decision Making: Weighing choices with limited information.\\n- Financial Management: Managing cash flow and budgeting.\\n- Leadership and People Management: Motivating teams towards goals.\\nKey traits include: \\n- Self-Motivation: Driven by personal goals.\\n- Resilience: Bouncing back from failures.\\n- Entrepreneurial Passion: Energizing and inspiring teams.\\n- Flexibility: Adapting to market changes.\\n- Integrity: Building trust with stakeholders.\\n- Vision: Providing direction and purpose.\\n- Risk-Tolerance: Handling uncertainty and taking calculated risks.', 'rephrased_text_response': 'Entrepreneurial skills and qualities are crucial for spotting opportunities, managing risks, and creating innovations to run successful businesses. Important skills include: \\n- Opportunity Identification: Recognizing market trends and gaps.\\n- Risk Management: Making smart choices to reduce risks.\\n- Innovation and Creativity: Creating unique solutions.\\n- Strategic Planning: Setting clear goals and adjusting plans.\\n- Networking: Building professional relationships for resources and marketing.\\n- Decision Making: Evaluating options with limited information.\\n- Financial Management: Overseeing cash flow and budgeting.\\n- Leadership and People Management: Inspiring teams to achieve goals.\\nKey qualities include: \\n- Self-Motivation: Driven by personal ambitions.\\n- Resilience: Recovering from setbacks.\\n- Entrepreneurial Passion: Motivating and energizing teams.\\n- Flexibility: Adjusting to market changes.\\n- Integrity: Establishing trust with stakeholders.\\n- Vision: Offering direction and purpose.\\n- Risk-Tolerance: Dealing with uncertainty and taking calculated risks.'}, {'input_text': 'Major competencies for superior entrepreneurial performance include: \\n\\n- **Opportunity Recognition**: Discovering business opportunities and unmet market needs, aligning with market trends.\\n- **Strategic Planning and Decision Making**: Setting actionable goals, identifying risks/resources, ensuring sustainable growth.\\n- **Networking Skills**: Building relations with mentors, investors, suppliers, and customers for resources and partnerships.\\n- **Financial Management**: Understanding budgeting, cash flow, and profit margins for smart resource allocation.\\n- **Problem-solving and Adaptability**: Facing challenges creatively, managing crises, and adjusting strategies.\\n- **Leadership**: Inspiring teams, creating a positive environment, and aligning team goals with business vision.\\n\\nThese competencies ensure innovation, sustainability, and growth, benefiting entrepreneurs and economic growth.', 'rephrased_text_response': 'Key skills for strong entrepreneurial success include: \\n\\n- **Opportunity Recognition**: Identifying business chances and market gaps that match trends.\\n- **Strategic Planning and Decision Making**: Setting clear goals, recognizing risks/resources, and promoting steady growth.\\n- **Networking Skills**: Establishing connections with mentors, investors, suppliers, and customers for support and collaboration.\\n- **Financial Management**: Grasping budgeting, cash flow, and profit margins for effective resource use.\\n- **Problem-solving and Adaptability**: Tackling challenges in innovative ways, handling crises, and modifying plans as needed.\\n- **Leadership**: Motivating teams, fostering a positive atmosphere, and aligning team objectives with the business vision.\\n\\nThese skills promote innovation, sustainability, and growth, benefiting both entrepreneurs and the economy.'}, {'input_text': 'Successful entrepreneurs exhibit key traits: \\n- **Passion**: Deep focus and dedication to their business idea, persisting through challenges. \\n- **Resilience**: Ability to recover from setbacks, learning from failures without losing direction. \\n- **Adaptability**: Flexibility to adjust strategies with changing market conditions. \\n- **Vision**: Clear, compelling long-term goals that inspire decision-making. \\n- **Risk Taking**: Comfort with calculated risks for potential rewards. \\n- **Self-Motivation**: Strong internal drive to set and achieve ambitious goals. \\n- **Problem-Solving**: Critical thinking and creativity to tackle issues innovatively. \\n- **Confidence**: Belief in their ideas and skills, fostering trust from others. \\n- **Customer Focus**: Understanding customer needs to create desirable products/services. \\n- **Strategic Working Ethic**: Commitment and discipline to work hard towards objectives. \\n- **Financial Acumen**: Proficiency in budgeting and financial management for business health. \\n- **Networking Ability**: Building connections for resources, support, and collaboration. \\nThese traits collectively enable innovation, effective leadership, and sustainable business success.', 'rephrased_text_response': \"Successful entrepreneurs have important qualities: \\n- **Passion**: Strong commitment to their business idea, pushing through difficulties. \\n- **Resilience**: Ability to bounce back from failures and learn without losing focus. \\n- **Adaptability**: Willingness to change plans based on market trends. \\n- **Vision**: Clear long-term goals that guide their choices. \\n- **Risk Taking**: Willingness to take smart risks for possible gains. \\n- **Self-Motivation**: Inner drive to set and reach high goals. \\n- **Problem-Solving**: Creative thinking to find new solutions to challenges. \\n- **Confidence**: Trust in their ideas and abilities, which earns others' trust. \\n- **Customer Focus**: Awareness of what customers want to create appealing products/services. \\n- **Strategic Working Ethic**: Dedication and discipline to work hard for their goals. \\n- **Financial Acumen**: Skill in managing budgets and finances for business success. \\n- **Networking Ability**: Building relationships for support and resources. \\nThese qualities together foster innovation, strong leadership, and lasting business success.\"}, {'input_text': 'Factors Affecting Entrepreneurial Development:\\n\\n- **Economic Environment**:\\n  - Market Condition: Influenced by demand, supply, competition, and economic growth.\\n  - Access to Finance: Availability of funds from banks, venture capital, and investors.\\n  - Inflation and Interest Rates: High inflation increases costs; low interest rates encourage borrowing.\\n\\n- **Political and Legal Environment**:\\n  - Government Policies: Tax incentives and grants support entrepreneurship.\\n  - Regulatory Laws: Licensing, labor, and environmental regulations impact business operations.\\n  - Political Stability: Peaceful environments boost business confidence.\\n\\n- **Socio-cultural Factors**:\\n  - Culture and Attitudes: Societal views on entrepreneurship encourage risk-taking.\\n  - Education and Skills: Quality training enhances entrepreneurial potential.\\n  - Networking and Support Systems: Access to mentorship and communities aids learning.\\n\\n- **Technological Factors**:\\n  - Innovation: Technological advancements create new business opportunities.\\n  - Digital Infrastructure: Internet and digital tools enhance marketing and communication.\\n  - Research and Development: Drives new ideas and product creation.\\n\\n- **Individual Characteristics**:\\n  - Personality Traits: Risk tolerance, self-confidence, and creativity are crucial.\\n  - Experience and Knowledge: Industry knowledge and experience aid decision-making.\\n  - Motivation and Goals: Driven by personal and societal objectives.', 'rephrased_text_response': \"Factors Influencing Entrepreneurial Growth:\\n\\n- **Economic Environment**:\\n  - Market Conditions: Affected by demand, supply, competition, and economic progress.\\n  - Access to Funding: Availability of money from banks, investors, and venture capital.\\n  - Inflation and Interest Rates: High inflation raises costs; lower interest rates promote borrowing.\\n\\n- **Political and Legal Environment**:\\n  - Government Support: Tax breaks and grants help new businesses.\\n  - Regulations: Licensing, labor, and environmental laws affect how businesses operate.\\n  - Political Stability: A peaceful setting increases business confidence.\\n\\n- **Socio-cultural Factors**:\\n  - Culture and Mindset: Society's views on entrepreneurship encourage taking risks.\\n  - Education and Skills: Good training improves entrepreneurial abilities.\\n  - Networking and Support: Access to mentors and community support enhances learning.\\n\\n- **Technological Factors**:\\n  - Innovation: New technologies open up business opportunities.\\n  - Digital Tools: The internet and digital resources improve marketing and communication.\\n  - Research and Development: Leads to new ideas and products.\\n\\n- **Personal Traits**:\\n  - Personality: Traits like risk-taking, confidence, and creativity are important.\\n  - Experience and Knowledge: Understanding the industry helps in making decisions.\\n  - Motivation and Goals: Driven by personal ambitions and societal needs.\"}, {'input_text': 'Motivation is the impulse driving goal-directed behavior, crucial for entrepreneurs in risk-taking and vision pursuit. \\n\\nTypes of Motivation:\\n- Intrinsic: Driven by internal rewards like personal satisfaction and accomplishment.\\n- Extrinsic: Driven by external rewards such as money and recognition.\\n\\nMotivating Factors for Entrepreneurs:\\n- Personal Fulfillment: Turning passion into business and contributing meaningfully.\\n- Financial Security: Seeking wealth and financial stability for self and family.\\n- Freedom and Independence: Desire for autonomy and self-empowerment.\\n- Impact and Contribution: Addressing societal needs and challenges.\\n- Challenge and Growth: Overcoming challenges and continuous learning.\\n- Recognition and Achievement: Desire for recognition and accomplishment.\\n- Networking and Community: Building connections for support and resources.', 'rephrased_text_response': 'Motivation is what drives people to achieve their goals, which is especially important for entrepreneurs who take risks and pursue their visions. \\n\\nTypes of Motivation:\\n- Intrinsic: Motivated by personal rewards like satisfaction and achievement.\\n- Extrinsic: Motivated by outside rewards such as money and praise.\\n\\nMotivating Factors for Entrepreneurs:\\n- Personal Fulfillment: Transforming passion into a business and making a meaningful contribution.\\n- Financial Security: Aiming for wealth and stability for themselves and their families.\\n- Freedom and Independence: Wanting autonomy and self-control.\\n- Impact and Contribution: Meeting societal needs and challenges.\\n- Challenge and Growth: Facing obstacles and learning continuously.\\n- Recognition and Achievement: Wanting acknowledgment and success.\\n- Networking and Community: Creating connections for support and resources.'}, {'input_text': \"McClelland's Achievement Motivation Theory identifies three primary needs driving human motivation: achievement, affiliation, and power. \\n\\n- **Need for Achievement (nAch):** Involves setting challenging yet attainable goals, risk calculation, and seeking feedback for progress and success. \\n- **Need for Affiliation (nAff):** Focuses on forming friendships and teamwork, preferring cooperative and harmonious work environments. \\n- **Need for Power (nPow):** Desires to influence and lead, with a focus on decision-making and control, either for personal or organizational benefit.\\n\\nApplications include self-assessment for career alignment, employee motivation through tailored tasks and environments, and fostering entrepreneurial development by aligning with intrinsic motivation for challenging goals.\", 'rephrased_text_response': \"McClelland's Achievement Motivation Theory highlights three main needs that motivate people: achievement, affiliation, and power. \\n\\n- **Need for Achievement (nAch):** This involves setting tough but reachable goals, assessing risks, and looking for feedback to measure progress and success. \\n- **Need for Affiliation (nAff):** This centers on building friendships and teamwork, favoring friendly and cooperative work settings. \\n- **Need for Power (nPow):** This is the wish to influence and lead, focusing on making decisions and having control, whether for personal gain or for the organization.\\n\\nUses of this theory include self-evaluation for career choices, motivating employees with suitable tasks and settings, and encouraging entrepreneurship by connecting with personal motivation for ambitious goals.\"}, {'input_text': '- **Entrepreneurial Personality**: Focuses on individual traits like resilience, motivation, creativity, and risk-taking, essential for overcoming challenges and innovating. \\n- **Entrepreneurial Task**: Involves identifying and executing opportunities, market needs, innovation, strategy planning, flexibility, and problem-solving. \\n- **External Environment**: Success is influenced by economic, social, political, and technological factors. A supportive environment with policies and resources fosters growth. \\n- **Organizational Context**: Emphasizes the role of supportive structures, collaboration, defined roles, and innovation in established organizations for entrepreneurial and intrapreneurial development. \\n- These elements collectively form a framework impacting entrepreneurial success or failure.', 'rephrased_text_response': '- **Entrepreneurial Personality**: Highlights traits like resilience, motivation, creativity, and willingness to take risks, which are crucial for facing challenges and driving innovation. \\n- **Entrepreneurial Task**: Involves spotting and acting on opportunities, understanding market needs, innovating, planning strategies, being adaptable, and solving problems. \\n- **External Environment**: Success depends on economic, social, political, and technological factors. A supportive setting with good policies and resources helps growth. \\n- **Organizational Context**: Stresses the importance of supportive systems, teamwork, clear roles, and innovation in established organizations for fostering entrepreneurship and intrapreneurship. \\n- Together, these factors create a framework that affects whether entrepreneurship succeeds or fails.'}, {'input_text': 'An intrapreneur is an employee within a large company who acts like an entrepreneur, driving new business ideas and innovation. Key characteristics include: \\n- **Liberty to Innovate**: Freedom to develop ideas, often isolated from regular workflows. \\n- **Risk Mitigation**: Operates with company support, sharing risks and reducing personal financial exposure. \\n- **Corporate Support**: Backed by management with access to resources like funding and infrastructure. \\n- **Focus on Growth**: Encourages innovation to keep the company competitive and improve processes.', 'rephrased_text_response': \"An intrapreneur is a worker in a big company who behaves like an entrepreneur, promoting new ideas and innovations. Important traits include: \\n- **Freedom to Innovate**: Ability to create ideas, usually away from normal tasks. \\n- **Shared Risk**: Works with company backing, minimizing personal financial risk. \\n- **Support from the Company**: Receives help from management and has access to resources like money and facilities. \\n- **Emphasis on Growth**: Promotes new ideas to maintain the company's competitiveness and enhance operations.\"}, {'input_text': 'Critical elements in an intrapreneurial environment include: \\n- **Innovative Ideas**: Encouraging new ideas and staying updated with technology fosters innovative thinking. \\n- **Promote Experimentation**: Supports learning from failures and refining ideas into successful outcomes. \\n- **Availability of Resources**: Essential financial and human resources must be readily available for innovation. \\n- **Foster Collaboration**: Encourages diverse views and skills, enhancing creativity and effectiveness. \\n- **Reward System**: Motivates intrapreneurs through recognition and incentives, driving further innovation. \\n- **Top Management Support**: Provides authority and resources, crucial for executing intrapreneurial ideas successfully.', 'rephrased_text_response': 'Key factors in an intrapreneurial setting are: \\n- **New Ideas**: Encouraging fresh concepts and keeping up with technology boosts creativity. \\n- **Encourage Experimentation**: Helps learn from mistakes and improve ideas for better results. \\n- **Resource Availability**: Necessary financial and human resources should be accessible for innovation. \\n- **Encourage Teamwork**: Promotes different perspectives and skills, improving creativity and efficiency. \\n- **Incentive System**: Rewards intrapreneurs with recognition and benefits, encouraging more innovation. \\n- **Support from Management**: Offers the power and resources needed to successfully implement intrapreneurial ideas.'}, {'input_text': \"Entrepreneurs can be classified based on various criteria: \\n\\n- **Economic Development**: \\n  - *Innovating Entrepreneurs*: Innovators creating new products/services.\\n  - *Adoptive Entrepreneurs*: Adapt others' innovations for their markets.\\n  - *Fabian Entrepreneurs*: Risk-averse, prefer traditional methods.\\n  - *Drone Entrepreneurs*: Resist change, miss new opportunities.\\n\\n- **Type of Business**: \\n  - *Business Entrepreneurs*: Introduce new products/services.\\n  - *Trading Entrepreneurs*: Focus on buying and selling.\\n  - *Industrial Entrepreneurs*: Create products/services based on customer needs.\\n  - *Corporate Entrepreneurs*: Innovate within corporate settings.\\n  - *Agricultural Entrepreneurs*: Use technology to enhance agriculture.\\n\\n- **Technology Utilization**: \\n  - *Technical Entrepreneurs*: Focus on commercializing inventions.\\n  - *Non-technical Entrepreneurs*: Develop marketing plans without tech focus.\\n  - *Professional Entrepreneurs*: Form businesses but don't manage them.\\n\\n- **Motivation**: \\n  - *Pure Entrepreneurs*: Driven by psychological, economic, and ethical factors.\\n  - *Induced Entrepreneurs*: Motivated by government policies.\\n  - *Motivated Entrepreneurs*: Inspired by new production/sale opportunities.\", 'rephrased_text_response': 'Entrepreneurs can be categorized in several ways: \\n\\n- **Economic Development**: \\n  - *Innovating Entrepreneurs*: Create new products or services.\\n  - *Adoptive Entrepreneurs*: Modify existing innovations for their own markets.\\n  - *Fabian Entrepreneurs*: Avoid risks and stick to traditional methods.\\n  - *Drone Entrepreneurs*: Resist change and overlook new chances.\\n\\n- **Type of Business**: \\n  - *Business Entrepreneurs*: Launch new products or services.\\n  - *Trading Entrepreneurs*: Concentrate on buying and selling.\\n  - *Industrial Entrepreneurs*: Develop products or services based on customer demands.\\n  - *Corporate Entrepreneurs*: Innovate within companies.\\n  - *Agricultural Entrepreneurs*: Use technology to improve farming.\\n\\n- **Technology Utilization**: \\n  - *Technical Entrepreneurs*: Focus on making inventions marketable.\\n  - *Non-technical Entrepreneurs*: Create marketing strategies without a tech focus.\\n  - *Professional Entrepreneurs*: Start businesses but do not run them.\\n\\n- **Motivation**: \\n  - *Pure Entrepreneurs*: Motivated by psychological, economic, and ethical reasons.\\n  - *Induced Entrepreneurs*: Influenced by government initiatives.\\n  - *Motivated Entrepreneurs*: Driven by new opportunities in production or sales.'}, {'input_text': 'Entrepreneurial Development Programs (EDPs) are structured initiatives aimed at training individuals to start and run successful businesses. They are crucial for those lacking formal business experience, covering business planning, financial management, marketing strategies, and risk management. Objectives include: \\n- Skill Building: Impart practical skills like problem-solving, leadership, and communication.\\n- Entrepreneurial Mindset: Foster proactive, innovative thinking and confidence.\\n- Talent Identification: Identify and nurture entrepreneurial talent for feasible business models.\\n- Encourage Innovation: Promote creative thinking for competitive market solutions.\\n- Promote Economic Growth: Create jobs and stimulate regional economic development.\\n- Reduce Unemployment: Offer alternative career paths to alleviate unemployment.\\n- Support Financial Independence: Encourage financial planning for self-reliance in ventures.', 'rephrased_text_response': 'Entrepreneurial Development Programs (EDPs) are organized efforts to help people learn how to start and manage successful businesses. They are especially important for those without formal business training, covering areas like business planning, financial management, marketing, and risk management. The goals include: \\n- Skill Building: Teach practical skills such as problem-solving, leadership, and communication.\\n- Entrepreneurial Mindset: Encourage proactive and creative thinking along with self-confidence.\\n- Talent Identification: Find and develop entrepreneurial talent for viable business ideas.\\n- Encourage Innovation: Inspire creative solutions for a competitive market.\\n- Promote Economic Growth: Generate jobs and boost local economies.\\n- Reduce Unemployment: Provide alternative career options to help reduce joblessness.\\n- Support Financial Independence: Promote financial planning for self-sufficiency in business.'}, {'input_text': 'Stages of Entrepreneurial Development Programs (EDPs) are crucial for creating successful entrepreneurs and are divided into three phases:\\n\\n- **Pre-Training Stage**: \\n  - Focuses on screening and profiling potential entrepreneurs.\\n  - Involves selection of participants interested in business ventures.\\n  - Conducts resource and market analysis to determine business viability.\\n  - Organizes seminars and workshops for initial motivation.\\n\\n- **Training Stage**: \\n  - Core stage providing essential skills and information.\\n  - Covers business management skills, financial education, and legal knowledge.\\n  - Includes psychological and behavioral coaching to develop resilience and innovation.\\n\\n- **Post-Training Stage**: \\n  - Offers continuous support to entrepreneurs.\\n  - Provides mentorship and networking opportunities.\\n  - Assists in accessing funding from various sources.\\n  - Involves monitoring and follow-up to ensure progress and address challenges.', 'rephrased_text_response': 'The stages of Entrepreneurial Development Programs (EDPs) are important for building successful entrepreneurs and consist of three phases:\\n\\n- **Pre-Training Stage**: \\n  - Aims to identify and assess potential entrepreneurs.\\n  - Selects participants interested in starting businesses.\\n  - Analyzes resources and market conditions to check business potential.\\n  - Holds seminars and workshops to inspire initial interest.\\n\\n- **Training Stage**: \\n  - The main phase that teaches key skills and knowledge.\\n  - Includes business management, financial literacy, and legal basics.\\n  - Provides coaching to enhance resilience and creativity.\\n\\n- **Post-Training Stage**: \\n  - Continues to support entrepreneurs after training.\\n  - Offers mentorship and networking chances.\\n  - Helps in finding funding from different sources.\\n  - Involves follow-up to track progress and tackle challenges.'}, {'input_text': '- **National Small Industries Corporation (NSIC):** Promotes small industries in India through credit support via bank tie-ups, skill training in technical and business management, and marketing through government procurement schemes.\\n- **Small Industries Development Bank of India (SIDBI):** Supports MSMEs with financial products like loans and venture capital, advisory services for resource optimization, and startup support through collaborations.\\n- **National Institute for Entrepreneurship and Small Business Development (NIESBUD):** Offers entrepreneurship training, consultancy services, and conducts R&D on entrepreneurship trends and challenges.\\n- **Micro Units Development and Refinance Agency (MUDRA):** Provides credit support under PMMY with schemes like Shishu (up to ₹50,000), Kishor (up to ₹5 lakhs), and Tarun (up to ₹10 lakhs) loans for small units.', 'rephrased_text_response': '- **National Small Industries Corporation (NSIC):** Supports small businesses in India by providing credit through banks, offering skill training in technical and business areas, and facilitating marketing through government purchasing programs.\\n- **Small Industries Development Bank of India (SIDBI):** Assists MSMEs with financial options such as loans and venture capital, offers advice for better resource use, and helps startups through partnerships.\\n- **National Institute for Entrepreneurship and Small Business Development (NIESBUD):** Provides training for entrepreneurs, consultancy services, and researches trends and challenges in entrepreneurship.\\n- **Micro Units Development and Refinance Agency (MUDRA):** Offers credit support under PMMY with loan schemes like Shishu (up to ₹50,000), Kishor (up to ₹5 lakhs), and Tarun (up to ₹10 lakhs) for small businesses.'}, {'input_text': \"- **PMEGP (Prime Minister's Employment Generation Programme):** Provides finance and subsidies to micro-enterprises, targeting resource-poor individuals in rural and urban areas to promote sustainable business and local employment.\\n- **Startup India Initiative:** Aims to foster innovation and expand the startup ecosystem with funding support, incubation, mentorship, and eased compliance for startups.\\n- **Stand-Up India Scheme:** Offers financial assistance to women entrepreneurs and SC/ST communities to start new ventures, promoting inclusive growth and entrepreneurship among underprivileged groups.\\n- **Skill India Mission:** Focuses on enhancing employability through vocational training, aligning with industry needs to enable youth to become entrepreneurs or integrate into existing industries.\", 'rephrased_text_response': \"- **PMEGP (Prime Minister's Employment Generation Programme):** Provides funding and support to small businesses, helping low-income individuals in both rural and urban areas to create sustainable jobs.\\n- **Startup India Initiative:** Encourages innovation and growth in the startup sector by offering financial help, mentoring, and simplified regulations for new businesses.\\n- **Stand-Up India Scheme:** Gives financial support to women and SC/ST communities to start new businesses, fostering inclusive growth and entrepreneurship among disadvantaged groups.\\n- **Skill India Mission:** Aims to improve job readiness through vocational training, matching skills with industry demands so that young people can start their own businesses or join existing ones.\"}, {'input_text': 'Problems faced by EDPs include: \\n\\n- **Limited Awareness**: Rural individuals often lack awareness of EDPs, missing out on supportive services for business enhancement.\\n- **Inadequate Funding**: Budget constraints limit training quality, reach, and access to digital tools, affecting program effectiveness.\\n- **Lack of Skills**: Skills provided may not align with industry demands, lacking emerging trends and technologies.\\n- **Poor After-Training Support**: Insufficient post-training support leads to challenges in sustaining businesses due to lack of mentoring and advisory services.\\n- **Regulatory Challenges**: New entrepreneurs face compliance, licensing, and tax issues, especially those from rural backgrounds.\\n- **Negligence of Customized Training**: Standardized training fails to meet specific needs, such as those of women balancing work and family or rural entrepreneurs needing local market information.', 'rephrased_text_response': 'EDPs face several issues: \\n\\n- **Limited Awareness**: Many people in rural areas do not know about EDPs, missing out on help for their businesses.\\n- **Inadequate Funding**: Budget limits reduce the quality of training and access to digital tools, making programs less effective.\\n- **Lack of Skills**: The skills taught may not match what industries need, missing out on new trends and technologies.\\n- **Poor After-Training Support**: A lack of support after training makes it hard for businesses to thrive due to missing mentorship and advice.\\n- **Regulatory Challenges**: New business owners, especially from rural areas, struggle with compliance, licensing, and tax issues.\\n- **Negligence of Customized Training**: Generic training does not address specific needs, like those of women managing work and family or rural entrepreneurs needing local market insights.'}]\n"
     ]
    }
   ],
   "source": [
    "print(final_list)"
   ]
  },
  {
   "cell_type": "code",
   "execution_count": 179,
   "id": "814d216c-b8f3-4650-bb24-d29915f6d58b",
   "metadata": {
    "collapsed": true,
    "jupyter": {
     "outputs_hidden": true
    }
   },
   "outputs": [
    {
     "name": "stdout",
     "output_type": "stream",
     "text": [
      "<class 'dict'>\n",
      "<class 'dict'>\n",
      "<class 'dict'>\n",
      "<class 'dict'>\n",
      "<class 'dict'>\n",
      "<class 'dict'>\n",
      "<class 'dict'>\n",
      "<class 'dict'>\n",
      "<class 'dict'>\n",
      "<class 'dict'>\n",
      "<class 'dict'>\n",
      "<class 'dict'>\n",
      "<class 'dict'>\n",
      "<class 'dict'>\n",
      "<class 'dict'>\n",
      "<class 'dict'>\n",
      "<class 'dict'>\n",
      "<class 'dict'>\n"
     ]
    }
   ],
   "source": [
    "for i in final_list:\n",
    "    print(type(i))"
   ]
  },
  {
   "cell_type": "code",
   "execution_count": 181,
   "id": "9ccd4661-6614-4d99-9620-d73e7b9e602d",
   "metadata": {
    "collapsed": true,
    "jupyter": {
     "outputs_hidden": true
    }
   },
   "outputs": [],
   "source": [
    "summAnsList = []\n",
    "rephrasedAnsList = []\n",
    "for i in final_list:\n",
    "    summAnsList.append(i['input_text'])\n",
    "    rephrasedAnsList.append(i['rephrased_text_response'])"
   ]
  },
  {
   "cell_type": "code",
   "execution_count": 182,
   "id": "fd8b0c8b-bf67-49e1-a27b-854537dfcb78",
   "metadata": {
    "collapsed": true,
    "jupyter": {
     "outputs_hidden": true
    }
   },
   "outputs": [],
   "source": [
    "final_df = pd.DataFrame({'Summary' : summAnsList,\n",
    "                         'Rephrased Ans' : rephrasedAnsList\n",
    "                        })"
   ]
  },
  {
   "cell_type": "code",
   "execution_count": 183,
   "id": "3393d342-6b50-454e-8802-dc4d8450f712",
   "metadata": {
    "collapsed": true,
    "jupyter": {
     "outputs_hidden": true
    }
   },
   "outputs": [
    {
     "data": {
      "text/html": [
       "<div>\n",
       "<style scoped>\n",
       "    .dataframe tbody tr th:only-of-type {\n",
       "        vertical-align: middle;\n",
       "    }\n",
       "\n",
       "    .dataframe tbody tr th {\n",
       "        vertical-align: top;\n",
       "    }\n",
       "\n",
       "    .dataframe thead th {\n",
       "        text-align: right;\n",
       "    }\n",
       "</style>\n",
       "<table border=\"1\" class=\"dataframe\">\n",
       "  <thead>\n",
       "    <tr style=\"text-align: right;\">\n",
       "      <th></th>\n",
       "      <th>Summary</th>\n",
       "      <th>Rephrased Ans</th>\n",
       "    </tr>\n",
       "  </thead>\n",
       "  <tbody>\n",
       "    <tr>\n",
       "      <th>0</th>\n",
       "      <td>An entrepreneur is a business founder who iden...</td>\n",
       "      <td>An entrepreneur is someone who starts a busine...</td>\n",
       "    </tr>\n",
       "    <tr>\n",
       "      <th>1</th>\n",
       "      <td>- Entrepreneurship involves identifying and cr...</td>\n",
       "      <td>- Entrepreneurship is about spotting and creat...</td>\n",
       "    </tr>\n",
       "    <tr>\n",
       "      <th>2</th>\n",
       "      <td>Entrepreneurship is crucial for: \\n- **Employm...</td>\n",
       "      <td>Entrepreneurship is important for: \\n- **Job C...</td>\n",
       "    </tr>\n",
       "    <tr>\n",
       "      <th>3</th>\n",
       "      <td>Entrepreneurial competencies and traits are es...</td>\n",
       "      <td>Entrepreneurial skills and qualities are cruci...</td>\n",
       "    </tr>\n",
       "    <tr>\n",
       "      <th>4</th>\n",
       "      <td>Major competencies for superior entrepreneuria...</td>\n",
       "      <td>Key skills for strong entrepreneurial success ...</td>\n",
       "    </tr>\n",
       "  </tbody>\n",
       "</table>\n",
       "</div>"
      ],
      "text/plain": [
       "                                             Summary  \\\n",
       "0  An entrepreneur is a business founder who iden...   \n",
       "1  - Entrepreneurship involves identifying and cr...   \n",
       "2  Entrepreneurship is crucial for: \\n- **Employm...   \n",
       "3  Entrepreneurial competencies and traits are es...   \n",
       "4  Major competencies for superior entrepreneuria...   \n",
       "\n",
       "                                       Rephrased Ans  \n",
       "0  An entrepreneur is someone who starts a busine...  \n",
       "1  - Entrepreneurship is about spotting and creat...  \n",
       "2  Entrepreneurship is important for: \\n- **Job C...  \n",
       "3  Entrepreneurial skills and qualities are cruci...  \n",
       "4  Key skills for strong entrepreneurial success ...  "
      ]
     },
     "execution_count": 183,
     "metadata": {},
     "output_type": "execute_result"
    }
   ],
   "source": [
    "final_df.head()"
   ]
  },
  {
   "cell_type": "code",
   "execution_count": 185,
   "id": "e7447edc-fc41-4b44-9aa1-8ca8b50d6398",
   "metadata": {
    "collapsed": true,
    "jupyter": {
     "outputs_hidden": true
    }
   },
   "outputs": [],
   "source": [
    "final_df.to_csv('sample_1.csv', index=False)"
   ]
  },
  {
   "cell_type": "code",
   "execution_count": null,
   "id": "90752cc0-11b9-4bab-a8c9-120fdb413847",
   "metadata": {
    "collapsed": true,
    "jupyter": {
     "outputs_hidden": true
    }
   },
   "outputs": [],
   "source": []
  }
 ],
 "metadata": {
  "kernelspec": {
   "display_name": "Python 3 (ipykernel)",
   "language": "python",
   "name": "python3"
  },
  "language_info": {
   "codemirror_mode": {
    "name": "ipython",
    "version": 3
   },
   "file_extension": ".py",
   "mimetype": "text/x-python",
   "name": "python",
   "nbconvert_exporter": "python",
   "pygments_lexer": "ipython3",
   "version": "3.12.1"
  }
 },
 "nbformat": 4,
 "nbformat_minor": 5
}
